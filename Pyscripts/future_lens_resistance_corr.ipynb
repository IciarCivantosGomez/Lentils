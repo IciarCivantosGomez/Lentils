{
 "cells": [
  {
   "cell_type": "code",
   "execution_count": null,
   "metadata": {},
   "outputs": [],
   "source": [
    "\"\"\"\n",
    "@author: Iciar Civantos\n",
    "May 2022\n",
    "\n",
    "The aim of this script is calculating two different correlation matrices. \n",
    "First matrix returns correlations among the predictors. \n",
    "The second matrix shows correlations between the target variable and the predictors.\n",
    "\n",
    "\"\"\""
   ]
  },
  {
   "cell_type": "code",
   "execution_count": null,
   "metadata": {
    "id": "cf_xHReXZE1v"
   },
   "outputs": [],
   "source": [
    "import pandas as pd\n",
    "import numpy as np\n",
    "import sys\n",
    "import os\n",
    "sys.path.append('..')\n",
    "\n",
    "import warnings\n",
    "import matplotlib.pyplot as plt\n",
    "import plotly.express as px\n",
    "import numpy as np\n",
    "import pandas as pd\n",
    "pd.options.mode.chained_assignment = None\n",
    "import seaborn as sns"
   ]
  },
  {
   "cell_type": "code",
   "execution_count": null,
   "metadata": {
    "executionInfo": {
     "elapsed": 277,
     "status": "ok",
     "timestamp": 1643734297797,
     "user": {
      "displayName": "Icíar Civantos Gómez",
      "photoUrl": "https://lh3.googleusercontent.com/a/default-user=s64",
      "userId": "06033810409542157400"
     },
     "user_tz": -60
    },
    "id": "50P7QiEzMrlX"
   },
   "outputs": [],
   "source": [
    "import os\n",
    "pathdata = 'datasets/'\n",
    "pathresults = 'results'\n",
    "if not os.path.exists(pathresults):\n",
    "    os.makedirs(pathresults)"
   ]
  },
  {
   "cell_type": "markdown",
   "metadata": {
    "id": "yY8mwkJjPBzR"
   },
   "source": [
    "## **Lentils evaluated for their resistance to rust in the present**"
   ]
  },
  {
   "cell_type": "markdown",
   "metadata": {
    "id": "jMTKTFKNXRSg"
   },
   "source": [
    "## Load Data Rust Lentils: Temperature and Precipitation"
   ]
  },
  {
   "cell_type": "code",
   "execution_count": null,
   "metadata": {},
   "outputs": [],
   "source": [
    "roya_raw = pd.read_csv(pathdata+\"DatosPrecip/ROYA_Completa_fut_pres.txt\",decimal=',',sep= '\\t')\n",
    "\n",
    "cols_to_drop = list(roya_raw.columns[0:5]) + list(roya_raw.columns[[7, 8, 9, 10]])\n",
    "roya_raw = roya_raw.drop(cols_to_drop, axis = 1)\n",
    "\n",
    "roya_raw = roya_raw.rename(columns={'Longitude': 'DECLONGITUDE', 'Latitude': 'DECLATITUDE'})\n",
    "roya_raw = roya_raw.applymap(lambda x: float(x))\n",
    "\n",
    "roya_raw[['BBC_126', 'BBC_370', 'BBC_585', 'CNRM_126', 'CNRM_370','CNRM_585', 'IPSL_126', 'IPSL_370', 'IPSL_585']] = roya_raw[['BBC_126', 'BBC_370', 'BBC_585', 'CNRM_126', 'CNRM_370','CNRM_585', 'IPSL_126', 'IPSL_370', 'IPSL_585']].applymap(lambda x: x*10)\n",
    "roya_raw.drop_duplicates(inplace = True)\n",
    "\n",
    "roya_raw.head(1)"
   ]
  },
  {
   "cell_type": "code",
   "execution_count": null,
   "metadata": {},
   "outputs": [],
   "source": [
    "print(roya_raw.shape)"
   ]
  },
  {
   "cell_type": "markdown",
   "metadata": {
    "id": "SvTFCGaiXY45"
   },
   "source": [
    "## Load Data Rust Lentils: radiation, soil conditions, DSR and coordinates"
   ]
  },
  {
   "cell_type": "code",
   "execution_count": null,
   "metadata": {
    "colab": {
     "base_uri": "https://localhost:8080/",
     "height": 81
    },
    "executionInfo": {
     "elapsed": 225,
     "status": "ok",
     "timestamp": 1643733940559,
     "user": {
      "displayName": "Icíar Civantos Gómez",
      "photoUrl": "https://lh3.googleusercontent.com/a/default-user=s64",
      "userId": "06033810409542157400"
     },
     "user_tz": -60
    },
    "id": "hrj63EmdCQ8d",
    "outputId": "285ba2c7-5119-4141-97a6-4c9fddbb3ced"
   },
   "outputs": [],
   "source": [
    "roya = pd.read_csv(pathdata+\"DatosPresente/fichtraining_ROYA_CAMPO_nondup.csv\",decimal=',',sep=';',)\n",
    "roya = roya[['srad_12', 'srad_annual', 't_bulk_dens', 't_sand', 't_soilwater_cap', 't_teb', 'DECLONGITUDE','DECLATITUDE','ROYA_CAMPO_AVERAGE_DSR']]\n",
    "\n",
    "roya.head(1)"
   ]
  },
  {
   "cell_type": "code",
   "execution_count": null,
   "metadata": {},
   "outputs": [],
   "source": [
    "print(roya.shape)"
   ]
  },
  {
   "cell_type": "markdown",
   "metadata": {},
   "source": [
    "## Dataset Present Rust Lentils"
   ]
  },
  {
   "cell_type": "code",
   "execution_count": null,
   "metadata": {},
   "outputs": [],
   "source": [
    "roya_presente = pd.merge(roya_raw[['DECLONGITUDE','DECLATITUDE','CURRENT_BIO1', 'CURRENT_BIO12']],roya, how='inner', on = ['DECLONGITUDE','DECLATITUDE'])\n",
    "roya_presente.drop_duplicates(subset = ['DECLONGITUDE','DECLATITUDE'], inplace = True)\n",
    "roya_presente.head()"
   ]
  },
  {
   "cell_type": "code",
   "execution_count": null,
   "metadata": {},
   "outputs": [],
   "source": [
    "print(roya_presente.shape)"
   ]
  },
  {
   "cell_type": "markdown",
   "metadata": {
    "id": "SOmfsXZDDMvi"
   },
   "source": [
    "## CORRELATION FEATURES"
   ]
  },
  {
   "cell_type": "code",
   "execution_count": null,
   "metadata": {
    "colab": {
     "base_uri": "https://localhost:8080/"
    },
    "executionInfo": {
     "elapsed": 40113,
     "status": "ok",
     "timestamp": 1643734078694,
     "user": {
      "displayName": "Icíar Civantos Gómez",
      "photoUrl": "https://lh3.googleusercontent.com/a/default-user=s64",
      "userId": "06033810409542157400"
     },
     "user_tz": -60
    },
    "id": "OQtRf-YjDfnl",
    "outputId": "1c702bbe-464d-4215-c449-81f6a3c38624",
    "scrolled": false
   },
   "outputs": [],
   "source": [
    "correlation_matrix = roya_presente.drop('ROYA_CAMPO_AVERAGE_DSR', axis = 1).corr()\n",
    "correlation_matrix\n"
   ]
  },
  {
   "cell_type": "code",
   "execution_count": null,
   "metadata": {},
   "outputs": [],
   "source": [
    "sns.heatmap(correlation_matrix, xticklabels=list(correlation_matrix), yticklabels=list(correlation_matrix), annot=True, fmt='.1f', linewidths = 0.5, cmap=\"coolwarm\")"
   ]
  },
  {
   "cell_type": "markdown",
   "metadata": {},
   "source": [
    "## CORRELATION TARGET"
   ]
  },
  {
   "cell_type": "code",
   "execution_count": null,
   "metadata": {},
   "outputs": [],
   "source": [
    "correlation_target = roya_presente.corr()['ROYA_CAMPO_AVERAGE_DSR'].drop('ROYA_CAMPO_AVERAGE_DSR')\n",
    "correlation_target"
   ]
  },
  {
   "cell_type": "code",
   "execution_count": null,
   "metadata": {},
   "outputs": [],
   "source": [
    "plt.rc('figure', figsize=(15, 5))\n",
    "\n",
    "\n",
    "_, ax = plt.subplots()\n",
    "ax.bar(correlation_target.index, correlation_target.values)\n",
    "\n",
    "ax.set_xlabel('Features')\n",
    "ax.set_ylabel('Correlation')\n",
    "ax.set_xticklabels(correlation_target.index, rotation=45)\n",
    "ax.set_title('Feature Correlation with Target Variable')"
   ]
  },
  {
   "cell_type": "code",
   "execution_count": null,
   "metadata": {},
   "outputs": [],
   "source": []
  }
 ],
 "metadata": {
  "colab": {
   "collapsed_sections": [],
   "name": "future_lens_resistance_all_models_V4.ipynb",
   "provenance": [
    {
     "file_id": "1lsg6ARnGBPb9uI0_N7vNB28FY-CaX-OM",
     "timestamp": 1622199618351
    }
   ]
  },
  "kernelspec": {
   "display_name": "Python 3 (ipykernel)",
   "language": "python",
   "name": "python3"
  },
  "language_info": {
   "codemirror_mode": {
    "name": "ipython",
    "version": 3
   },
   "file_extension": ".py",
   "mimetype": "text/x-python",
   "name": "python",
   "nbconvert_exporter": "python",
   "pygments_lexer": "ipython3",
   "version": "3.9.7"
  }
 },
 "nbformat": 4,
 "nbformat_minor": 1
}
