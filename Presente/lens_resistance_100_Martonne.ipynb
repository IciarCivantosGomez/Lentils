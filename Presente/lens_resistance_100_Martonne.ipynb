{
 "cells": [
  {
   "cell_type": "code",
   "execution_count": null,
   "metadata": {
    "id": "cf_xHReXZE1v"
   },
   "outputs": [],
   "source": [
    "import pandas as pd\n",
    "import numpy as np\n",
    "import sys\n",
    "import os\n",
    "sys.path.append('..')\n",
    "\n",
    "import warnings\n",
    "warnings.filterwarnings('ignore')\n",
    "\n",
    "import matplotlib.pyplot as plt\n",
    "import plotly.express as px\n",
    "import numpy as np\n",
    "import pandas as pd\n",
    "pd.options.mode.chained_assignment = None\n",
    "import seaborn as sns\n",
    "\n",
    "from sklearn.preprocessing import StandardScaler\n",
    "from sklearn.ensemble import RandomForestRegressor\n",
    "from sklearn.linear_model import RidgeCV\n",
    "from sklearn.model_selection import train_test_split, cross_validate\n",
    "from sklearn.metrics import mean_squared_error\n",
    "import xgboost\n",
    "\n",
    "import warnings\n",
    "warnings.filterwarnings(\"always\")"
   ]
  },
  {
   "cell_type": "markdown",
   "metadata": {
    "id": "ZedmqZisZE13"
   },
   "source": [
    "## **Load Data**"
   ]
  },
  {
   "cell_type": "code",
   "execution_count": null,
   "metadata": {
    "colab": {
     "base_uri": "https://localhost:8080/",
     "height": 108,
     "resources": {
      "http://localhost:8080/nbextensions/google.colab/files.js": {
       "data": "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",
       "headers": [
        [
         "content-type",
         "application/javascript"
        ]
       ],
       "ok": true,
       "status": 200,
       "status_text": ""
      }
     }
    },
    "executionInfo": {
     "elapsed": 23950,
     "status": "ok",
     "timestamp": 1625906421199,
     "user": {
      "displayName": "Icíar Civantos Gómez",
      "photoUrl": "",
      "userId": "06033810409542157400"
     },
     "user_tz": -120
    },
    "id": "odhN5cHCZSL5",
    "outputId": "33b7d53f-6953-4bbd-907d-48b6dc2315f7"
   },
   "outputs": [
    {
     "data": {
      "text/html": [
       "\n",
       "     <input type=\"file\" id=\"files-38781570-786c-473e-ad5e-3e7ecc066bf9\" name=\"files[]\" multiple disabled\n",
       "        style=\"border:none\" />\n",
       "     <output id=\"result-38781570-786c-473e-ad5e-3e7ecc066bf9\">\n",
       "      Upload widget is only available when the cell has been executed in the\n",
       "      current browser session. Please rerun this cell to enable.\n",
       "      </output>\n",
       "      <script src=\"/nbextensions/google.colab/files.js\"></script> "
      ],
      "text/plain": [
       "<IPython.core.display.HTML object>"
      ]
     },
     "metadata": {
      "tags": []
     },
     "output_type": "display_data"
    },
    {
     "name": "stdout",
     "output_type": "stream",
     "text": [
      "Saving fichtraining_ROYA_CAMPO_nondup.csv to fichtraining_ROYA_CAMPO_nondup.csv\n",
      "Saving SupplementaryTable3_RubioTeso_etal_Martonne.xlsx to SupplementaryTable3_RubioTeso_etal_Martonne.xlsx\n"
     ]
    }
   ],
   "source": [
    "from google.colab import files \n",
    "uploaded = files.upload()"
   ]
  },
  {
   "cell_type": "code",
   "execution_count": null,
   "metadata": {
    "colab": {
     "base_uri": "https://localhost:8080/",
     "height": 226
    },
    "executionInfo": {
     "elapsed": 253,
     "status": "ok",
     "timestamp": 1625906427573,
     "user": {
      "displayName": "Icíar Civantos Gómez",
      "photoUrl": "",
      "userId": "06033810409542157400"
     },
     "user_tz": -120
    },
    "id": "pzRK0FahZE15",
    "outputId": "e1d0db15-50e6-4d68-bb29-0daaeeb29863",
    "scrolled": true
   },
   "outputs": [
    {
     "data": {
      "text/html": [
       "<div>\n",
       "<style scoped>\n",
       "    .dataframe tbody tr th:only-of-type {\n",
       "        vertical-align: middle;\n",
       "    }\n",
       "\n",
       "    .dataframe tbody tr th {\n",
       "        vertical-align: top;\n",
       "    }\n",
       "\n",
       "    .dataframe thead th {\n",
       "        text-align: right;\n",
       "    }\n",
       "</style>\n",
       "<table border=\"1\" class=\"dataframe\">\n",
       "  <thead>\n",
       "    <tr style=\"text-align: right;\">\n",
       "      <th></th>\n",
       "      <th>inputs.data.species</th>\n",
       "      <th>DECLONGITUDE</th>\n",
       "      <th>DECLATITUDE</th>\n",
       "      <th>bio_1</th>\n",
       "      <th>srad_12</th>\n",
       "      <th>srad_annual</th>\n",
       "      <th>t_bulk_dens</th>\n",
       "      <th>t_sand</th>\n",
       "      <th>t_soilwater_cap</th>\n",
       "      <th>t_teb</th>\n",
       "      <th>long</th>\n",
       "      <th>ROYA_CAMPO_AVERAGE_DSR</th>\n",
       "      <th>CODIGO_BANCO</th>\n",
       "      <th>CODIGO_IAS</th>\n",
       "      <th>DECLONGROUND</th>\n",
       "      <th>DECLATROUND</th>\n",
       "    </tr>\n",
       "  </thead>\n",
       "  <tbody>\n",
       "    <tr>\n",
       "      <th>0</th>\n",
       "      <td>1</td>\n",
       "      <td>5.133333</td>\n",
       "      <td>43.916667</td>\n",
       "      <td>110.919998</td>\n",
       "      <td>5194</td>\n",
       "      <td>14868.750000</td>\n",
       "      <td>1451.699951</td>\n",
       "      <td>37.0</td>\n",
       "      <td>23.700001</td>\n",
       "      <td>28.799999</td>\n",
       "      <td>5.145833</td>\n",
       "      <td>0.000000</td>\n",
       "      <td>PI 572342</td>\n",
       "      <td>1595.0</td>\n",
       "      <td>5.13</td>\n",
       "      <td>43.91</td>\n",
       "    </tr>\n",
       "    <tr>\n",
       "      <th>1</th>\n",
       "      <td>1</td>\n",
       "      <td>16.950278</td>\n",
       "      <td>43.356944</td>\n",
       "      <td>145.125000</td>\n",
       "      <td>4663</td>\n",
       "      <td>14057.916992</td>\n",
       "      <td>1416.525024</td>\n",
       "      <td>44.0</td>\n",
       "      <td>24.924999</td>\n",
       "      <td>26.799999</td>\n",
       "      <td>16.937500</td>\n",
       "      <td>0.000000</td>\n",
       "      <td>PI 572349</td>\n",
       "      <td>1599.0</td>\n",
       "      <td>16.95</td>\n",
       "      <td>43.35</td>\n",
       "    </tr>\n",
       "    <tr>\n",
       "      <th>2</th>\n",
       "      <td>1</td>\n",
       "      <td>33.413333</td>\n",
       "      <td>36.333056</td>\n",
       "      <td>147.679993</td>\n",
       "      <td>7992</td>\n",
       "      <td>18051.416016</td>\n",
       "      <td>1516.525024</td>\n",
       "      <td>43.0</td>\n",
       "      <td>22.775000</td>\n",
       "      <td>15.600000</td>\n",
       "      <td>33.395833</td>\n",
       "      <td>0.000000</td>\n",
       "      <td>PI 572406</td>\n",
       "      <td>1631.0</td>\n",
       "      <td>33.41</td>\n",
       "      <td>36.33</td>\n",
       "    </tr>\n",
       "    <tr>\n",
       "      <th>3</th>\n",
       "      <td>1</td>\n",
       "      <td>85.516667</td>\n",
       "      <td>25.183333</td>\n",
       "      <td>263.679993</td>\n",
       "      <td>15245</td>\n",
       "      <td>18996.083984</td>\n",
       "      <td>1539.250000</td>\n",
       "      <td>47.0</td>\n",
       "      <td>21.799999</td>\n",
       "      <td>8.300000</td>\n",
       "      <td>85.520833</td>\n",
       "      <td>0.454545</td>\n",
       "      <td>PI 472137</td>\n",
       "      <td>1524.0</td>\n",
       "      <td>85.51</td>\n",
       "      <td>25.18</td>\n",
       "    </tr>\n",
       "    <tr>\n",
       "      <th>4</th>\n",
       "      <td>1</td>\n",
       "      <td>74.350000</td>\n",
       "      <td>32.333333</td>\n",
       "      <td>238.000000</td>\n",
       "      <td>9956</td>\n",
       "      <td>17067.666016</td>\n",
       "      <td>1590.425049</td>\n",
       "      <td>42.0</td>\n",
       "      <td>21.025000</td>\n",
       "      <td>13.800000</td>\n",
       "      <td>74.354167</td>\n",
       "      <td>0.909091</td>\n",
       "      <td>PI 426797</td>\n",
       "      <td>1447.0</td>\n",
       "      <td>74.34</td>\n",
       "      <td>32.33</td>\n",
       "    </tr>\n",
       "  </tbody>\n",
       "</table>\n",
       "</div>"
      ],
      "text/plain": [
       "   inputs.data.species  DECLONGITUDE  ...  DECLONGROUND  DECLATROUND\n",
       "0                    1      5.133333  ...          5.13        43.91\n",
       "1                    1     16.950278  ...         16.95        43.35\n",
       "2                    1     33.413333  ...         33.41        36.33\n",
       "3                    1     85.516667  ...         85.51        25.18\n",
       "4                    1     74.350000  ...         74.34        32.33\n",
       "\n",
       "[5 rows x 16 columns]"
      ]
     },
     "execution_count": 3,
     "metadata": {
      "tags": []
     },
     "output_type": "execute_result"
    }
   ],
   "source": [
    "roya = pd.read_csv(\"fichtraining_ROYA_CAMPO_nondup.csv\",decimal=',',sep=';',)\n",
    "\n",
    "roya.head()"
   ]
  },
  {
   "cell_type": "code",
   "execution_count": null,
   "metadata": {
    "colab": {
     "base_uri": "https://localhost:8080/",
     "height": 542
    },
    "executionInfo": {
     "elapsed": 1311,
     "status": "ok",
     "timestamp": 1625906429650,
     "user": {
      "displayName": "Icíar Civantos Gómez",
      "photoUrl": "",
      "userId": "06033810409542157400"
     },
     "user_tz": -120
    },
    "id": "RDAt7E90XY6O",
    "outputId": "71f7fffc-b3b5-4b93-e95e-91e787739f5d"
   },
   "outputs": [
    {
     "data": {
      "text/html": [
       "<html>\n",
       "<head><meta charset=\"utf-8\" /></head>\n",
       "<body>\n",
       "    <div>\n",
       "            <script src=\"https://cdnjs.cloudflare.com/ajax/libs/mathjax/2.7.5/MathJax.js?config=TeX-AMS-MML_SVG\"></script><script type=\"text/javascript\">if (window.MathJax) {MathJax.Hub.Config({SVG: {font: \"STIX-Web\"}});}</script>\n",
       "                <script type=\"text/javascript\">window.PlotlyConfig = {MathJaxConfig: 'local'};</script>\n",
       "        <script src=\"https://cdn.plot.ly/plotly-latest.min.js\"></script>    \n",
       "            <div id=\"bd38c37a-3272-42f7-9957-394b8319cc07\" class=\"plotly-graph-div\" style=\"height:525px; width:100%;\"></div>\n",
       "            <script type=\"text/javascript\">\n",
       "                \n",
       "                    window.PLOTLYENV=window.PLOTLYENV || {};\n",
       "                    \n",
       "                if (document.getElementById(\"bd38c37a-3272-42f7-9957-394b8319cc07\")) {\n",
       "                    Plotly.newPlot(\n",
       "                        'bd38c37a-3272-42f7-9957-394b8319cc07',\n",
       "                        [{\"geo\": \"geo\", \"hoverlabel\": {\"namelength\": 0}, \"hovertemplate\": \"DECLATITUDE=%{lat}<br>DECLONGITUDE=%{lon}<br>ROYA_CAMPO_AVERAGE_DSR=%{marker.color}\", \"lat\": [43.91666667, 43.35694444, 36.33305556, 25.18333333, 32.33333333, 37.079643, 37.823196, 40.59194444, 41.54361111, 30.06666667, 28.98333333, 19.51666667, 36.3, 38.38333333, 41.81194444, 11.5, 42.33333333, -36.6, 35.28333333, 37.18277778, 37.17722222, 43.13472222, 42.0, 32.608304, 28.0, 39.53333333, 28.96027778, 40.10888889, 42.77416667, 36.39, 46.905304, 38.2494, 25.18333333, 44.08333333, 40.322625, 37.56666667, 39.46666667, 29.09666667, 34.6175, 29.145027000000002, 42.40944444, 42.17277778, 39.63333333, 40.58805556, 42.57166667, 37.08333333, 42.40694444, 39.77111111, -36.6, -28.63333333, 32.994619, 37.62, 42.89305556, 42.87638889, 40.98944444, 28.05, 28.39583333, 40.73611111, -37.88333333, 42.97333333, 40.19583333, 42.22166667, 42.82777778, 42.80833333, 42.29111111, 37.21666667, 42.29777778, 40.68333333, 42.90944444, 28.56666667, 39.61194444, 41.37472222, 48.33333333, 29.14527778, 40.75833333, 37.3225, 42.42555556, 42.09972222, 42.39027778, 41.40805556, 41.66666667, 48.02863, 31.75, 38.25194444, 42.98472222, 41.0775, 42.95277778, 42.33, 42.94305556, 41.94305556, 40.51916667, 32.608304, 28.96666667, 33.367793, 41.07472222, 39.82416667, 37.67083333, 40.86722222, 40.32361111, 41.06666667, 37.30611111, 41.98611111, 40.75138889, 37.57305556, 40.86444444, 33.544635, 39.28833333, 42.35083333, 38.07055556, 39.81805556, 40.735, 42.60027778, 40.21138889, 42.96944444, 39.72972222, 42.275, 38.11027778, 39.74194444, 40.91666667, 39.4, 31.13333333, 28.0, 49.98333333, 37.901623, 40.62083333, 43.00694444, 41.01972222, 42.88611111, 39.96138889, 42.33888889, 36.94611111, 40.90361111, 39.20833333, 40.64083333, 40.03888889, 39.33333333, 40.00861111, 39.62722222, 42.60861111, 39.26666667, 42.13388889, 38.96583333, 37.49194444, 28.52666667, 39.51444444, 40.74527778, -33.45, 14.56666667, 44.22361111, 39.36666667, 40.95388889, 39.35722222, 40.14277778, 42.95, 39.46972222, 42.46388889, 38.96333333, 43.00277778, 39.92333333, 40.82444444, 40.92638889, 39.56166667, 40.51166667, 41.065, 37.34388889, 40.10888889, 38.88527778, 39.06861111, 37.35194444, 40.93972222, 37.78694444, 39.525, 37.39583333, 42.57666667, 41.33166667, 38.70277778, 39.50027778, 38.63583333, 38.98805556, 39.96638889, 37.17722222, 39.33333333, 42.91666667, 39.13666667, 39.2725, 41.2325, 39.35333333, 17.46666667, 36.7, 38.99722222, 41.05, 40.1425, 40.745, 42.32166667, 38.61388889, 41.11527778, 40.86972222, 38.71111111, 40.54472222, 41.09361111, 38.97388889, 40.68833333, 41.53805556, 39.25666667, 37.13388889, 40.63333333, 39.26888889, 42.25416667, 42.07833333, 40.88416667, 42.77416667, 37.88, 38.62194444, 42.95138889, 41.65361111, 42.35694444, 40.16888889, 41.24305556, 43.15222222, 37.71944444, 42.21333333, 38.72222222, 40.94527778, 28.79722222, 38.75194444, 42.37222222, 39.76055556, 40.50305556, 40.46361111, 42.275, 33.76062, 38.217971999999996, 9.5833, 31.81666667, 37.44, 37.41666667, 41.82083333, 42.4925, 28.60944444, 39.72222222, 39.115, 40.29916667, 40.53166667, 37.76888889, 41.04388889, 42.295, 40.95027778, 40.71666667, 41.70083333, 42.53472222, 28.5325, 26.51694444, 35.18333333, 40.7, 39.32472222], \"legendgroup\": \"\", \"lon\": [5.13333333, 16.95027778, 33.41333333, 85.51666667, 74.35, 37.410987, 32.989336, 17.11527778, 22.54444444, 73.06666667, 77.7, -98.86666667, 30.15, 37.6, 21.99472222, 39.6, -5.36666667, -72.11666667, 47.18333333, -3.0625, -2.9472222219999997, -8.931666667, 47.0, 51.749865, 80.0, 67.88333333, -13.55138889, -3.3872222219999997, -5.943333332999999, 37.18, -117.08017099999999, 48.3014, 85.51666667, 7.6, 36.569123, 41.06666667, 67.73333333, -13.47, 71.97138889, 71.27512, -4.175555556, -0.005277778, 22.41666667, -1.789722222, -5.0597222219999995, -5.5, -4.902222222, 3.024444444, -72.11666667, -53.1, 35.224340000000005, 35.86, -5.7638888889999995, -4.1125, -6.865, 79.11666667, -14.08666667, -1.6177777780000002, -71.18333333, -4.923888889, -1.616111111, -4.8555555560000005, -4.9513888889999995, -5.584722222000001, -4.141944444, 30.3, -5.897777777999999, -2.916666667, -4.075833333, -13.83333333, -1.7947222219999999, -2.9083333330000003, -1.16666667, -13.49666667, -2.868888889, -3.330555556, -0.661388889, -5.033055556, -5.390277778, -4.403055556, 26.56666667, 0.33265500000000003, -8.25, -3.203888889, -6.023611111, -5.611944444, -5.544444444, -4.034166667, -5.722222222, -4.506388889, -2.879722222, 51.749865, -13.71666667, 35.874029, -5.566944444, -2.767222222, -4.236666667, -1.9358333330000002, -3.108333333, -1.3858333330000001, 29.77583333, -5.403055556, -1.8061111109999999, -3.503611111, -2.724722222, 68.4106, -1.47, -5.383888889, -3.3061111110000003, -2.949166667, -2.833888889, -5.5655555560000005, -3.190833333, -6.125, -2.9263888889999996, -5.058333333, -3.085, 39.4925, 32.08333333, 30.63333333, 35.64083333, 80.0, 16.95, 40.155321, -2.952777778, -5.683333332999999, -5.590277778, -5.454166667000001, -3.498333333, -5.368055556, -3.1794444439999996, -2.913055556, -2.158055556, -2.8413888889999996, -2.7375, -2.266666667, -3.9455555560000004, -1.9436111109999998, -4.795555556, -1.911666667, -5.089166667, -1.444166667, -2.773611111, -13.99055556, -2.489444444, -1.7352777780000002, -70.66666667, -90.73333333, 20.31166667, -1.7, -2.415277778, -1.715, -2.568888889, -5.983333332999999, -3.5325, -6.205555556, -2.125, -5.256944444, -3.007777778, -2.7811111110000004, -2.921111111, -1.908611111, -2.89, -5.524166667, -3.7855555560000003, -3.3872222219999997, -2.149722222, -3.610277778, -3.291944444, -2.7861111110000003, -5.27, -1.977222222, -2.61, 0.27638888899999997, -5.080277778, -2.602777778, -1.897222222, -1.9683333330000001, -4.114722222, -4.300555556, -2.9472222219999997, -1.716666667, -5.001388888999999, -1.675277778, -2.318333333, -5.494166667000001, -2.3247222219999997, -97.23333333, 67.1, -1.854444444, -2.1, -3.421111111, -3.0313888889999996, -5.0191666669999995, -2.0497222219999998, -5.572777778, -2.8425, -4.177777778, -2.9575, -5.5594444439999995, -3.3438888889999996, -2.8847222219999997, -5.386666667, -1.853055556, -3.82, -2.9, -2.605833333, -5.266666667, -3.912777778, -2.8175, -5.943333332999999, -1.708611111, -2.026388889, -6.0708333329999995, -4.721944444, -5.209166667, -3.271111111, -2.731111111, -4.916111111, -2.536388889, -5.204722222, -1.91, -2.725, -17.75861111, -1.9525, -5.031944444, -3.163055556, -2.942777778, -2.960277778, -5.433333332999999, 35.885183000000005, 37.203332, 41.8667, 35.03333333, 41.03, 41.38333333, -4.176388889, -4.603055556, -13.92638889, 2.913055556, -1.996666667, -2.98, -3.030833333, -3.956666667, -5.534166667, -5.518888888999999, -3.0875, -2.766666667, -4.84, -5.275, -13.93194444, 83.8, 59.38333333, 36.61666667, -2.269166667], \"marker\": {\"color\": [0.0, 0.0, 0.0, 0.45454545454545503, 0.9090909090909091, 0.9090909090909091, 1.8181818181818201, 3.18181818181818, 3.6363636363636402, 3.6363636363636402, 6.36363636363636, 7.27272727272727, 9.09090909090909, 9.54545454545454, 10.0, 13.6363636363636, 13.6363636363636, 15.1515151515152, 16.363636363636402, 16.7398057320468, 16.8442826374179, 16.8547595857661, 18.181818181818198, 18.181818181818198, 18.181818181818198, 18.181818181818198, 20.6355990579496, 23.529411764705895, 23.921037461275603, 25.4545454545455, 25.4545454545455, 27.2727272727273, 54.545454545454504, 27.2727272727273, 27.2727272727273, 27.2727272727273, 27.7272727272727, 69.2871134669122, 29.393939393939398, 30.3030303030303, 30.896591209889003, 50.1782531194296, 35.1515151515151, 35.3467440513165, 63.878701935560706, 35.2941176470588, 35.2983183730206, 35.6888626108857, 59.0909090909091, 36.363636363636395, 36.363636363636395, 36.363636363636395, 37.8266125778946, 61.01306942024961, 38.0543664588735, 38.1818181818182, 81.3813122650018, 38.8803309223134, 39.3939393939394, 58.7203535002832, 40.1604278074866, 72.40865124189321, 40.9506833036245, 41.6515356472519, 64.9975964027965, 45.454545454545496, 42.5902082273629, 43.0168908272147, 64.4995305299782, 43.2049691065022, 81.9318360786209, 44.076584383934296, 44.2424242424242, 44.405492258253005, 69.59169342250729, 44.4982167262531, 44.622697563874, 51.874283207736795, 74.9589138591638, 45.241404804538796, 45.454545454545496, 45.454545454545496, 48.4848484848485, 45.9135040179455, 46.42294725987271, 46.5409337600484, 46.620797603294896, 46.724555711350206, 46.7556438158039, 47.647121795844704, 47.844112731103706, 57.5757575757576, 48.300658802282804, 48.4848484848485, 48.7930982091734, 48.954332329100104, 49.4236482471777, 94.1344499626708, 49.8314226298508, 50.0297088532383, 50.0, 50.2898304828347, 50.7531824019053, 50.93159004528461, 51.45573380867501, 51.5151515151515, 51.6176038396924, 51.9288093250562, 51.8895460382689, 52.3661578407158, 52.459743637550794, 94.11764705882351, 53.42666061901, 53.514562545598295, 92.39121940780659, 54.1550794713512, 54.5496552714164, 54.545454545454504, 54.545454545454504, 54.545454545454504, 54.545454545454504, 54.545454545454504, 54.545454545454504, 54.545454545454504, 61.0088686942878, 55.157053147149, 55.347593582887704, 55.9965616247945, 61.203208556149704, 56.0864307820815, 56.1174075711547, 66.5961285122037, 56.8033273915627, 81.9318360786209, 56.94007207954571, 56.945547102864296, 56.8760708628653, 57.397504456328, 57.8847296494355, 57.9570061258915, 58.0952797231851, 88.81098451650601, 58.2932333248104, 58.442979497519204, 87.16152774321381, 58.85124285588079, 69.6363636363636, 59.0909090909091, 59.0909090909091, 59.25301249559109, 59.447372110637104, 59.6605115230562, 59.92419920511129, 59.9312868533099, 76.7021444140281, 59.9205633173515, 60.114802613165295, 60.1676702130699, 60.3022227530027, 60.317268571742794, 60.49360916827539, 88.90475829807801, 60.6369285056393, 60.6049986915967, 60.589910891313, 88.90475829807801, 61.523108448105404, 61.5801282080336, 61.6096036876073, 61.857070501663294, 61.7879051395403, 61.759381346473894, 61.942959001782505, 61.942959001782505, 62.0461114473171, 61.9726678550208, 62.134537886038196, 62.3724420856089, 62.5408700451806, 62.5668449197861, 71.8667835232253, 86.2899124657816, 63.02580348318621, 63.0952797231851, 63.339275103981, 63.458110516934006, 85.4182971883495, 63.636363636363605, 63.636363636363605, 63.7254901960784, 64.4995305299781, 87.16152774321381, 72.9385019312442, 74.56922162804521, 64.4953298040163, 64.7103164525675, 64.8430727974816, 65.0462388770527, 65.27888043619761, 88.90475829807801, 83.3403345432697, 65.47139380518159, 83.6750666334852, 65.6938008104855, 65.6897751147721, 65.8038146346285, 79.66299467027909, 65.95365418894829, 66.3459369963239, 66.250742721331, 66.3160969909436, 88.90475829807801, 66.67542991206061, 66.650516951919, 92.39121940780659, 68.6974464446496, 68.6757774105904, 68.9363283269557, 69.0318460738285, 69.2004490636486, 69.8339851112617, 70.3296188603672, 74.5231062204477, 70.9403481773063, 71.4580885360922, 71.4724527494353, 83.6750666334852, 72.04512814913299, 78.73699095313171, 72.2849655034185, 72.7272727272727, 72.7272727272727, 72.7272727272727, 72.7272727272727, 72.7272727272727, 72.7272727272727, 73.0872795711001, 73.2156833042995, 78.7415534725638, 74.33155080213899, 75.7938832833242, 81.4999143042903, 77.8332688759129, 77.25657755797971, 78.08046727810951, 78.2769704752677, 78.44537496889241, 79.49912923013959, 80.94550462628571, 80.9553297861436, 81.77685659792, 81.8181818181818, 81.8181818181818, 87.8787878787879, 90.37853227676399], \"coloraxis\": \"coloraxis\"}, \"name\": \"\", \"showlegend\": false, \"type\": \"scattergeo\"}],\n",
       "                        {\"coloraxis\": {\"colorbar\": {\"title\": {\"text\": \"ROYA_CAMPO_AVERAGE_DSR\"}}, \"colorscale\": [[0.0, \"#0d0887\"], [0.1111111111111111, \"#46039f\"], [0.2222222222222222, \"#7201a8\"], [0.3333333333333333, \"#9c179e\"], [0.4444444444444444, \"#bd3786\"], [0.5555555555555556, \"#d8576b\"], [0.6666666666666666, \"#ed7953\"], [0.7777777777777778, \"#fb9f3a\"], [0.8888888888888888, \"#fdca26\"], [1.0, \"#f0f921\"]]}, \"geo\": {\"center\": {}, \"domain\": {\"x\": [0.0, 1.0], \"y\": [0.0, 1.0]}}, \"legend\": {\"tracegroupgap\": 0}, \"margin\": {\"t\": 60}, \"template\": {\"data\": {\"bar\": [{\"error_x\": {\"color\": \"#2a3f5f\"}, \"error_y\": {\"color\": \"#2a3f5f\"}, \"marker\": {\"line\": {\"color\": \"#E5ECF6\", \"width\": 0.5}}, \"type\": \"bar\"}], \"barpolar\": [{\"marker\": {\"line\": {\"color\": \"#E5ECF6\", \"width\": 0.5}}, \"type\": \"barpolar\"}], \"carpet\": [{\"aaxis\": {\"endlinecolor\": \"#2a3f5f\", \"gridcolor\": \"white\", \"linecolor\": \"white\", \"minorgridcolor\": \"white\", \"startlinecolor\": \"#2a3f5f\"}, \"baxis\": {\"endlinecolor\": \"#2a3f5f\", \"gridcolor\": \"white\", \"linecolor\": \"white\", \"minorgridcolor\": \"white\", \"startlinecolor\": \"#2a3f5f\"}, \"type\": \"carpet\"}], \"choropleth\": [{\"colorbar\": {\"outlinewidth\": 0, \"ticks\": \"\"}, \"type\": \"choropleth\"}], \"contour\": [{\"colorbar\": {\"outlinewidth\": 0, \"ticks\": \"\"}, \"colorscale\": [[0.0, \"#0d0887\"], [0.1111111111111111, \"#46039f\"], [0.2222222222222222, \"#7201a8\"], [0.3333333333333333, \"#9c179e\"], [0.4444444444444444, \"#bd3786\"], [0.5555555555555556, \"#d8576b\"], [0.6666666666666666, \"#ed7953\"], [0.7777777777777778, \"#fb9f3a\"], [0.8888888888888888, \"#fdca26\"], [1.0, \"#f0f921\"]], \"type\": \"contour\"}], \"contourcarpet\": [{\"colorbar\": {\"outlinewidth\": 0, \"ticks\": \"\"}, \"type\": \"contourcarpet\"}], \"heatmap\": [{\"colorbar\": {\"outlinewidth\": 0, \"ticks\": \"\"}, \"colorscale\": [[0.0, \"#0d0887\"], [0.1111111111111111, \"#46039f\"], [0.2222222222222222, \"#7201a8\"], [0.3333333333333333, \"#9c179e\"], [0.4444444444444444, \"#bd3786\"], [0.5555555555555556, \"#d8576b\"], [0.6666666666666666, \"#ed7953\"], [0.7777777777777778, \"#fb9f3a\"], [0.8888888888888888, \"#fdca26\"], [1.0, \"#f0f921\"]], \"type\": \"heatmap\"}], \"heatmapgl\": [{\"colorbar\": {\"outlinewidth\": 0, \"ticks\": \"\"}, \"colorscale\": [[0.0, \"#0d0887\"], [0.1111111111111111, \"#46039f\"], [0.2222222222222222, \"#7201a8\"], [0.3333333333333333, \"#9c179e\"], [0.4444444444444444, \"#bd3786\"], [0.5555555555555556, \"#d8576b\"], [0.6666666666666666, \"#ed7953\"], [0.7777777777777778, \"#fb9f3a\"], [0.8888888888888888, \"#fdca26\"], [1.0, \"#f0f921\"]], \"type\": \"heatmapgl\"}], \"histogram\": [{\"marker\": {\"colorbar\": {\"outlinewidth\": 0, \"ticks\": \"\"}}, \"type\": \"histogram\"}], \"histogram2d\": [{\"colorbar\": {\"outlinewidth\": 0, \"ticks\": \"\"}, \"colorscale\": [[0.0, \"#0d0887\"], [0.1111111111111111, \"#46039f\"], [0.2222222222222222, \"#7201a8\"], [0.3333333333333333, \"#9c179e\"], [0.4444444444444444, \"#bd3786\"], [0.5555555555555556, \"#d8576b\"], [0.6666666666666666, \"#ed7953\"], [0.7777777777777778, \"#fb9f3a\"], [0.8888888888888888, \"#fdca26\"], [1.0, \"#f0f921\"]], \"type\": \"histogram2d\"}], \"histogram2dcontour\": [{\"colorbar\": {\"outlinewidth\": 0, \"ticks\": \"\"}, \"colorscale\": [[0.0, \"#0d0887\"], [0.1111111111111111, \"#46039f\"], [0.2222222222222222, \"#7201a8\"], [0.3333333333333333, \"#9c179e\"], [0.4444444444444444, \"#bd3786\"], [0.5555555555555556, \"#d8576b\"], [0.6666666666666666, \"#ed7953\"], [0.7777777777777778, \"#fb9f3a\"], [0.8888888888888888, \"#fdca26\"], [1.0, \"#f0f921\"]], \"type\": \"histogram2dcontour\"}], \"mesh3d\": [{\"colorbar\": {\"outlinewidth\": 0, \"ticks\": \"\"}, \"type\": \"mesh3d\"}], \"parcoords\": [{\"line\": {\"colorbar\": {\"outlinewidth\": 0, \"ticks\": \"\"}}, \"type\": \"parcoords\"}], \"pie\": [{\"automargin\": true, \"type\": \"pie\"}], \"scatter\": [{\"marker\": {\"colorbar\": {\"outlinewidth\": 0, \"ticks\": \"\"}}, \"type\": \"scatter\"}], \"scatter3d\": [{\"line\": {\"colorbar\": {\"outlinewidth\": 0, \"ticks\": \"\"}}, \"marker\": {\"colorbar\": {\"outlinewidth\": 0, \"ticks\": \"\"}}, \"type\": \"scatter3d\"}], \"scattercarpet\": [{\"marker\": {\"colorbar\": {\"outlinewidth\": 0, \"ticks\": \"\"}}, \"type\": \"scattercarpet\"}], \"scattergeo\": [{\"marker\": {\"colorbar\": {\"outlinewidth\": 0, \"ticks\": \"\"}}, \"type\": \"scattergeo\"}], \"scattergl\": [{\"marker\": {\"colorbar\": {\"outlinewidth\": 0, \"ticks\": \"\"}}, \"type\": \"scattergl\"}], \"scattermapbox\": [{\"marker\": {\"colorbar\": {\"outlinewidth\": 0, \"ticks\": \"\"}}, \"type\": \"scattermapbox\"}], \"scatterpolar\": [{\"marker\": {\"colorbar\": {\"outlinewidth\": 0, \"ticks\": \"\"}}, \"type\": \"scatterpolar\"}], \"scatterpolargl\": [{\"marker\": {\"colorbar\": {\"outlinewidth\": 0, \"ticks\": \"\"}}, \"type\": \"scatterpolargl\"}], \"scatterternary\": [{\"marker\": {\"colorbar\": {\"outlinewidth\": 0, \"ticks\": \"\"}}, \"type\": \"scatterternary\"}], \"surface\": [{\"colorbar\": {\"outlinewidth\": 0, \"ticks\": \"\"}, \"colorscale\": [[0.0, \"#0d0887\"], [0.1111111111111111, \"#46039f\"], [0.2222222222222222, \"#7201a8\"], [0.3333333333333333, \"#9c179e\"], [0.4444444444444444, \"#bd3786\"], [0.5555555555555556, \"#d8576b\"], [0.6666666666666666, \"#ed7953\"], [0.7777777777777778, \"#fb9f3a\"], [0.8888888888888888, \"#fdca26\"], [1.0, \"#f0f921\"]], \"type\": \"surface\"}], \"table\": [{\"cells\": {\"fill\": {\"color\": \"#EBF0F8\"}, \"line\": {\"color\": \"white\"}}, \"header\": {\"fill\": {\"color\": \"#C8D4E3\"}, \"line\": {\"color\": \"white\"}}, \"type\": \"table\"}]}, \"layout\": {\"annotationdefaults\": {\"arrowcolor\": \"#2a3f5f\", \"arrowhead\": 0, \"arrowwidth\": 1}, \"coloraxis\": {\"colorbar\": {\"outlinewidth\": 0, \"ticks\": \"\"}}, \"colorscale\": {\"diverging\": [[0, \"#8e0152\"], [0.1, \"#c51b7d\"], [0.2, \"#de77ae\"], [0.3, \"#f1b6da\"], [0.4, \"#fde0ef\"], [0.5, \"#f7f7f7\"], [0.6, \"#e6f5d0\"], [0.7, \"#b8e186\"], [0.8, \"#7fbc41\"], [0.9, \"#4d9221\"], [1, \"#276419\"]], \"sequential\": [[0.0, \"#0d0887\"], [0.1111111111111111, \"#46039f\"], [0.2222222222222222, \"#7201a8\"], [0.3333333333333333, \"#9c179e\"], [0.4444444444444444, \"#bd3786\"], [0.5555555555555556, \"#d8576b\"], [0.6666666666666666, \"#ed7953\"], [0.7777777777777778, \"#fb9f3a\"], [0.8888888888888888, \"#fdca26\"], [1.0, \"#f0f921\"]], \"sequentialminus\": [[0.0, \"#0d0887\"], [0.1111111111111111, \"#46039f\"], [0.2222222222222222, \"#7201a8\"], [0.3333333333333333, \"#9c179e\"], [0.4444444444444444, \"#bd3786\"], [0.5555555555555556, \"#d8576b\"], [0.6666666666666666, \"#ed7953\"], [0.7777777777777778, \"#fb9f3a\"], [0.8888888888888888, \"#fdca26\"], [1.0, \"#f0f921\"]]}, \"colorway\": [\"#636efa\", \"#EF553B\", \"#00cc96\", \"#ab63fa\", \"#FFA15A\", \"#19d3f3\", \"#FF6692\", \"#B6E880\", \"#FF97FF\", \"#FECB52\"], \"font\": {\"color\": \"#2a3f5f\"}, \"geo\": {\"bgcolor\": \"white\", \"lakecolor\": \"white\", \"landcolor\": \"#E5ECF6\", \"showlakes\": true, \"showland\": true, \"subunitcolor\": \"white\"}, \"hoverlabel\": {\"align\": \"left\"}, \"hovermode\": \"closest\", \"mapbox\": {\"style\": \"light\"}, \"paper_bgcolor\": \"white\", \"plot_bgcolor\": \"#E5ECF6\", \"polar\": {\"angularaxis\": {\"gridcolor\": \"white\", \"linecolor\": \"white\", \"ticks\": \"\"}, \"bgcolor\": \"#E5ECF6\", \"radialaxis\": {\"gridcolor\": \"white\", \"linecolor\": \"white\", \"ticks\": \"\"}}, \"scene\": {\"xaxis\": {\"backgroundcolor\": \"#E5ECF6\", \"gridcolor\": \"white\", \"gridwidth\": 2, \"linecolor\": \"white\", \"showbackground\": true, \"ticks\": \"\", \"zerolinecolor\": \"white\"}, \"yaxis\": {\"backgroundcolor\": \"#E5ECF6\", \"gridcolor\": \"white\", \"gridwidth\": 2, \"linecolor\": \"white\", \"showbackground\": true, \"ticks\": \"\", \"zerolinecolor\": \"white\"}, \"zaxis\": {\"backgroundcolor\": \"#E5ECF6\", \"gridcolor\": \"white\", \"gridwidth\": 2, \"linecolor\": \"white\", \"showbackground\": true, \"ticks\": \"\", \"zerolinecolor\": \"white\"}}, \"shapedefaults\": {\"line\": {\"color\": \"#2a3f5f\"}}, \"ternary\": {\"aaxis\": {\"gridcolor\": \"white\", \"linecolor\": \"white\", \"ticks\": \"\"}, \"baxis\": {\"gridcolor\": \"white\", \"linecolor\": \"white\", \"ticks\": \"\"}, \"bgcolor\": \"#E5ECF6\", \"caxis\": {\"gridcolor\": \"white\", \"linecolor\": \"white\", \"ticks\": \"\"}}, \"title\": {\"x\": 0.05}, \"xaxis\": {\"automargin\": true, \"gridcolor\": \"white\", \"linecolor\": \"white\", \"ticks\": \"\", \"title\": {\"standoff\": 15}, \"zerolinecolor\": \"white\", \"zerolinewidth\": 2}, \"yaxis\": {\"automargin\": true, \"gridcolor\": \"white\", \"linecolor\": \"white\", \"ticks\": \"\", \"title\": {\"standoff\": 15}, \"zerolinecolor\": \"white\", \"zerolinewidth\": 2}}}},\n",
       "                        {\"responsive\": true}\n",
       "                    ).then(function(){\n",
       "                            \n",
       "var gd = document.getElementById('bd38c37a-3272-42f7-9957-394b8319cc07');\n",
       "var x = new MutationObserver(function (mutations, observer) {{\n",
       "        var display = window.getComputedStyle(gd).display;\n",
       "        if (!display || display === 'none') {{\n",
       "            console.log([gd, 'removed!']);\n",
       "            Plotly.purge(gd);\n",
       "            observer.disconnect();\n",
       "        }}\n",
       "}});\n",
       "\n",
       "// Listen for the removal of the full notebook cells\n",
       "var notebookContainer = gd.closest('#notebook-container');\n",
       "if (notebookContainer) {{\n",
       "    x.observe(notebookContainer, {childList: true});\n",
       "}}\n",
       "\n",
       "// Listen for the clearing of the current output cell\n",
       "var outputEl = gd.closest('.output');\n",
       "if (outputEl) {{\n",
       "    x.observe(outputEl, {childList: true});\n",
       "}}\n",
       "\n",
       "                        })\n",
       "                };\n",
       "                \n",
       "            </script>\n",
       "        </div>\n",
       "</body>\n",
       "</html>"
      ]
     },
     "metadata": {
      "tags": []
     },
     "output_type": "display_data"
    }
   ],
   "source": [
    "fig = px.scatter_geo(roya, lat=\"DECLATITUDE\", lon=\"DECLONGITUDE\", color=\"ROYA_CAMPO_AVERAGE_DSR\")\n",
    "fig.show()"
   ]
  },
  {
   "cell_type": "code",
   "execution_count": null,
   "metadata": {
    "id": "Y6BkjVqxZE2P"
   },
   "outputs": [],
   "source": [
    "df = roya.drop(roya.columns[[0, 12, 13, 14, 15]], axis=1)"
   ]
  },
  {
   "cell_type": "markdown",
   "metadata": {
    "id": "B-uYlqD7dUae"
   },
   "source": [
    "## MODELS"
   ]
  },
  {
   "cell_type": "code",
   "execution_count": null,
   "metadata": {
    "colab": {
     "base_uri": "https://localhost:8080/",
     "height": 317
    },
    "executionInfo": {
     "elapsed": 134151,
     "status": "ok",
     "timestamp": 1625906565259,
     "user": {
      "displayName": "Icíar Civantos Gómez",
      "photoUrl": "",
      "userId": "06033810409542157400"
     },
     "user_tz": -120
    },
    "id": "IZVr7iiw5Ggi",
    "outputId": "47b830ce-ae7e-4b0b-88ed-cc4c4d370795"
   },
   "outputs": [
    {
     "data": {
      "image/png": "[encoded data removed]",
      "text/plain": [
       "<Figure size 432x288 with 1 Axes>"
      ]
     },
     "metadata": {
      "needs_background": "light",
      "tags": []
     },
     "output_type": "display_data"
    },
    {
     "name": "stdout",
     "output_type": "stream",
     "text": [
      "RF RMSE mean 21.200448487213702\n",
      "XGB RMSE mean 22.015009905718756\n",
      "Ridge RMSE mean 20.44113196696655\n"
     ]
    }
   ],
   "source": [
    "error_values_rf = []\n",
    "error_values_xgb = []\n",
    "error_values_ridge = []\n",
    "\n",
    "importances_rf = {}\n",
    "importances_xgb = {}\n",
    "importances_ridge = {}\n",
    "\n",
    "for col in list(df):\n",
    "    if col!= 'ROYA_CAMPO_AVERAGE_DSR':\n",
    "        importances_rf[col] = []\n",
    "        importances_xgb[col] = []\n",
    "        importances_ridge[col] = []\n",
    "\n",
    "nexper = 100\n",
    "for i in range(0, nexper):\n",
    "\n",
    "    variables_to_ignore = ['ROYA_CAMPO_AVERAGE_DSR','DECLONGITUDE','DECLATITUDE']\n",
    "    selected_features = [element for element in list(df) if element not in variables_to_ignore]\n",
    "    \n",
    "    df_model = df[selected_features]\n",
    "    \n",
    "    std_scaler = StandardScaler()\n",
    "    \n",
    "    std_scaler_model = std_scaler.fit(df_model)\n",
    "    df_model = std_scaler_model.transform(df_model)\n",
    "    \n",
    "    \n",
    "    \"Division Train Test\"\n",
    "    \n",
    "    X = pd.DataFrame(data = df_model, columns = selected_features)\n",
    "    y = df.ROYA_CAMPO_AVERAGE_DSR\n",
    "\n",
    "    X_train, X_test, y_train, y_test = train_test_split(X, y, train_size= 0.7)\n",
    "\n",
    "\n",
    "    \"Random Forest\"\n",
    "\n",
    "    rf = RandomForestRegressor(random_state= 123, n_jobs = -1)\n",
    "    \n",
    "    rf.fit(X_train,y_train)\n",
    "    predictions_rf = rf.predict(X_test)\n",
    "\n",
    "    rmse_rf = np.sqrt(mean_squared_error(y_test, predictions_rf))\n",
    "\n",
    "    for k in range(0, len(selected_features)):\n",
    "        importances_rf[selected_features[k]].append(rf.feature_importances_[k])\n",
    "    \n",
    "    error_values_rf.append(rmse_rf)\n",
    "\n",
    "    \"XGBoost\"\n",
    "\n",
    "    xgb = xgboost.XGBRegressor(verbosity = 0)\n",
    "    xgb.fit(X_train,y_train)\n",
    "    \n",
    "    predictions_xgb = xgb.predict(X_test)\n",
    "    rmse_xgb = np.sqrt(mean_squared_error(y_test, predictions_xgb))\n",
    "\n",
    "    for k in range(0, len(selected_features)):\n",
    "        importances_xgb[selected_features[k]].append(xgb.feature_importances_[k])\n",
    "\n",
    "    error_values_xgb.append(rmse_xgb)\n",
    "\n",
    "    \"Ridge\"\n",
    "\n",
    "    clf = RidgeCV(alphas=np.linspace(0.001, 1, 1000)).fit(X, y)\n",
    "    clf.fit(X_train, y_train)\n",
    "\n",
    "    predictions_ridge = clf.predict(X_test)\n",
    "\n",
    "    rmse_ridge = np.sqrt(mean_squared_error(y_test, predictions_ridge))\n",
    "\n",
    "    for k in range(0, len(selected_features)):\n",
    "        importances_ridge[selected_features[k]].append(clf.coef_[k])\n",
    "\n",
    "    error_values_ridge.append(rmse_ridge)\n",
    "\n",
    "def to_str(var):\n",
    "    return str(list(np.reshape(np.asarray(var), (1, np.size(var)))[0]))[1:-1]\n",
    "\n",
    "arr = [error_values_rf, error_values_ridge, error_values_xgb]\n",
    "box = plt.boxplot(arr,labels=['RF','Ridge','XGB'])\n",
    "plt.show()\n",
    "\n",
    "print(\"RF RMSE mean\",np.mean(error_values_rf))\n",
    "print(\"XGB RMSE mean\",np.mean(error_values_xgb))\n",
    "print(\"Ridge RMSE mean\",np.mean(error_values_ridge))"
   ]
  },
  {
   "cell_type": "code",
   "execution_count": null,
   "metadata": {
    "colab": {
     "base_uri": "https://localhost:8080/"
    },
    "executionInfo": {
     "elapsed": 42871,
     "status": "ok",
     "timestamp": 1625906608123,
     "user": {
      "displayName": "Icíar Civantos Gómez",
      "photoUrl": "",
      "userId": "06033810409542157400"
     },
     "user_tz": -120
    },
    "id": "f2qiM1v7EE8A",
    "outputId": "53d04337-df86-4f8c-bea0-32989420243a"
   },
   "outputs": [
    {
     "name": "stdout",
     "output_type": "stream",
     "text": [
      "Mounted at /drive\n"
     ]
    }
   ],
   "source": [
    "from google.colab import  drive\n",
    "drive.mount('/drive')"
   ]
  },
  {
   "cell_type": "code",
   "execution_count": null,
   "metadata": {
    "id": "YjrBovT8DhJk"
   },
   "outputs": [],
   "source": [
    "pd.DataFrame(error_values_rf).to_excel(\"/drive/My Drive/Doctorado/Lenteja/results/error_values_rf.xlsx\")\n",
    "pd.DataFrame(error_values_xgb).to_excel(\"/drive/My Drive/Doctorado/Lenteja/results/error_values_xgb.xlsx\") \n",
    "pd.DataFrame(error_values_ridge).to_excel(\"/drive/My Drive/Doctorado/Lenteja/results/error_values_ridge.xlsx\") "
   ]
  },
  {
   "cell_type": "markdown",
   "metadata": {
    "id": "0xmvE2jN6R-w"
   },
   "source": [
    "## FEATURE IMPORTANCE"
   ]
  },
  {
   "cell_type": "code",
   "execution_count": null,
   "metadata": {
    "id": "xnIEYrQp0az5"
   },
   "outputs": [],
   "source": [
    "importances_rf_avg = {}\n",
    "importances_xgb_avg = {}\n",
    "importances_ridge_avg = {}\n",
    "\n",
    "for k,v in importances_rf.items():\n",
    "    if k != 'DECLATITUDE' and k != 'DECLONGITUDE':\n",
    "        importances_rf_avg[str(k)] = np.mean(v)\n",
    "for k,v in importances_xgb.items():\n",
    "    if k != 'DECLATITUDE' and k != 'DECLONGITUDE':\n",
    "        importances_xgb_avg[str(k)] = np.mean(v)\n",
    "for k,v in importances_ridge.items():\n",
    "    if k != 'DECLATITUDE' and k != 'DECLONGITUDE':\n",
    "        v_abs = [np.abs(val) for val in v]\n",
    "        importances_ridge_avg[str(k)] = np.mean(v_abs)"
   ]
  },
  {
   "cell_type": "code",
   "execution_count": null,
   "metadata": {
    "colab": {
     "base_uri": "https://localhost:8080/"
    },
    "executionInfo": {
     "elapsed": 34,
     "status": "ok",
     "timestamp": 1625906610176,
     "user": {
      "displayName": "Icíar Civantos Gómez",
      "photoUrl": "",
      "userId": "06033810409542157400"
     },
     "user_tz": -120
    },
    "id": "lU7FNqKGpuC6",
    "outputId": "51be9a18-727a-454c-c0c0-79adc5698877"
   },
   "outputs": [
    {
     "data": {
      "text/plain": [
       "{'bio_1': 0.09654764656933784,\n",
       " 'long': 0.32743947801525125,\n",
       " 'srad_12': 0.0735991766468,\n",
       " 'srad_annual': 0.09096771829187458,\n",
       " 't_bulk_dens': 0.1296324632298199,\n",
       " 't_sand': 0.07699606901050708,\n",
       " 't_soilwater_cap': 0.11920334811395569,\n",
       " 't_teb': 0.08561410012245368}"
      ]
     },
     "execution_count": 10,
     "metadata": {
      "tags": []
     },
     "output_type": "execute_result"
    }
   ],
   "source": [
    "importances_rf_avg"
   ]
  },
  {
   "cell_type": "code",
   "execution_count": null,
   "metadata": {
    "colab": {
     "base_uri": "https://localhost:8080/"
    },
    "executionInfo": {
     "elapsed": 30,
     "status": "ok",
     "timestamp": 1625906610178,
     "user": {
      "displayName": "Icíar Civantos Gómez",
      "photoUrl": "",
      "userId": "06033810409542157400"
     },
     "user_tz": -120
    },
    "id": "DB3hrPIgrJrK",
    "outputId": "28ed8f4a-f7ce-43a4-cdc4-2b7fb583b0b4"
   },
   "outputs": [
    {
     "data": {
      "text/plain": [
       "{'bio_1': 0.076230854,\n",
       " 'long': 0.3557832,\n",
       " 'srad_12': 0.087708585,\n",
       " 'srad_annual': 0.09948148,\n",
       " 't_bulk_dens': 0.100202255,\n",
       " 't_sand': 0.0818566,\n",
       " 't_soilwater_cap': 0.094291665,\n",
       " 't_teb': 0.10444537}"
      ]
     },
     "execution_count": 11,
     "metadata": {
      "tags": []
     },
     "output_type": "execute_result"
    }
   ],
   "source": [
    "importances_xgb_avg"
   ]
  },
  {
   "cell_type": "code",
   "execution_count": null,
   "metadata": {
    "colab": {
     "base_uri": "https://localhost:8080/"
    },
    "executionInfo": {
     "elapsed": 25,
     "status": "ok",
     "timestamp": 1625906610180,
     "user": {
      "displayName": "Icíar Civantos Gómez",
      "photoUrl": "",
      "userId": "06033810409542157400"
     },
     "user_tz": -120
    },
    "id": "x3TN69n4rK0K",
    "outputId": "65b5f22d-d1df-45d5-cc2b-e02f4320051b"
   },
   "outputs": [
    {
     "data": {
      "text/plain": [
       "{'bio_1': 1.8691399582980028,\n",
       " 'long': 7.198910097465881,\n",
       " 'srad_12': 2.6274165932098525,\n",
       " 'srad_annual': 4.257025645113488,\n",
       " 't_bulk_dens': 1.7892303329243326,\n",
       " 't_sand': 2.7067541240745654,\n",
       " 't_soilwater_cap': 5.1922882460472,\n",
       " 't_teb': 1.5076452752618126}"
      ]
     },
     "execution_count": 12,
     "metadata": {
      "tags": []
     },
     "output_type": "execute_result"
    }
   ],
   "source": [
    "importances_ridge_avg"
   ]
  },
  {
   "cell_type": "code",
   "execution_count": null,
   "metadata": {
    "id": "AWq6_u1zGVUX"
   },
   "outputs": [],
   "source": [
    "importances_rf_avg = pd.DataFrame(data=importances_rf_avg, index=[0])\n",
    "importances_rf_avg = (importances_rf_avg.T)\n",
    "\n",
    "importances_xgb_avg = pd.DataFrame(data=importances_xgb_avg, index=[0])\n",
    "importances_xgb_avg = (importances_xgb_avg.T)\n",
    "\n",
    "importances_ridge_avg = pd.DataFrame(data=importances_rf_avg, index=[0])\n",
    "importances_ridge_avg = (importances_rf_avg.T)"
   ]
  },
  {
   "cell_type": "code",
   "execution_count": null,
   "metadata": {
    "id": "0EAIWEj4FAy_"
   },
   "outputs": [],
   "source": [
    "pd.DataFrame.from_dict(importances_rf_avg).to_excel(\"/drive/My Drive/Doctorado/Lenteja/results/importances_rf_avg.xlsx\")\n",
    "pd.DataFrame.from_dict(importances_xgb_avg).to_excel(\"/drive/My Drive/Doctorado/Lenteja/results/importances_xgb_avg.xlsx\") \n",
    "pd.DataFrame.from_dict(importances_ridge_avg).to_excel(\"/drive/My Drive/Doctorado/Lenteja/results/importances_ridge_avg.xlsx\") "
   ]
  },
  {
   "cell_type": "markdown",
   "metadata": {
    "id": "v4x8MvMz6lik"
   },
   "source": [
    "## RIDGE REGRESSION"
   ]
  },
  {
   "cell_type": "code",
   "execution_count": null,
   "metadata": {
    "id": "QEonrzWy65l7"
   },
   "outputs": [],
   "source": [
    "variables_to_ignore = ['ROYA_CAMPO_AVERAGE_DSR','DECLONGITUDE','DECLATITUDE']\n",
    "selected_features = [element for element in list(df) if element not in variables_to_ignore]\n",
    "\n",
    "df_model = df[selected_features]\n",
    "\n",
    "std_scaler = StandardScaler()\n",
    "\n",
    "std_scaler_model = std_scaler.fit(df_model)\n",
    "df_model = std_scaler_model.transform(df_model)\n",
    "\n",
    "\n",
    "\"Division Train Test\"\n",
    "\n",
    "X = pd.DataFrame(data = df_model, columns = selected_features)\n",
    "y = df.ROYA_CAMPO_AVERAGE_DSR\n",
    "\n",
    "X_train, X_test, y_train, y_test = train_test_split(X, y, train_size= 0.7)\n",
    "\n",
    "clf = RidgeCV(alphas=np.linspace(0.001, 1, 1000)).fit(X, y)\n",
    "clf.fit(X_train, y_train)\n",
    "\n",
    "predictions_train = clf.predict(X_train)\n",
    "\n",
    "predictions_test = clf.predict(X_test)"
   ]
  },
  {
   "cell_type": "code",
   "execution_count": null,
   "metadata": {
    "id": "TtfBD04R-J4I"
   },
   "outputs": [],
   "source": [
    "X_train['DECLONGITUDE'] =df['DECLONGITUDE']\n",
    "X_train['DECLATITUDE'] =df['DECLATITUDE']\n",
    "\n",
    "X_test['DECLONGITUDE'] =df['DECLONGITUDE']\n",
    "X_test['DECLATITUDE'] =df['DECLATITUDE']"
   ]
  },
  {
   "cell_type": "code",
   "execution_count": null,
   "metadata": {
    "id": "5JTE9bXO7WFn"
   },
   "outputs": [],
   "source": [
    "train_values = X_train.reset_index()\n",
    "train_values['predictions'] = pd.Series(predictions_train)\n",
    "\n",
    "test_values = X_train.reset_index()\n",
    "test_values['predictions'] = pd.Series(predictions_test)\n"
   ]
  },
  {
   "cell_type": "code",
   "execution_count": null,
   "metadata": {
    "id": "t8XuU-hGHKqa"
   },
   "outputs": [],
   "source": [
    "train_values.to_excel(\"/drive/My Drive/Doctorado/Lenteja/results/train_values.xlsx\")\n",
    "test_values.to_excel(\"/drive/My Drive/Doctorado/Lenteja/results/test_values.xlsx\")"
   ]
  },
  {
   "cell_type": "code",
   "execution_count": null,
   "metadata": {
    "colab": {
     "base_uri": "https://localhost:8080/",
     "height": 542
    },
    "executionInfo": {
     "elapsed": 274,
     "status": "ok",
     "timestamp": 1625906613275,
     "user": {
      "displayName": "Icíar Civantos Gómez",
      "photoUrl": "",
      "userId": "06033810409542157400"
     },
     "user_tz": -120
    },
    "id": "aUDnWmNqOHck",
    "outputId": "f6dba6ef-9483-4852-9092-ac1dfdf3c836"
   },
   "outputs": [
    {
     "data": {
      "text/html": [
       "<html>\n",
       "<head><meta charset=\"utf-8\" /></head>\n",
       "<body>\n",
       "    <div>\n",
       "            <script src=\"https://cdnjs.cloudflare.com/ajax/libs/mathjax/2.7.5/MathJax.js?config=TeX-AMS-MML_SVG\"></script><script type=\"text/javascript\">if (window.MathJax) {MathJax.Hub.Config({SVG: {font: \"STIX-Web\"}});}</script>\n",
       "                <script type=\"text/javascript\">window.PlotlyConfig = {MathJaxConfig: 'local'};</script>\n",
       "        <script src=\"https://cdn.plot.ly/plotly-latest.min.js\"></script>    \n",
       "            <div id=\"4da571a5-62e7-47c0-a675-9b503e0fc1b6\" class=\"plotly-graph-div\" style=\"height:525px; width:100%;\"></div>\n",
       "            <script type=\"text/javascript\">\n",
       "                \n",
       "                    window.PLOTLYENV=window.PLOTLYENV || {};\n",
       "                    \n",
       "                if (document.getElementById(\"4da571a5-62e7-47c0-a675-9b503e0fc1b6\")) {\n",
       "                    Plotly.newPlot(\n",
       "                        '4da571a5-62e7-47c0-a675-9b503e0fc1b6',\n",
       "                        [{\"geo\": \"geo\", \"hoverlabel\": {\"namelength\": 0}, \"hovertemplate\": \"DECLATITUDE=%{lat}<br>DECLONGITUDE=%{lon}<br>predictions=%{marker.color}\", \"lat\": [31.81666667, 42.33888889, 40.98944444, 39.32472222, 38.2494, 42.95, 42.40944444, 42.22166667, 42.0, 39.25666667, 40.10888889, 42.33, 40.93972222, 39.61194444, 37.079643, 30.06666667, 42.33333333, 42.4925, 39.20833333, 42.42555556, 37.30611111, 42.32166667, -28.63333333, 38.71111111, 42.57166667, 40.32361111, 39.62722222, 26.51694444, 40.88416667, 41.0775, 41.07472222, 42.53472222, 31.13333333, 28.79722222, 42.37222222, 40.54472222, 38.98805556, 41.11527778, 42.35083333, 38.97388889, 42.95277778, 41.98611111, 40.64083333, 42.40694444, 40.00861111, 42.90944444, 40.58805556, 40.14277778, 41.82083333, 40.53166667, 38.217971999999996, 33.544635, 40.91666667, 36.94611111, 29.14527778, 39.26888889, 42.57666667, 40.90361111, 40.92638889, 39.74194444, 41.05, 44.08333333, 37.901623, 40.82444444, 37.62, 29.09666667, 41.94305556, 42.91666667, 33.76062, 43.00277778, 39.36666667, 39.63333333, 37.34388889, 41.70083333, 40.71666667, 9.5833, 36.39, 35.18333333, 38.61388889, 39.525, 37.823196, 39.26666667, 38.25194444, 19.51666667, 37.21666667, 38.62194444, 38.07055556, 28.60944444, 39.13666667, 41.065, 11.5, 42.275, 40.68833333, 37.13388889, 38.96333333, 46.905304, 28.05, 39.92333333, 41.01972222, 39.77111111, 36.7, 40.95027778, 37.41666667, 42.09972222, 42.60861111, 39.33333333, 40.21138889, 38.72222222, 42.95138889, 37.67083333, 41.04388889, 28.0, 40.94527778, 36.33305556, 28.98333333, 38.11027778, 40.16888889, 40.74527778, 41.40805556, 41.54361111, 39.46972222, 25.18333333, 48.02863, 42.35694444, 28.52666667, 40.7, 39.46666667, 37.35194444, 42.29111111, 37.39583333, 41.53805556, 42.77416667, 37.56666667, 39.50027778, 41.37472222, 42.25416667, 38.88527778, 42.89305556, 14.56666667, 39.81805556, -33.45, 37.78694444, 42.13388889, 39.51444444, 37.3225, 32.608304, 40.59194444, 37.57305556, 31.75, 41.33166667, 48.33333333, 28.0, 40.03888889, 38.75194444, 42.60027778, 43.15222222, 40.63333333, 38.38333333, 35.28333333, 40.745, 28.56666667, 40.86444444, -36.6, 39.06861111, 42.77416667, 41.06666667, 43.91666667, 17.46666667, 42.295, 38.96583333, 42.17277778, 39.96138889, 42.94305556, 39.76055556, 39.28833333, 29.145027000000002, 40.46361111, 42.46388889], \"legendgroup\": \"\", \"lon\": [35.03333333, -5.368055556, -6.865, -2.269166667, 48.3014, -5.983333332999999, -4.175555556, -4.8555555560000005, 47.0, -1.853055556, -3.3872222219999997, -4.034166667, -2.7861111110000003, -1.7947222219999999, 37.410987, 73.06666667, -5.36666667, -4.603055556, -2.158055556, -0.661388889, 29.77583333, -5.0191666669999995, -53.1, -4.177777778, -5.0597222219999995, -3.108333333, -1.9436111109999998, 83.8, -2.8175, -5.611944444, -5.566944444, -5.275, 35.64083333, -17.75861111, -5.031944444, -2.9575, -4.114722222, -5.572777778, -5.383888889, -3.3438888889999996, -5.544444444, -5.403055556, -2.8413888889999996, -4.902222222, -3.9455555560000004, -4.075833333, -1.789722222, -2.568888889, -4.176388889, -3.030833333, 37.203332, 68.4106, 32.08333333, -3.1794444439999996, -13.49666667, -2.605833333, 0.27638888899999997, -2.913055556, -2.921111111, 39.4925, -2.1, 7.6, 40.155321, -2.7811111110000004, 35.86, -13.47, -4.506388889, -5.001388888999999, 35.885183000000005, -5.256944444, -1.7, 22.41666667, -3.7855555560000003, -4.84, -2.766666667, 41.8667, 37.18, 59.38333333, -2.0497222219999998, -1.977222222, 32.989336, -1.911666667, -3.203888889, -98.86666667, 30.3, -2.026388889, -3.3061111110000003, -13.92638889, -1.675277778, -5.524166667, 39.6, -5.433333332999999, -2.8847222219999997, -3.82, -2.125, -117.08017099999999, 79.11666667, -3.007777778, -5.590277778, 3.024444444, 67.1, -3.0875, 41.38333333, -5.033055556, -4.795555556, -1.716666667, -3.190833333, -1.91, -6.0708333329999995, -4.236666667, -5.534166667, 80.0, -2.725, 33.41333333, 77.7, -3.085, -3.271111111, -1.7352777780000002, -4.403055556, 22.54444444, -3.5325, 85.51666667, 0.33265500000000003, -5.209166667, -13.99055556, 36.61666667, 67.73333333, -3.291944444, -4.141944444, -2.61, -5.386666667, -5.943333332999999, 41.06666667, -1.897222222, -2.9083333330000003, -5.266666667, -2.149722222, -5.7638888889999995, -90.73333333, -2.949166667, -70.66666667, -5.27, -5.089166667, -2.489444444, -3.330555556, 51.749865, 17.11527778, -3.503611111, -8.25, -5.080277778, -1.16666667, 80.0, -2.7375, -1.9525, -5.5655555560000005, -4.916111111, -2.9, 37.6, 47.18333333, -3.0313888889999996, -13.83333333, -2.724722222, -72.11666667, -3.610277778, -5.943333332999999, -1.3858333330000001, 5.13333333, -97.23333333, -5.518888888999999, -1.444166667, -0.005277778, -3.498333333, -5.722222222, -3.163055556, -1.47, 71.27512, -2.960277778, -6.205555556], \"marker\": {\"color\": [52.01370380803469, 59.07457013740292, 62.58686340877725, 62.4110397658189, 42.367554989149326, 50.08859538451993, 59.834754709659485, 62.430740028674656, 39.49519530288109, 66.66082575295856, 57.298687705723054, 54.89600562852385, 61.944448183906495, 57.36736528269638, 42.65346824972618, 56.650782424758724, 64.4584334828743, 54.59893147563008, 62.897459968558394, 54.24857234865017, 47.218981512028954, 63.704469521701235, 46.45574397643107, 57.35522435499611, 59.58858493955494, 60.03347190968621, 56.61268335852152, 40.379237210373105, 59.66101177308054, 64.01501599628278, 60.1881102898134, 60.7530673189813, 50.82029846709639, 46.450365800491966, 62.9316723407282, 59.32777511847959, 59.20218973477819, 61.66743165021469, 64.27880569045213, 62.716662232097676, 50.061557714098036, 65.8091961717725, 59.38765227222707, 57.50011062723185, 53.97295069719207, 49.49393327273894, 53.84572138521117, 57.251700187903836, 62.02075192049107, 59.587754712358084, 49.128016664359905, 45.343659472910915, 43.54585577111109, 56.305614055417045, 46.659498998798256, 63.1154418686211, 50.18438529517776, 58.704851530144154, 62.0697142258157, 44.58146275645854, 54.49183244387199, 49.99250334543401, 26.760360585062934, 58.70868331562797, 46.9534576413686, 46.69373775358176, 62.483129597117255, 51.55110340503139, 36.41461246978296, 50.03908136858311, 65.81433856973925, 49.84202540048284, 56.858227687562945, 58.933343005631876, 59.19232734455191, 46.84578472513056, 36.72961172358292, 53.538957651768925, 55.040178742117924, 59.43099575053688, 45.64263794942144, 66.64441552718124, 57.47945689643318, 69.62004948160197, 49.51985917766738, 59.80406246138357, 58.30416767547322, 56.13174899630793, 65.50496236600407, 61.780420082565044, 24.93601290153774, 65.58988864566523, 59.528394452039045, 59.081148418846816, 61.817290169347324, 68.67179599659438, 44.92922501199854, 61.02952737575456, 61.29554853567034, 50.8532762439319, 46.495909443019585, 58.194098860368825, 40.45153130371946, 65.25764273076467, 59.37054906940719, 64.28485677892172, 57.63207858936445, 60.59601764431035, 49.39035915472875, 53.40797444622519, 61.780420082565044, 40.988188282963634, 59.11670989204118, 48.06256313911412, 48.161058793492344, 58.788294022421084, 57.81851724900124, 56.549973103874, 65.14493009100718, 42.815534727247964, 64.70846985258065, 41.49234092833126, 55.223651878402606, 60.51417018968173, 52.564989341600096, 43.35964815198887, 40.03594163609584, 56.90044664845842, 60.05833258963313, 60.12429737872508, 60.557122762027944, 54.88188894969721, 43.39409505004618, 61.40056408650243, 60.51399550299433, 59.84493928059481, 60.43466057416673, 49.33935117636188, 59.30853684400485, 61.68783726635598, 58.879996038484364, 57.10104255517867, 65.23332185711217, 58.10191305582857, 58.59147855878639, 51.98254831366483, 43.87028221781702, 57.38818040429379, 63.08265910367987, 60.657303386461415, 50.968275796300944, 40.988188282963634, 60.59786609353039, 58.74409839990963, 62.559584346395155, 50.7180815135855, 59.4522833071332, 38.319619033889815, 37.30511078108125, 55.73300641115147, 55.27373873378544, 59.321205077791156, 52.50784287758895, 63.67702816116275, 54.88188894969721, 61.45773681399787, 48.85504133936952, 58.83746858947906, 63.00994149434801, 56.02004255307721, 53.57411709554563, 58.258608534066965, 49.790882755630086, 62.208969371506086, 63.13857112189439, 51.768292995828034, 58.82033885469197, 59.177831497967354], \"coloraxis\": \"coloraxis\"}, \"name\": \"\", \"showlegend\": false, \"type\": \"scattergeo\"}],\n",
       "                        {\"coloraxis\": {\"colorbar\": {\"title\": {\"text\": \"predictions\"}}, \"colorscale\": [[0.0, \"#0d0887\"], [0.1111111111111111, \"#46039f\"], [0.2222222222222222, \"#7201a8\"], [0.3333333333333333, \"#9c179e\"], [0.4444444444444444, \"#bd3786\"], [0.5555555555555556, \"#d8576b\"], [0.6666666666666666, \"#ed7953\"], [0.7777777777777778, \"#fb9f3a\"], [0.8888888888888888, \"#fdca26\"], [1.0, \"#f0f921\"]]}, \"geo\": {\"center\": {}, \"domain\": {\"x\": [0.0, 1.0], \"y\": [0.0, 1.0]}}, \"legend\": {\"tracegroupgap\": 0}, \"margin\": {\"t\": 60}, \"template\": {\"data\": {\"bar\": [{\"error_x\": {\"color\": \"#2a3f5f\"}, \"error_y\": {\"color\": \"#2a3f5f\"}, \"marker\": {\"line\": {\"color\": \"#E5ECF6\", \"width\": 0.5}}, \"type\": \"bar\"}], \"barpolar\": [{\"marker\": {\"line\": {\"color\": \"#E5ECF6\", \"width\": 0.5}}, \"type\": \"barpolar\"}], \"carpet\": [{\"aaxis\": {\"endlinecolor\": \"#2a3f5f\", \"gridcolor\": \"white\", \"linecolor\": \"white\", \"minorgridcolor\": \"white\", \"startlinecolor\": \"#2a3f5f\"}, \"baxis\": {\"endlinecolor\": \"#2a3f5f\", \"gridcolor\": \"white\", \"linecolor\": \"white\", \"minorgridcolor\": \"white\", \"startlinecolor\": \"#2a3f5f\"}, \"type\": \"carpet\"}], \"choropleth\": [{\"colorbar\": {\"outlinewidth\": 0, \"ticks\": \"\"}, \"type\": \"choropleth\"}], \"contour\": [{\"colorbar\": {\"outlinewidth\": 0, \"ticks\": \"\"}, \"colorscale\": [[0.0, \"#0d0887\"], [0.1111111111111111, \"#46039f\"], [0.2222222222222222, \"#7201a8\"], [0.3333333333333333, \"#9c179e\"], [0.4444444444444444, \"#bd3786\"], [0.5555555555555556, \"#d8576b\"], [0.6666666666666666, \"#ed7953\"], [0.7777777777777778, \"#fb9f3a\"], [0.8888888888888888, \"#fdca26\"], [1.0, \"#f0f921\"]], \"type\": \"contour\"}], \"contourcarpet\": [{\"colorbar\": {\"outlinewidth\": 0, \"ticks\": \"\"}, \"type\": \"contourcarpet\"}], \"heatmap\": [{\"colorbar\": {\"outlinewidth\": 0, \"ticks\": \"\"}, \"colorscale\": [[0.0, \"#0d0887\"], [0.1111111111111111, \"#46039f\"], [0.2222222222222222, \"#7201a8\"], [0.3333333333333333, \"#9c179e\"], [0.4444444444444444, \"#bd3786\"], [0.5555555555555556, \"#d8576b\"], [0.6666666666666666, \"#ed7953\"], [0.7777777777777778, \"#fb9f3a\"], [0.8888888888888888, \"#fdca26\"], [1.0, \"#f0f921\"]], \"type\": \"heatmap\"}], \"heatmapgl\": [{\"colorbar\": {\"outlinewidth\": 0, \"ticks\": \"\"}, \"colorscale\": [[0.0, \"#0d0887\"], [0.1111111111111111, \"#46039f\"], [0.2222222222222222, \"#7201a8\"], [0.3333333333333333, \"#9c179e\"], [0.4444444444444444, \"#bd3786\"], [0.5555555555555556, \"#d8576b\"], [0.6666666666666666, \"#ed7953\"], [0.7777777777777778, \"#fb9f3a\"], [0.8888888888888888, \"#fdca26\"], [1.0, \"#f0f921\"]], \"type\": \"heatmapgl\"}], \"histogram\": [{\"marker\": {\"colorbar\": {\"outlinewidth\": 0, \"ticks\": \"\"}}, \"type\": \"histogram\"}], \"histogram2d\": [{\"colorbar\": {\"outlinewidth\": 0, \"ticks\": \"\"}, \"colorscale\": [[0.0, \"#0d0887\"], [0.1111111111111111, \"#46039f\"], [0.2222222222222222, \"#7201a8\"], [0.3333333333333333, \"#9c179e\"], [0.4444444444444444, \"#bd3786\"], [0.5555555555555556, \"#d8576b\"], [0.6666666666666666, \"#ed7953\"], [0.7777777777777778, \"#fb9f3a\"], [0.8888888888888888, \"#fdca26\"], [1.0, \"#f0f921\"]], \"type\": \"histogram2d\"}], \"histogram2dcontour\": [{\"colorbar\": {\"outlinewidth\": 0, \"ticks\": \"\"}, \"colorscale\": [[0.0, \"#0d0887\"], [0.1111111111111111, \"#46039f\"], [0.2222222222222222, \"#7201a8\"], [0.3333333333333333, \"#9c179e\"], [0.4444444444444444, \"#bd3786\"], [0.5555555555555556, \"#d8576b\"], [0.6666666666666666, \"#ed7953\"], [0.7777777777777778, \"#fb9f3a\"], [0.8888888888888888, \"#fdca26\"], [1.0, \"#f0f921\"]], \"type\": \"histogram2dcontour\"}], \"mesh3d\": [{\"colorbar\": {\"outlinewidth\": 0, \"ticks\": \"\"}, \"type\": \"mesh3d\"}], \"parcoords\": [{\"line\": {\"colorbar\": {\"outlinewidth\": 0, \"ticks\": \"\"}}, \"type\": \"parcoords\"}], \"pie\": [{\"automargin\": true, \"type\": \"pie\"}], \"scatter\": [{\"marker\": {\"colorbar\": {\"outlinewidth\": 0, \"ticks\": \"\"}}, \"type\": \"scatter\"}], \"scatter3d\": [{\"line\": {\"colorbar\": {\"outlinewidth\": 0, \"ticks\": \"\"}}, \"marker\": {\"colorbar\": {\"outlinewidth\": 0, \"ticks\": \"\"}}, \"type\": \"scatter3d\"}], \"scattercarpet\": [{\"marker\": {\"colorbar\": {\"outlinewidth\": 0, \"ticks\": \"\"}}, \"type\": \"scattercarpet\"}], \"scattergeo\": [{\"marker\": {\"colorbar\": {\"outlinewidth\": 0, \"ticks\": \"\"}}, \"type\": \"scattergeo\"}], \"scattergl\": [{\"marker\": {\"colorbar\": {\"outlinewidth\": 0, \"ticks\": \"\"}}, \"type\": \"scattergl\"}], \"scattermapbox\": [{\"marker\": {\"colorbar\": {\"outlinewidth\": 0, \"ticks\": \"\"}}, \"type\": \"scattermapbox\"}], \"scatterpolar\": [{\"marker\": {\"colorbar\": {\"outlinewidth\": 0, \"ticks\": \"\"}}, \"type\": \"scatterpolar\"}], \"scatterpolargl\": [{\"marker\": {\"colorbar\": {\"outlinewidth\": 0, \"ticks\": \"\"}}, \"type\": \"scatterpolargl\"}], \"scatterternary\": [{\"marker\": {\"colorbar\": {\"outlinewidth\": 0, \"ticks\": \"\"}}, \"type\": \"scatterternary\"}], \"surface\": [{\"colorbar\": {\"outlinewidth\": 0, \"ticks\": \"\"}, \"colorscale\": [[0.0, \"#0d0887\"], [0.1111111111111111, \"#46039f\"], [0.2222222222222222, \"#7201a8\"], [0.3333333333333333, \"#9c179e\"], [0.4444444444444444, \"#bd3786\"], [0.5555555555555556, \"#d8576b\"], [0.6666666666666666, \"#ed7953\"], [0.7777777777777778, \"#fb9f3a\"], [0.8888888888888888, \"#fdca26\"], [1.0, \"#f0f921\"]], \"type\": \"surface\"}], \"table\": [{\"cells\": {\"fill\": {\"color\": \"#EBF0F8\"}, \"line\": {\"color\": \"white\"}}, \"header\": {\"fill\": {\"color\": \"#C8D4E3\"}, \"line\": {\"color\": \"white\"}}, \"type\": \"table\"}]}, \"layout\": {\"annotationdefaults\": {\"arrowcolor\": \"#2a3f5f\", \"arrowhead\": 0, \"arrowwidth\": 1}, \"coloraxis\": {\"colorbar\": {\"outlinewidth\": 0, \"ticks\": \"\"}}, \"colorscale\": {\"diverging\": [[0, \"#8e0152\"], [0.1, \"#c51b7d\"], [0.2, \"#de77ae\"], [0.3, \"#f1b6da\"], [0.4, \"#fde0ef\"], [0.5, \"#f7f7f7\"], [0.6, \"#e6f5d0\"], [0.7, \"#b8e186\"], [0.8, \"#7fbc41\"], [0.9, \"#4d9221\"], [1, \"#276419\"]], \"sequential\": [[0.0, \"#0d0887\"], [0.1111111111111111, \"#46039f\"], [0.2222222222222222, \"#7201a8\"], [0.3333333333333333, \"#9c179e\"], [0.4444444444444444, \"#bd3786\"], [0.5555555555555556, \"#d8576b\"], [0.6666666666666666, \"#ed7953\"], [0.7777777777777778, \"#fb9f3a\"], [0.8888888888888888, \"#fdca26\"], [1.0, \"#f0f921\"]], \"sequentialminus\": [[0.0, \"#0d0887\"], [0.1111111111111111, \"#46039f\"], [0.2222222222222222, \"#7201a8\"], [0.3333333333333333, \"#9c179e\"], [0.4444444444444444, \"#bd3786\"], [0.5555555555555556, \"#d8576b\"], [0.6666666666666666, \"#ed7953\"], [0.7777777777777778, \"#fb9f3a\"], [0.8888888888888888, \"#fdca26\"], [1.0, \"#f0f921\"]]}, \"colorway\": [\"#636efa\", \"#EF553B\", \"#00cc96\", \"#ab63fa\", \"#FFA15A\", \"#19d3f3\", \"#FF6692\", \"#B6E880\", \"#FF97FF\", \"#FECB52\"], \"font\": {\"color\": \"#2a3f5f\"}, \"geo\": {\"bgcolor\": \"white\", \"lakecolor\": \"white\", \"landcolor\": \"#E5ECF6\", \"showlakes\": true, \"showland\": true, \"subunitcolor\": \"white\"}, \"hoverlabel\": {\"align\": \"left\"}, \"hovermode\": \"closest\", \"mapbox\": {\"style\": \"light\"}, \"paper_bgcolor\": \"white\", \"plot_bgcolor\": \"#E5ECF6\", \"polar\": {\"angularaxis\": {\"gridcolor\": \"white\", \"linecolor\": \"white\", \"ticks\": \"\"}, \"bgcolor\": \"#E5ECF6\", \"radialaxis\": {\"gridcolor\": \"white\", \"linecolor\": \"white\", \"ticks\": \"\"}}, \"scene\": {\"xaxis\": {\"backgroundcolor\": \"#E5ECF6\", \"gridcolor\": \"white\", \"gridwidth\": 2, \"linecolor\": \"white\", \"showbackground\": true, \"ticks\": \"\", \"zerolinecolor\": \"white\"}, \"yaxis\": {\"backgroundcolor\": \"#E5ECF6\", \"gridcolor\": \"white\", \"gridwidth\": 2, \"linecolor\": \"white\", \"showbackground\": true, \"ticks\": \"\", \"zerolinecolor\": \"white\"}, \"zaxis\": {\"backgroundcolor\": \"#E5ECF6\", \"gridcolor\": \"white\", \"gridwidth\": 2, \"linecolor\": \"white\", \"showbackground\": true, \"ticks\": \"\", \"zerolinecolor\": \"white\"}}, \"shapedefaults\": {\"line\": {\"color\": \"#2a3f5f\"}}, \"ternary\": {\"aaxis\": {\"gridcolor\": \"white\", \"linecolor\": \"white\", \"ticks\": \"\"}, \"baxis\": {\"gridcolor\": \"white\", \"linecolor\": \"white\", \"ticks\": \"\"}, \"bgcolor\": \"#E5ECF6\", \"caxis\": {\"gridcolor\": \"white\", \"linecolor\": \"white\", \"ticks\": \"\"}}, \"title\": {\"x\": 0.05}, \"xaxis\": {\"automargin\": true, \"gridcolor\": \"white\", \"linecolor\": \"white\", \"ticks\": \"\", \"title\": {\"standoff\": 15}, \"zerolinecolor\": \"white\", \"zerolinewidth\": 2}, \"yaxis\": {\"automargin\": true, \"gridcolor\": \"white\", \"linecolor\": \"white\", \"ticks\": \"\", \"title\": {\"standoff\": 15}, \"zerolinecolor\": \"white\", \"zerolinewidth\": 2}}}},\n",
       "                        {\"responsive\": true}\n",
       "                    ).then(function(){\n",
       "                            \n",
       "var gd = document.getElementById('4da571a5-62e7-47c0-a675-9b503e0fc1b6');\n",
       "var x = new MutationObserver(function (mutations, observer) {{\n",
       "        var display = window.getComputedStyle(gd).display;\n",
       "        if (!display || display === 'none') {{\n",
       "            console.log([gd, 'removed!']);\n",
       "            Plotly.purge(gd);\n",
       "            observer.disconnect();\n",
       "        }}\n",
       "}});\n",
       "\n",
       "// Listen for the removal of the full notebook cells\n",
       "var notebookContainer = gd.closest('#notebook-container');\n",
       "if (notebookContainer) {{\n",
       "    x.observe(notebookContainer, {childList: true});\n",
       "}}\n",
       "\n",
       "// Listen for the clearing of the current output cell\n",
       "var outputEl = gd.closest('.output');\n",
       "if (outputEl) {{\n",
       "    x.observe(outputEl, {childList: true});\n",
       "}}\n",
       "\n",
       "                        })\n",
       "                };\n",
       "                \n",
       "            </script>\n",
       "        </div>\n",
       "</body>\n",
       "</html>"
      ]
     },
     "metadata": {
      "tags": []
     },
     "output_type": "display_data"
    }
   ],
   "source": [
    "fig = px.scatter_geo(train_values, lat=\"DECLATITUDE\", lon=\"DECLONGITUDE\", color=\"predictions\")\n",
    "fig.show()"
   ]
  },
  {
   "cell_type": "code",
   "execution_count": null,
   "metadata": {
    "colab": {
     "base_uri": "https://localhost:8080/",
     "height": 542
    },
    "executionInfo": {
     "elapsed": 244,
     "status": "ok",
     "timestamp": 1625906613499,
     "user": {
      "displayName": "Icíar Civantos Gómez",
      "photoUrl": "",
      "userId": "06033810409542157400"
     },
     "user_tz": -120
    },
    "id": "5B9XnUlSOaAt",
    "outputId": "aafaa6b6-f15f-4733-b5e4-beabb8e1e3e1"
   },
   "outputs": [
    {
     "data": {
      "text/html": [
       "<html>\n",
       "<head><meta charset=\"utf-8\" /></head>\n",
       "<body>\n",
       "    <div>\n",
       "            <script src=\"https://cdnjs.cloudflare.com/ajax/libs/mathjax/2.7.5/MathJax.js?config=TeX-AMS-MML_SVG\"></script><script type=\"text/javascript\">if (window.MathJax) {MathJax.Hub.Config({SVG: {font: \"STIX-Web\"}});}</script>\n",
       "                <script type=\"text/javascript\">window.PlotlyConfig = {MathJaxConfig: 'local'};</script>\n",
       "        <script src=\"https://cdn.plot.ly/plotly-latest.min.js\"></script>    \n",
       "            <div id=\"956cb6b4-7581-424e-99fc-d1c30612ebd7\" class=\"plotly-graph-div\" style=\"height:525px; width:100%;\"></div>\n",
       "            <script type=\"text/javascript\">\n",
       "                \n",
       "                    window.PLOTLYENV=window.PLOTLYENV || {};\n",
       "                    \n",
       "                if (document.getElementById(\"956cb6b4-7581-424e-99fc-d1c30612ebd7\")) {\n",
       "                    Plotly.newPlot(\n",
       "                        '956cb6b4-7581-424e-99fc-d1c30612ebd7',\n",
       "                        [{\"geo\": \"geo\", \"hoverlabel\": {\"namelength\": 0}, \"hovertemplate\": \"DECLATITUDE=%{lat}<br>DECLONGITUDE=%{lon}<br>predictions=%{marker.color}\", \"lat\": [31.81666667, 42.33888889, 40.98944444, 39.32472222, 38.2494, 42.95, 42.40944444, 42.22166667, 42.0, 39.25666667, 40.10888889, 42.33, 40.93972222, 39.61194444, 37.079643, 30.06666667, 42.33333333, 42.4925, 39.20833333, 42.42555556, 37.30611111, 42.32166667, -28.63333333, 38.71111111, 42.57166667, 40.32361111, 39.62722222, 26.51694444, 40.88416667, 41.0775, 41.07472222, 42.53472222, 31.13333333, 28.79722222, 42.37222222, 40.54472222, 38.98805556, 41.11527778, 42.35083333, 38.97388889, 42.95277778, 41.98611111, 40.64083333, 42.40694444, 40.00861111, 42.90944444, 40.58805556, 40.14277778, 41.82083333, 40.53166667, 38.217971999999996, 33.544635, 40.91666667, 36.94611111, 29.14527778, 39.26888889, 42.57666667, 40.90361111, 40.92638889, 39.74194444, 41.05, 44.08333333, 37.901623, 40.82444444, 37.62, 29.09666667, 41.94305556, 42.91666667, 33.76062, 43.00277778, 39.36666667, 39.63333333, 37.34388889, 41.70083333, 40.71666667, 9.5833, 36.39], \"legendgroup\": \"\", \"lon\": [35.03333333, -5.368055556, -6.865, -2.269166667, 48.3014, -5.983333332999999, -4.175555556, -4.8555555560000005, 47.0, -1.853055556, -3.3872222219999997, -4.034166667, -2.7861111110000003, -1.7947222219999999, 37.410987, 73.06666667, -5.36666667, -4.603055556, -2.158055556, -0.661388889, 29.77583333, -5.0191666669999995, -53.1, -4.177777778, -5.0597222219999995, -3.108333333, -1.9436111109999998, 83.8, -2.8175, -5.611944444, -5.566944444, -5.275, 35.64083333, -17.75861111, -5.031944444, -2.9575, -4.114722222, -5.572777778, -5.383888889, -3.3438888889999996, -5.544444444, -5.403055556, -2.8413888889999996, -4.902222222, -3.9455555560000004, -4.075833333, -1.789722222, -2.568888889, -4.176388889, -3.030833333, 37.203332, 68.4106, 32.08333333, -3.1794444439999996, -13.49666667, -2.605833333, 0.27638888899999997, -2.913055556, -2.921111111, 39.4925, -2.1, 7.6, 40.155321, -2.7811111110000004, 35.86, -13.47, -4.506388889, -5.001388888999999, 35.885183000000005, -5.256944444, -1.7, 22.41666667, -3.7855555560000003, -4.84, -2.766666667, 41.8667, 37.18], \"marker\": {\"color\": [52.327778674037475, 61.4184734655218, 62.68923603101918, 42.16503324272388, 61.40356841414175, 54.940374918127546, 49.36148315866884, 59.26957433024762, 63.97475866741598, 41.588879031920534, 58.36066683910967, 57.55980454400979, 37.2907091973057, 40.41184595162847, 45.59394434760327, 47.58896354056945, 47.448644425304764, 62.4110397658189, 59.86469646701988, 62.12029729916232, 61.381339906823314, 51.33825510577128, 68.24870816389078, 52.50784287758895, 61.01528469582376, 63.0640787836568, 58.04624575208349, 62.97373403924984, 39.66908798257455, 48.07250934493577, 44.08352484967382, 54.37030728151859, 54.37030728151859, 51.67751436910778, 62.80886638196594, 58.08933629004533, 52.41651196696674, 53.77769115809121, 54.75028878458402, 57.47705943014588, 57.18114102970313, 60.02787155201298, 55.76685668821633, 51.98254831366483, 53.5743822769305, 56.72365891520212, 59.44869945141721, 66.1724190229395, 55.133035142871286, 43.132278431085275, 50.022381943833416, 42.172284484556165, 42.49857762567927, 58.27103972325358, 60.30084069795664, 54.647297011470926, 60.817171832511036, 60.619761744262846, 58.37552475006112, 46.44180416930939, 61.66743165021469, 50.797669719406244, 62.45591148182492, 64.24902736327131, 41.49234092833126, 43.11544305159998, 57.18114102970313, 57.28164861841454, 57.92365051653302, 58.999120717578144, 56.80034304454295, 48.30717760511306, 57.298687705723054, 58.90619007448112, 58.50477858474239, 52.213068769300335, 46.45242035887958], \"coloraxis\": \"coloraxis\"}, \"name\": \"\", \"showlegend\": false, \"type\": \"scattergeo\"}],\n",
       "                        {\"coloraxis\": {\"colorbar\": {\"title\": {\"text\": \"predictions\"}}, \"colorscale\": [[0.0, \"#0d0887\"], [0.1111111111111111, \"#46039f\"], [0.2222222222222222, \"#7201a8\"], [0.3333333333333333, \"#9c179e\"], [0.4444444444444444, \"#bd3786\"], [0.5555555555555556, \"#d8576b\"], [0.6666666666666666, \"#ed7953\"], [0.7777777777777778, \"#fb9f3a\"], [0.8888888888888888, \"#fdca26\"], [1.0, \"#f0f921\"]]}, \"geo\": {\"center\": {}, \"domain\": {\"x\": [0.0, 1.0], \"y\": [0.0, 1.0]}}, \"legend\": {\"tracegroupgap\": 0}, \"margin\": {\"t\": 60}, \"template\": {\"data\": {\"bar\": [{\"error_x\": {\"color\": \"#2a3f5f\"}, \"error_y\": {\"color\": \"#2a3f5f\"}, \"marker\": {\"line\": {\"color\": \"#E5ECF6\", \"width\": 0.5}}, \"type\": \"bar\"}], \"barpolar\": [{\"marker\": {\"line\": {\"color\": \"#E5ECF6\", \"width\": 0.5}}, \"type\": \"barpolar\"}], \"carpet\": [{\"aaxis\": {\"endlinecolor\": \"#2a3f5f\", \"gridcolor\": \"white\", \"linecolor\": \"white\", \"minorgridcolor\": \"white\", \"startlinecolor\": \"#2a3f5f\"}, \"baxis\": {\"endlinecolor\": \"#2a3f5f\", \"gridcolor\": \"white\", \"linecolor\": \"white\", \"minorgridcolor\": \"white\", \"startlinecolor\": \"#2a3f5f\"}, \"type\": \"carpet\"}], \"choropleth\": [{\"colorbar\": {\"outlinewidth\": 0, \"ticks\": \"\"}, \"type\": \"choropleth\"}], \"contour\": [{\"colorbar\": {\"outlinewidth\": 0, \"ticks\": \"\"}, \"colorscale\": [[0.0, \"#0d0887\"], [0.1111111111111111, \"#46039f\"], [0.2222222222222222, \"#7201a8\"], [0.3333333333333333, \"#9c179e\"], [0.4444444444444444, \"#bd3786\"], [0.5555555555555556, \"#d8576b\"], [0.6666666666666666, \"#ed7953\"], [0.7777777777777778, \"#fb9f3a\"], [0.8888888888888888, \"#fdca26\"], [1.0, \"#f0f921\"]], \"type\": \"contour\"}], \"contourcarpet\": [{\"colorbar\": {\"outlinewidth\": 0, \"ticks\": \"\"}, \"type\": \"contourcarpet\"}], \"heatmap\": [{\"colorbar\": {\"outlinewidth\": 0, \"ticks\": \"\"}, \"colorscale\": [[0.0, \"#0d0887\"], [0.1111111111111111, \"#46039f\"], [0.2222222222222222, \"#7201a8\"], [0.3333333333333333, \"#9c179e\"], [0.4444444444444444, \"#bd3786\"], [0.5555555555555556, \"#d8576b\"], [0.6666666666666666, \"#ed7953\"], [0.7777777777777778, \"#fb9f3a\"], [0.8888888888888888, \"#fdca26\"], [1.0, \"#f0f921\"]], \"type\": \"heatmap\"}], \"heatmapgl\": [{\"colorbar\": {\"outlinewidth\": 0, \"ticks\": \"\"}, \"colorscale\": [[0.0, \"#0d0887\"], [0.1111111111111111, \"#46039f\"], [0.2222222222222222, \"#7201a8\"], [0.3333333333333333, \"#9c179e\"], [0.4444444444444444, \"#bd3786\"], [0.5555555555555556, \"#d8576b\"], [0.6666666666666666, \"#ed7953\"], [0.7777777777777778, \"#fb9f3a\"], [0.8888888888888888, \"#fdca26\"], [1.0, \"#f0f921\"]], \"type\": \"heatmapgl\"}], \"histogram\": [{\"marker\": {\"colorbar\": {\"outlinewidth\": 0, \"ticks\": \"\"}}, \"type\": \"histogram\"}], \"histogram2d\": [{\"colorbar\": {\"outlinewidth\": 0, \"ticks\": \"\"}, \"colorscale\": [[0.0, \"#0d0887\"], [0.1111111111111111, \"#46039f\"], [0.2222222222222222, \"#7201a8\"], [0.3333333333333333, \"#9c179e\"], [0.4444444444444444, \"#bd3786\"], [0.5555555555555556, \"#d8576b\"], [0.6666666666666666, \"#ed7953\"], [0.7777777777777778, \"#fb9f3a\"], [0.8888888888888888, \"#fdca26\"], [1.0, \"#f0f921\"]], \"type\": \"histogram2d\"}], \"histogram2dcontour\": [{\"colorbar\": {\"outlinewidth\": 0, \"ticks\": \"\"}, \"colorscale\": [[0.0, \"#0d0887\"], [0.1111111111111111, \"#46039f\"], [0.2222222222222222, \"#7201a8\"], [0.3333333333333333, \"#9c179e\"], [0.4444444444444444, \"#bd3786\"], [0.5555555555555556, \"#d8576b\"], [0.6666666666666666, \"#ed7953\"], [0.7777777777777778, \"#fb9f3a\"], [0.8888888888888888, \"#fdca26\"], [1.0, \"#f0f921\"]], \"type\": \"histogram2dcontour\"}], \"mesh3d\": [{\"colorbar\": {\"outlinewidth\": 0, \"ticks\": \"\"}, \"type\": \"mesh3d\"}], \"parcoords\": [{\"line\": {\"colorbar\": {\"outlinewidth\": 0, \"ticks\": \"\"}}, \"type\": \"parcoords\"}], \"pie\": [{\"automargin\": true, \"type\": \"pie\"}], \"scatter\": [{\"marker\": {\"colorbar\": {\"outlinewidth\": 0, \"ticks\": \"\"}}, \"type\": \"scatter\"}], \"scatter3d\": [{\"line\": {\"colorbar\": {\"outlinewidth\": 0, \"ticks\": \"\"}}, \"marker\": {\"colorbar\": {\"outlinewidth\": 0, \"ticks\": \"\"}}, \"type\": \"scatter3d\"}], \"scattercarpet\": [{\"marker\": {\"colorbar\": {\"outlinewidth\": 0, \"ticks\": \"\"}}, \"type\": \"scattercarpet\"}], \"scattergeo\": [{\"marker\": {\"colorbar\": {\"outlinewidth\": 0, \"ticks\": \"\"}}, \"type\": \"scattergeo\"}], \"scattergl\": [{\"marker\": {\"colorbar\": {\"outlinewidth\": 0, \"ticks\": \"\"}}, \"type\": \"scattergl\"}], \"scattermapbox\": [{\"marker\": {\"colorbar\": {\"outlinewidth\": 0, \"ticks\": \"\"}}, \"type\": \"scattermapbox\"}], \"scatterpolar\": [{\"marker\": {\"colorbar\": {\"outlinewidth\": 0, \"ticks\": \"\"}}, \"type\": \"scatterpolar\"}], \"scatterpolargl\": [{\"marker\": {\"colorbar\": {\"outlinewidth\": 0, \"ticks\": \"\"}}, \"type\": \"scatterpolargl\"}], \"scatterternary\": [{\"marker\": {\"colorbar\": {\"outlinewidth\": 0, \"ticks\": \"\"}}, \"type\": \"scatterternary\"}], \"surface\": [{\"colorbar\": {\"outlinewidth\": 0, \"ticks\": \"\"}, \"colorscale\": [[0.0, \"#0d0887\"], [0.1111111111111111, \"#46039f\"], [0.2222222222222222, \"#7201a8\"], [0.3333333333333333, \"#9c179e\"], [0.4444444444444444, \"#bd3786\"], [0.5555555555555556, \"#d8576b\"], [0.6666666666666666, \"#ed7953\"], [0.7777777777777778, \"#fb9f3a\"], [0.8888888888888888, \"#fdca26\"], [1.0, \"#f0f921\"]], \"type\": \"surface\"}], \"table\": [{\"cells\": {\"fill\": {\"color\": \"#EBF0F8\"}, \"line\": {\"color\": \"white\"}}, \"header\": {\"fill\": {\"color\": \"#C8D4E3\"}, \"line\": {\"color\": \"white\"}}, \"type\": \"table\"}]}, \"layout\": {\"annotationdefaults\": {\"arrowcolor\": \"#2a3f5f\", \"arrowhead\": 0, \"arrowwidth\": 1}, \"coloraxis\": {\"colorbar\": {\"outlinewidth\": 0, \"ticks\": \"\"}}, \"colorscale\": {\"diverging\": [[0, \"#8e0152\"], [0.1, \"#c51b7d\"], [0.2, \"#de77ae\"], [0.3, \"#f1b6da\"], [0.4, \"#fde0ef\"], [0.5, \"#f7f7f7\"], [0.6, \"#e6f5d0\"], [0.7, \"#b8e186\"], [0.8, \"#7fbc41\"], [0.9, \"#4d9221\"], [1, \"#276419\"]], \"sequential\": [[0.0, \"#0d0887\"], [0.1111111111111111, \"#46039f\"], [0.2222222222222222, \"#7201a8\"], [0.3333333333333333, \"#9c179e\"], [0.4444444444444444, \"#bd3786\"], [0.5555555555555556, \"#d8576b\"], [0.6666666666666666, \"#ed7953\"], [0.7777777777777778, \"#fb9f3a\"], [0.8888888888888888, \"#fdca26\"], [1.0, \"#f0f921\"]], \"sequentialminus\": [[0.0, \"#0d0887\"], [0.1111111111111111, \"#46039f\"], [0.2222222222222222, \"#7201a8\"], [0.3333333333333333, \"#9c179e\"], [0.4444444444444444, \"#bd3786\"], [0.5555555555555556, \"#d8576b\"], [0.6666666666666666, \"#ed7953\"], [0.7777777777777778, \"#fb9f3a\"], [0.8888888888888888, \"#fdca26\"], [1.0, \"#f0f921\"]]}, \"colorway\": [\"#636efa\", \"#EF553B\", \"#00cc96\", \"#ab63fa\", \"#FFA15A\", \"#19d3f3\", \"#FF6692\", \"#B6E880\", \"#FF97FF\", \"#FECB52\"], \"font\": {\"color\": \"#2a3f5f\"}, \"geo\": {\"bgcolor\": \"white\", \"lakecolor\": \"white\", \"landcolor\": \"#E5ECF6\", \"showlakes\": true, \"showland\": true, \"subunitcolor\": \"white\"}, \"hoverlabel\": {\"align\": \"left\"}, \"hovermode\": \"closest\", \"mapbox\": {\"style\": \"light\"}, \"paper_bgcolor\": \"white\", \"plot_bgcolor\": \"#E5ECF6\", \"polar\": {\"angularaxis\": {\"gridcolor\": \"white\", \"linecolor\": \"white\", \"ticks\": \"\"}, \"bgcolor\": \"#E5ECF6\", \"radialaxis\": {\"gridcolor\": \"white\", \"linecolor\": \"white\", \"ticks\": \"\"}}, \"scene\": {\"xaxis\": {\"backgroundcolor\": \"#E5ECF6\", \"gridcolor\": \"white\", \"gridwidth\": 2, \"linecolor\": \"white\", \"showbackground\": true, \"ticks\": \"\", \"zerolinecolor\": \"white\"}, \"yaxis\": {\"backgroundcolor\": \"#E5ECF6\", \"gridcolor\": \"white\", \"gridwidth\": 2, \"linecolor\": \"white\", \"showbackground\": true, \"ticks\": \"\", \"zerolinecolor\": \"white\"}, \"zaxis\": {\"backgroundcolor\": \"#E5ECF6\", \"gridcolor\": \"white\", \"gridwidth\": 2, \"linecolor\": \"white\", \"showbackground\": true, \"ticks\": \"\", \"zerolinecolor\": \"white\"}}, \"shapedefaults\": {\"line\": {\"color\": \"#2a3f5f\"}}, \"ternary\": {\"aaxis\": {\"gridcolor\": \"white\", \"linecolor\": \"white\", \"ticks\": \"\"}, \"baxis\": {\"gridcolor\": \"white\", \"linecolor\": \"white\", \"ticks\": \"\"}, \"bgcolor\": \"#E5ECF6\", \"caxis\": {\"gridcolor\": \"white\", \"linecolor\": \"white\", \"ticks\": \"\"}}, \"title\": {\"x\": 0.05}, \"xaxis\": {\"automargin\": true, \"gridcolor\": \"white\", \"linecolor\": \"white\", \"ticks\": \"\", \"title\": {\"standoff\": 15}, \"zerolinecolor\": \"white\", \"zerolinewidth\": 2}, \"yaxis\": {\"automargin\": true, \"gridcolor\": \"white\", \"linecolor\": \"white\", \"ticks\": \"\", \"title\": {\"standoff\": 15}, \"zerolinecolor\": \"white\", \"zerolinewidth\": 2}}}},\n",
       "                        {\"responsive\": true}\n",
       "                    ).then(function(){\n",
       "                            \n",
       "var gd = document.getElementById('956cb6b4-7581-424e-99fc-d1c30612ebd7');\n",
       "var x = new MutationObserver(function (mutations, observer) {{\n",
       "        var display = window.getComputedStyle(gd).display;\n",
       "        if (!display || display === 'none') {{\n",
       "            console.log([gd, 'removed!']);\n",
       "            Plotly.purge(gd);\n",
       "            observer.disconnect();\n",
       "        }}\n",
       "}});\n",
       "\n",
       "// Listen for the removal of the full notebook cells\n",
       "var notebookContainer = gd.closest('#notebook-container');\n",
       "if (notebookContainer) {{\n",
       "    x.observe(notebookContainer, {childList: true});\n",
       "}}\n",
       "\n",
       "// Listen for the clearing of the current output cell\n",
       "var outputEl = gd.closest('.output');\n",
       "if (outputEl) {{\n",
       "    x.observe(outputEl, {childList: true});\n",
       "}}\n",
       "\n",
       "                        })\n",
       "                };\n",
       "                \n",
       "            </script>\n",
       "        </div>\n",
       "</body>\n",
       "</html>"
      ]
     },
     "metadata": {
      "tags": []
     },
     "output_type": "display_data"
    }
   ],
   "source": [
    "fig = px.scatter_geo(test_values.dropna(), lat=\"DECLATITUDE\", lon=\"DECLONGITUDE\", color=\"predictions\")\n",
    "fig.show()"
   ]
  },
  {
   "cell_type": "markdown",
   "metadata": {
    "id": "uWp1Vphm66Ev"
   },
   "source": [
    "## NEW DATASET"
   ]
  },
  {
   "cell_type": "code",
   "execution_count": null,
   "metadata": {
    "id": "XpX3S_BTeVQo"
   },
   "outputs": [],
   "source": [
    "from google.colab import files \n",
    "uploaded = files.upload()"
   ]
  },
  {
   "cell_type": "code",
   "execution_count": null,
   "metadata": {
    "colab": {
     "base_uri": "https://localhost:8080/",
     "height": 206
    },
    "executionInfo": {
     "elapsed": 985,
     "status": "ok",
     "timestamp": 1625907038621,
     "user": {
      "displayName": "Icíar Civantos Gómez",
      "photoUrl": "",
      "userId": "06033810409542157400"
     },
     "user_tz": -120
    },
    "id": "A3emLucerL3J",
    "outputId": "cb26b157-9cd9-48a5-ad06-e46760c38d20"
   },
   "outputs": [
    {
     "data": {
      "text/html": [
       "<div>\n",
       "<style scoped>\n",
       "    .dataframe tbody tr th:only-of-type {\n",
       "        vertical-align: middle;\n",
       "    }\n",
       "\n",
       "    .dataframe tbody tr th {\n",
       "        vertical-align: top;\n",
       "    }\n",
       "\n",
       "    .dataframe thead th {\n",
       "        text-align: right;\n",
       "    }\n",
       "</style>\n",
       "<table border=\"1\" class=\"dataframe\">\n",
       "  <thead>\n",
       "    <tr style=\"text-align: right;\">\n",
       "      <th></th>\n",
       "      <th>Latitude_decimal</th>\n",
       "      <th>Longitude_decimal</th>\n",
       "      <th>bio_1</th>\n",
       "      <th>srad_12</th>\n",
       "      <th>srad_annual</th>\n",
       "      <th>t_bulk_dens</th>\n",
       "      <th>t_sand</th>\n",
       "      <th>t_soilwater_cap</th>\n",
       "      <th>t_teb</th>\n",
       "      <th>long</th>\n",
       "      <th>DeMartonneANNUAL</th>\n",
       "    </tr>\n",
       "  </thead>\n",
       "  <tbody>\n",
       "    <tr>\n",
       "      <th>0</th>\n",
       "      <td>38.523891</td>\n",
       "      <td>22.502781</td>\n",
       "      <td>9.944834</td>\n",
       "      <td>0.5364</td>\n",
       "      <td>14913.33301</td>\n",
       "      <td>1422.625000</td>\n",
       "      <td>28.0</td>\n",
       "      <td>23.950001</td>\n",
       "      <td>37.599998</td>\n",
       "      <td>0.856812</td>\n",
       "      <td>40.110638</td>\n",
       "    </tr>\n",
       "    <tr>\n",
       "      <th>1</th>\n",
       "      <td>44.650000</td>\n",
       "      <td>33.700000</td>\n",
       "      <td>10.797833</td>\n",
       "      <td>0.5352</td>\n",
       "      <td>13129.16699</td>\n",
       "      <td>1484.375000</td>\n",
       "      <td>21.0</td>\n",
       "      <td>23.825001</td>\n",
       "      <td>22.900000</td>\n",
       "      <td>0.932749</td>\n",
       "      <td>23.848638</td>\n",
       "    </tr>\n",
       "    <tr>\n",
       "      <th>2</th>\n",
       "      <td>44.483333</td>\n",
       "      <td>33.716667</td>\n",
       "      <td>9.402000</td>\n",
       "      <td>0.5124</td>\n",
       "      <td>13137.33301</td>\n",
       "      <td>1451.250000</td>\n",
       "      <td>23.0</td>\n",
       "      <td>24.150000</td>\n",
       "      <td>22.100000</td>\n",
       "      <td>0.732039</td>\n",
       "      <td>29.429955</td>\n",
       "    </tr>\n",
       "    <tr>\n",
       "      <th>3</th>\n",
       "      <td>41.724720</td>\n",
       "      <td>34.582500</td>\n",
       "      <td>8.059834</td>\n",
       "      <td>0.4556</td>\n",
       "      <td>14525.75000</td>\n",
       "      <td>1402.900024</td>\n",
       "      <td>38.0</td>\n",
       "      <td>23.650000</td>\n",
       "      <td>27.100000</td>\n",
       "      <td>-0.929344</td>\n",
       "      <td>37.431131</td>\n",
       "    </tr>\n",
       "    <tr>\n",
       "      <th>4</th>\n",
       "      <td>37.100000</td>\n",
       "      <td>37.200000</td>\n",
       "      <td>14.031000</td>\n",
       "      <td>0.5284</td>\n",
       "      <td>17900.00000</td>\n",
       "      <td>1502.800049</td>\n",
       "      <td>26.0</td>\n",
       "      <td>24.900000</td>\n",
       "      <td>13.400000</td>\n",
       "      <td>-0.113753</td>\n",
       "      <td>24.135492</td>\n",
       "    </tr>\n",
       "  </tbody>\n",
       "</table>\n",
       "</div>"
      ],
      "text/plain": [
       "   Latitude_decimal  Longitude_decimal  ...      long  DeMartonneANNUAL\n",
       "0         38.523891          22.502781  ...  0.856812         40.110638\n",
       "1         44.650000          33.700000  ...  0.932749         23.848638\n",
       "2         44.483333          33.716667  ...  0.732039         29.429955\n",
       "3         41.724720          34.582500  ... -0.929344         37.431131\n",
       "4         37.100000          37.200000  ... -0.113753         24.135492\n",
       "\n",
       "[5 rows x 11 columns]"
      ]
     },
     "execution_count": 38,
     "metadata": {
      "tags": []
     },
     "output_type": "execute_result"
    }
   ],
   "source": [
    "roya_test = pd.read_excel(\"SupplementaryTable3_RubioTeso_etal_Martonne.xlsx\")\n",
    "roya_test = roya_test[['Latitude_decimal','Longitude_decimal','bio_1','srad_12', 'srad_annual', 't_bulk_dens', 't_sand', 't_soilwater_cap','t_teb', 'long','DeMartonneANNUAL']]\n",
    "roya_test['DeMartonneANNUAL'] = pd.to_numeric(roya_test['DeMartonneANNUAL'], errors='coerce')\n",
    "roya_test.head()"
   ]
  },
  {
   "cell_type": "code",
   "execution_count": null,
   "metadata": {
    "id": "1Rk9fAxIeg58"
   },
   "outputs": [],
   "source": [
    "roya_test = roya_test.dropna()\n",
    "\n",
    "roya_test_pred = roya_test.drop(columns=['Latitude_decimal','Longitude_decimal','DeMartonneANNUAL'])\n",
    "roya_test_pred_scaled = std_scaler_model.transform(roya_test_pred)\n",
    "\n",
    "predictions_rf = rf.predict(roya_test_pred_scaled)"
   ]
  },
  {
   "cell_type": "code",
   "execution_count": null,
   "metadata": {
    "id": "u7r3SADzegK3"
   },
   "outputs": [],
   "source": [
    "predictions_xgb = xgb.predict(pd.DataFrame(roya_test_pred_scaled, columns=['bio_1', 'srad_12', 'srad_annual', 't_bulk_dens', 't_sand', 't_soilwater_cap', 't_teb', 'long']))"
   ]
  },
  {
   "cell_type": "code",
   "execution_count": null,
   "metadata": {
    "id": "_7u-6lwsgtsP"
   },
   "outputs": [],
   "source": [
    "predictions_ridge = clf.predict(roya_test_pred_scaled)"
   ]
  },
  {
   "cell_type": "code",
   "execution_count": null,
   "metadata": {
    "id": "UODhxGn8P1Hp"
   },
   "outputs": [],
   "source": [
    "roya_test['predictions_ridge'] = predictions_ridge"
   ]
  },
  {
   "cell_type": "code",
   "execution_count": null,
   "metadata": {
    "colab": {
     "base_uri": "https://localhost:8080/",
     "height": 542
    },
    "executionInfo": {
     "elapsed": 846,
     "status": "ok",
     "timestamp": 1625907047778,
     "user": {
      "displayName": "Icíar Civantos Gómez",
      "photoUrl": "",
      "userId": "06033810409542157400"
     },
     "user_tz": -120
    },
    "id": "Rok2FP1Bl6-J",
    "outputId": "44fc0c57-4efb-4992-e917-7fe4561fcc0b"
   },
   "outputs": [
    {
     "data": {
      "text/html": [
       "<html>\n",
       "<head><meta charset=\"utf-8\" /></head>\n",
       "<body>\n",
       "    <div>\n",
       "            <script src=\"https://cdnjs.cloudflare.com/ajax/libs/mathjax/2.7.5/MathJax.js?config=TeX-AMS-MML_SVG\"></script><script type=\"text/javascript\">if (window.MathJax) {MathJax.Hub.Config({SVG: {font: \"STIX-Web\"}});}</script>\n",
       "                <script type=\"text/javascript\">window.PlotlyConfig = {MathJaxConfig: 'local'};</script>\n",
       "        <script src=\"https://cdn.plot.ly/plotly-latest.min.js\"></script>    \n",
       "            <div id=\"8bcdde50-b813-405f-969d-50cc26aa6c34\" class=\"plotly-graph-div\" style=\"height:525px; width:100%;\"></div>\n",
       "            <script type=\"text/javascript\">\n",
       "                \n",
       "                    window.PLOTLYENV=window.PLOTLYENV || {};\n",
       "                    \n",
       "                if (document.getElementById(\"8bcdde50-b813-405f-969d-50cc26aa6c34\")) {\n",
       "                    Plotly.newPlot(\n",
       "                        '8bcdde50-b813-405f-969d-50cc26aa6c34',\n",
       "                        [{\"geo\": \"geo\", \"hoverlabel\": {\"namelength\": 0}, \"hovertemplate\": \"Latitude_decimal=%{lat}<br>Longitude_decimal=%{lon}<br>DeMartonneANNUAL=%{marker.color}\", \"lat\": [38.523891, 44.65, 44.483333, 41.72472, 37.1, 37.483333, 37.266667, 39.8239, 38.5, 38.90583, 38.61417, 38.59444, 38.984718, 38.595001, 38.840279, 38.686668, 38.9, 38.4333, 38.424999, 37.866667, 38.423889, 38.005562, 38.91917, 40.19611, 38.633333, 38.508888, 38.873611, 38.3333, 37.65, 37.666667, 38.85722, 38.996109, 38.752499, 40.95, 41.355831, 41.145828, 37.083333, 36.916667, 38.45, 37.766667, 35.55, 36.2, 36.216667, 38.35, 37.016667, 34.886389, 44.483333, 44.4, 44.416667, 44.583333, 44.857451, 38.3833, 36.9, 36.866667, 37.75, 36.9, 42.31878, 41.41623, 38.3167, 42.23333, 41.41667, 42.31667, 42.38333, 42.31176, 42.38333, 42.40135, 41.76724, 41.71667, 41.71667, 38.4167, 41.83333, 38.0833, 37.55, 36.75, 36.45, 36.25, 36.2833, 36.3, 36.45, 37.71666667, 37.05, 36.85, 45.9167, 34.9018, 34.9056, 35.01944, 36.1, 34.96417, 36.1, 34.90528, 45.5, 34.8925, 34.87556, 36.3, 44.40416667, 37.5833, 37.7, 37.9333, 36.1, 36.1333, 40.6, 37.4333, 36.9167, 37.0667, 37.0833, 37.6, 37.6, 36.85, 37.5, 37.1667, 37.0444, 43.3333, 36.823, 43.44861, 40.850177, 43.392945, 43.758997, 43.433342, 43.323891, 43.164774, 42.514999, 42.514999, 42.5833, 39.53056, 38.701672, 37.82258, 38.779442, 39.15, 38.32688, 39.640282, 39.256672, 40.063611, 39.758888, 39.339722, 39.35944, 39.10083, 39.301941, 39.212502, 39.312778, 39.321941, 39.326111, 42.5147, 39.294998, 39.372219, 39.331108, 38.808331, 38.786942, 38.665001, 38.728329, 39.362221, 40.283333, 38.965832, 38.7775, 36.74167, 37.4744, 37.1167, 36.75, 36.70222, 37.083333, 39.15, 38.8, 38.77, 38.776, 38.78, 36.746, 36.625, 38.74, 38.75583, 42.76369, 42.85431, 42.94437, 42.85445, 42.89858, 42.96808, 43.46493, 43.17554, 43.17218, 38.74028, 38.7333, 38.983333, 37.4167, 40.8767, 38.51, 39.95, 38.78, 39.95, 39.96, 39.96, 39.95, 39.96, 39.924, 41.0386, 40.05, 41.04, 40.9936, 40.06, 40.05, 40.05, 40.431, 40.404, 38.3333, 41.7148, 40.5264, 42.61, 42.616005, 37.249, 39.9786, 38.2337, 36.861, 36.87, 37.24, 36.88, 37.9007, 37.9007, 36.807657, 37.68, 37.26659, 41.1144, 37.751, 37.2667, 36.894, 36.876, 41.0222, 41.0313, 37.72, 37.53, 37.3333, 37.44, 36.9674, 40.2551, 42.808, 36.663, 42.825, 36.741, 36.632, 37.19472, 36.705, 41.306, 41.53, 41.5336, 41.84289, 41.8167, 41.759909, 40.4112, 39.3167, 37.15, 40.61, 40.85, 40.94, 42.58, 47.4894, 41.31, 41.31, 37.9667, 44.5576, 45.72929, 42.411119, 43.148646, 43.120632, 42.9473, 36.771932, 38.106939, 42.5261, 38.2461, 43.957236, 43.392945, 40.666577, 40.783333, 43.433342, 45.73047, 47.4275, 46.7911, 46.6307, 47.3929, 37.9083, 42.58263, 42.651132, 46.6907, 42.65, 42.6742, 47.4353, 47.3976, 42.94423, 47.1748, 38.33713, 39.5, 40.233333, 39.707218, 39.165829, 40.114719, 40.299999, 40.103889, 40.193329, 39.852219, 37.3, 40.28611, 40.177502, 40.07917, 40.130001, 40.283329, 40.291111, 40.18417, 40.442219, 38.625, 40.223888, 36.9833, 40.29361, 40.483891, 39.708611, 40.298328, 40.633333, 38.944439, 38.85194, 40.735001, 36.95, 38.919441, 38.923061, 40.816667, 39.665562, 40.60194, 38.9, 40.493889, 37.2333, 38.728062, 38.56694, 40.083333, 39.798889, 38.50528, 39.900002, 39.71944, 38.419998, 37.96944, 39.92889, 40.03083, 38.683333, 40.093609, 38.633333, 39.910278, 38.059441, 38.03611, 39.98056, 37.980831, 39.92944, 37.25917, 39.895561, 38.484169, 37.281391, 37.235561, 38.95528, 39.762779, 37.288609, 37.155281, 38.478611, 39.567501, 38.3825, 41.22361, 40.733333, 41.285561, 38.512218, 40.51556, 40.983333, 42.3358, 37.26472, 41.037498, 38.208328, 41.282219, 41.341389, 41.1875, 41.38306, 41.259171, 41.150002, 41.306938, 41.109718, 41.073059, 41.100559, 37.2231, 38.654171, 37.933333, 38.63333, 35.35, 40.876389, 41.362782, 41.160278, 41.118889, 41.116669, 41.1253, 41.33083, 37.133333, 41.28833, 41.058331, 41.133888, 40.967136, 41.107498, 41.14444, 37.4, 40.969719, 37.7433, 37.45, 37.116667, 41.17083, 41.133333, 35.15, 41.016667, 41.1, 42.04556, 42.66972, 38.35, 44.02356, 44.11356, 44.38359, 44.29258, 44.74008, 44.566667, 37.311944, 44.466667, 44.433333, 44.75, 44.820921, 44.823856, 44.844858, 44.8494, 44.854971, 44.927407, 41.4333, 44.857177, 44.866667, 44.950282, 44.903794, 44.916667, 44.926883, 44.924946, 44.932841, 41.0328, 44.75888, 44.703669, 37.4, 37.05, 37.016667, 44.37758, 44.46759, 44.10616, 44.37615, 40.3167, 44.46616, 44.55617, 44.53347, 44.19458, 44.28458, 44.37458, 44.46458, 44.55459, 44.51728, 44.37286, 43.916667, 44.46286, 44.369, 44.45899, 44.63899, 44.45684, 43.82472, 44.00465, 44.17912, 44.1846, 40.2756, 44.36456, 44.45455, 43.70359, 43.82232, 43.91227, 44.00224, 44.18218, 44.27215, 44.36213, 44.72208, 43.46, 43.63988, 43.81977, 43.99968, 44.08964, 44.26958, 44.35956, 44.44953, 43.82001, 43.81708, 36.644722, 43.76632, 43.99698, 44.1769, 44.26687, 43.90419, 43.99414, 44.08409, 44.17405, 44.00367, 43.93059, 36.9667, 43.80678, 44.09836, 43.36165, 43.54148, 43.6314, 43.72133, 43.90121, 43.99115, 44.0811, 44.17106, 44.26101, 44.35097, 44.44094, 43.26866, 43.35856, 43.53838, 43.6283, 43.71822, 43.80815, 43.89809, 37.0833, 43.98803, 44.16792, 44.25787, 44.34783, 44.43779, 46.4, 43.26543, 43.35533, 43.149998, 43.8049, 43.98476, 44.0747, 44.16464, 44.61441, 43.44185, 43.71158, 44.25116, 43.70805, 44.19649, 44.06773, 43.3333, 44.15766, 44.24759, 44.19206, 43.61447, 43.70437, 43.97411, 44.24388, 43.61066, 43.70055, 43.79046, 40.2658, 43.87639, 43.60262, 43.6925, 43.78239, 43.87228, 43.68826, 43.77814, 43.86803, 43.86363, 43.95351, 38.7667, 39.7533, 45.13333, 44.21862, 44.01923, 44.10908, 44.083333, 42.59456, 42.58333, 42.26667, 38.5833, 38.3333, 38.3667, 38.3333, 38.3667, 38.25, 38.3833, 38.4, 37.6333, 40.03, 39.5, 39.4833, 38.25, 38.2, 38.1833, 38.2, 38.18, 37.6667, 37.9167, 37.8167, 40.02889, 37.5, 36.95, 34.9643, 34.99333, 35.01306, 34.9194, 34.8755, 37.8667, 37.8833, 38.7833, 34.91028, 38.9, 38.66, 38.77, 38.77, 38.7243, 40.58, 38.74, 38.77, 38.61, 39.91556, 38.983337, 38.78, 40.02, 40.03, 40.04, 40.02, 40.03, 40.037], \"legendgroup\": \"\", \"lon\": [22.502781, 33.7, 33.716667, 34.5825, 37.2, 43.633333, 44.65, 2.88306, 27.2833, 21.611389, 21.630831, 21.65889, 21.660561, 21.691389, 21.73917, 21.84667, 21.866667, 27.45, 21.87639, 21.883333, 21.923889, 21.92528, 21.929171, 22.299999, 22.366667, 22.871111, 22.95083, 27.5, 22.966667, 23.116667, 23.237499, 23.252781, 23.55583, 24.1, 24.55278, 24.719721, 25.533333, 26.016667, 27.5167, 26.683333, 27.116667, 27.866667, 27.866667, 27.5333, 31.233333, 32.859444, 33.716667, 33.766667, 33.933333, 34.3, 34.934721, 27.5333, 37.366667, 37.6, 38.716667, 38.916667, 9.1219, 9.14844, 27.65, 9.16667, 9.18333, 9.23333, 9.23333, 9.24263, 9.25, 9.25221, 9.30538, 9.35, 9.36667, 28.1333, 9.36667, 28.2, 29.0667, 29.0833, 29.3, 29.6833, 30.1, 30.1333, 30.15, 30.4, 30.5, 30.6, 15.0167, 32.5427, 32.6178, 32.63111, 32.8167, 32.8175, 32.8333, 33.09111, 15.5706, 33.1125, 33.16167, 33.4, 33.825, 35.5, 35.8833, 35.9, 35.95, 36.1667, 17.15, 36.1833, 36.2833, 36.4333, 36.4333, 36.5, 36.6, 36.6667, 36.8667, 37.2333, -3.0012, 17.8333, -3.723, 16.71222, 16.88736, 16.950277, 16.959722, 17.808054, 18.129205, 18.149888, 18.634713, 18.756398, 18.2833, 19.91028, 20.606939, 20.63522, 20.653891, 20.683333, 20.74416, 21.003059, 21.06472, 18.466389, 21.084721, 21.08861, 21.09667, 21.106939, 21.114441, 21.122499, 21.127501, 21.16222, 21.16917, 18.7, 21.20306, 21.23222, 21.259171, 21.333059, 21.333891, 21.47167, 21.51639, 21.541389, 21.55, 21.57139, 0.11889, -4.35917, -4.37417, -5.25, -5.41667, -5.43167, -5.5, 27.1667, -0.16, -0.26, -0.266, -0.41, -4.361, -5.3273, 0.18, 0.16, 2.57289, 2.81667, 2.93879, 2.93889, 2.95633, 2.98863, 5.03829, 5.88881, 6.01162, -0.01694, -0.433333, -0.516667, -4.25, 0.332222, -0.67, -0.72, -0.76, -0.78, -0.78, -0.79, -0.84, -0.84, -0.876, -1.06833, -0.95, -1.04, -1.0991, -1.11, -1.13, -1.4, -1.615, -1.627, -1.5, -1.8112, -1.8797, -2.5, -2.507488, -2.611, -1.6625, -2.6699, -2.703, -2.703, -2.791, -2.882, -2.9444, -2.9671, -3.3, -3.45, -3.495496, -3.835, -3.857, -2.45, -3.915, -3.937, -4.0837, -4.0838, -4.19, -4.41, -2.48333, -4.53, -4.54364, -4.8944, -5.036, -5.076, -5.11, -5.257, -5.321, -2.59972, -5.3857, -6.461, -6.47, -6.4781, -6.65127, -6.75, -6.752922, -7.1732, -7.3, -7.9167, 0.16, 0.33, 0.33, 0.34, 0.859878, 0.91, 1.03, -2.61667, 1.80381, 1.90705, 11.145667, 11.378271, 11.39704, 11.868945, 12.00189, 12.668438, 1.24778, -2.66917, 15.606079, 16.950277, 17.251968, 17.266667, 17.808054, 2.03562, 2.04371, 2.17924, 2.29237, 2.309, -2.96306, 2.33091, 2.401886, 2.51218, 2.566667, 2.69539, 2.74902, 2.75424, 2.81638, 2.93411, 20.70839, 20.883333, 20.966667, 21.003611, 21.164721, 21.212219, 21.235001, 21.240561, 21.31111, 21.32222, -2.96667, 21.340561, 21.36694, 21.37722, 21.39389, 21.43556, 21.459999, 21.50028, 21.50528, 21.51944, 21.540001, -3.06667, 21.54833, 21.585831, 21.65333, 21.655279, 21.666667, 21.696939, 21.73806, 21.738609, -3.35, 21.744169, 21.77, 21.783333, 21.7875, 21.79917, 21.833333, 21.833891, -3.48333, 21.8675, 21.915001, 21.95, 22.028891, 22.037781, 22.07139, 22.09667, 22.09972, 22.141939, 22.169439, 22.173889, 22.2, 22.2075, 22.366667, 22.367781, 22.376671, 22.398609, 22.42639, 22.4275, 22.445829, -3.53028, 22.458611, 22.460831, 22.50889, 22.565001, 22.569441, 22.584721, 22.58889, 22.608061, 22.68528, 22.76194, 22.839439, 22.93083, 22.966667, 23.016109, 23.07333, 23.140829, 23.25, 1.33972, -3.53111, 23.284719, 23.321939, 23.32667, 23.35, 23.389999, 23.401939, 23.403061, 23.441111, 23.53194, 23.557501, 23.594721, 23.629721, -3.53639, 23.64278, 23.816667, 23.833333, 23.883333, 23.901939, 24.02417, 24.299721, 24.31917, 24.37833, -3.82722, 24.46583, 24.5, 24.50111, 24.593889, 24.746389, 24.771738, 24.782499, 24.881109, 24.9, 24.90694, -3.86139, 24.933333, 25.416667, 25.424999, 25.9, 25.95, 26.05, 26.066667, 27.41833, 27.57972, 27.6, 3.31183, 3.31232, 3.31381, 3.56395, 3.94741, 33.6, -3.941111, 33.761111, 33.783333, 34.4, 34.774886, 34.792757, 34.802912, 34.86056, 34.862795, 34.903951, -3.96667, 34.942231, 34.966667, 35.12342, 35.129428, 35.133333, 35.150017, 35.209293, 35.214356, -4.07111, 37.44942, 37.474389, 37.583333, 38.4, 38.433333, 4.19239, 4.19429, 4.31163, 4.31788, -4.55, 4.31998, 4.32209, 4.38083, 4.4388, 4.44108, 4.44337, 4.44567, 4.44797, 4.45131, 4.56885, 5.133333, 4.57134, 4.81978, 4.82268, 4.8285, 4.94833, 5.05112, 5.0576, 5.05823, 5.06412, -4.87667, 5.07068, 5.07397, 5.08177, 5.17537, 5.1788, 5.18224, 5.18915, 5.19263, 5.19611, 5.21016, 5.28522, 5.29239, 5.29961, 5.30687, 5.31052, 5.31785, 5.32153, 5.32522, 5.37558, 5.42384, -5.09, 5.42433, 5.43149, 5.43919, 5.44306, 5.55207, 5.5561, 5.56014, 5.56419, 5.56806, 5.59018, -5.35, 5.59821, 5.61278, 5.65139, 5.6597, 5.66387, 5.66806, 5.67647, 5.68069, 5.68493, 5.68918, 5.69344, 5.69772, 5.70201, 5.77029, 5.77462, 5.78331, 5.78767, 5.79205, 5.79644, 5.80085, -5.5, 5.80527, 5.81415, 5.81862, 5.82309, 5.82758, 5.833333, 5.89331, 5.89782, 5.916667, 5.92062, 5.92984, 5.93447, 5.93911, 5.96257, 6.02574, 6.04, 6.06892, 6.16395, 6.17219, 6.18395, 17.8333, 6.18899, 6.19405, 6.23377, 6.28273, 6.28788, 6.30345, 6.31916, 6.40646, 6.4118, 6.41717, 21.5431, 6.54684, 6.65386, 6.65959, 6.66535, 6.67112, 6.78346, 6.78941, 6.79538, 6.91961, 6.92579, -0.6, 22.8506, 7.024506, 7.06946, 7.55483, 7.56203, 7.6, 9.02886, 9.05, 9.16667, 27.1667, 27.5, 27.55, 27.5833, 28.0667, 28.0833, 28.1333, 28.15, 29.2, -0.62, 30.03, 30.0833, 30.1667, 30.18333333, 30.25, 30.3333, 30.35, 30.5, 30.5, 30.55, -0.62972, 30.5833, 30.7333, 32.8174, 32.83306, 33.08139, 33.1357, 33.1615, 33.1667, 33.2, -0.633333, 33.35861, 43.7167, -0.05, -0.07, -0.18, -0.2406, -0.25, -0.26, -0.29, -0.49, -0.80472, -0.516666, -0.52, -0.6, -0.6, -0.6, -0.61, -0.61, -0.627], \"marker\": {\"color\": [40.11063766, 23.84863795, 29.42995503, 37.4311313, 24.13549152, 35.04466303, 31.10599129, 30.97962049, 28.03902078, 34.58311885, 34.23208277, 33.02164727, 34.31414582, 32.24675816, 47.52631579, 37.65452229, 40.99553501, 26.92567071, 25.59610494, 38.56936124, 26.16858199, 48.90611589, 36.17060329, 21.11762353, 35.77113995, 23.14361009, 20.2505261, 33.28299121, 29.90941076, 20.05015413, 25.42498597, 19.81511017, 20.24037879, 31.71925601, 26.8131934, 25.32400723, 17.68658445, 24.91178794, 26.75358458, 24.7901391, 24.00200858, 28.25642119, 28.25642119, 33.49619191, 32.10630621, 25.52554511, 29.42995503, 28.98075244, 28.0087924, 27.77996571, 25.34428505, 33.49619191, 18.52777287, 15.23090857, 19.27713814, 12.54677166, 34.82461524, 18.38521833, 31.8458819, 32.71054625, 18.31616106, 35.59281189, 39.97428065, 35.59281189, 39.97428065, 34.51017421, 29.13178803, 19.16505735, 18.45555682, 36.80049429, 20.8005834, 28.20654682, 31.83351557, 31.80269636, 29.43423985, 27.75990266, 27.83213125, 29.84233519, 25.10637753, 29.88083831, 23.91063935, 25.87130993, 61.73703415, 18.9735399, 25.2166425, 31.81468697, 23.92279008, 46.74149807, 23.92279008, 31.93236005, 49.54311802, 34.28714444, 22.51420996, 25.08942384, 27.01150123, 29.34489207, 29.2420443, 27.85763884, 33.20994962, 34.37645755, 23.43342432, 29.62990129, 34.39533029, 34.36881375, 34.36881375, 30.30889282, 28.94080905, 25.62052531, 25.16086167, 24.00082922, 23.13561367, 46.05097172, 16.37773979, 34.97336991, 24.36972459, 44.12329542, 54.27747036, 48.16213359, 56.34041066, 57.07104112, 59.19611971, 59.87508256, 49.19159983, 38.15317044, 42.64769363, 35.13187501, 36.49788506, 38.62059763, 31.59103202, 41.82276481, 36.08714066, 24.62991772, 47.9188491, 36.22733293, 37.80242945, 36.62225188, 36.59639831, 37.78221456, 36.94168136, 37.55505812, 37.55505812, 59.21006127, 37.80366421, 40.27425314, 38.45761137, 33.29285948, 33.30007235, 32.92774948, 36.24428855, 47.80467536, 36.23583994, 36.80299816, 12.007981, 19.11196637, 25.22999281, 24.12233242, 39.56585031, 35.91193912, 23.88785047, 27.60502969, 15.63904342, 17.12584323, 17.12584323, 14.29360462, 19.11196637, 28.9144305, 12.1470586, 12.1470586, 27.06253435, 24.49853496, 24.77623893, 22.23953733, 22.57096305, 21.67294776, 25.23098332, 27.43386554, 28.49474329, 13.28202078, 14.8611599, 13.62885474, 24.22728052, 25.4483218, 15.11713776, 18.79440088, 16.36552519, 22.28706549, 22.28706549, 22.28706549, 27.09647326, 27.09647326, 24.44723417, 25.00126046, 26.74715095, 23.01865777, 26.8146019, 30.91215368, 24.96617015, 23.60150494, 29.87974549, 30.96856372, 11.7533303, 32.40781553, 34.18818877, 33.0736256, 33.0736256, 34.02835619, 21.64768064, 25.7982626, 14.13920657, 14.13920657, 31.78396988, 23.62433708, 22.56577913, 22.56577913, 18.35735655, 23.21235684, 26.75015979, 24.64366924, 22.90188816, 24.82817333, 26.29744386, 22.66469294, 23.19896477, 23.19896477, 18.95986698, 23.40183795, 21.51251863, 21.81005765, 24.7239167, 15.18132085, 36.69334596, 37.73416338, 39.20485486, 28.95483098, 28.9144305, 24.42628072, 34.01255025, 46.30830601, 42.25605703, 41.95927899, 36.73779529, 35.79777983, 37.52586945, 44.07496246, 31.38758559, 21.70301621, 22.40126637, 25.4483218, 23.62977165, 72.42286906, 31.90837535, 29.37361058, 30.64256523, 24.47632177, 35.22143084, 52.04173573, 19.93421589, 28.23706856, 27.15328424, 27.33577264, 19.14476901, 18.35787035, 53.56059438, 25.7982626, 33.95270637, 44.12329542, 24.58053676, 24.24276227, 48.16213359, 54.29985255, 32.39674083, 33.17829164, 33.76656238, 34.70677217, 22.56577913, 36.17992206, 32.52381212, 32.8477493, 27.92601419, 24.09425018, 37.3865763, 37.25786145, 28.96822295, 35.97376718, 34.28281948, 42.53945014, 43.01322887, 41.31165215, 37.77434541, 39.14773184, 35.28207004, 37.2369132, 34.56386491, 38.59516215, 23.01163437, 32.81627439, 32.48851037, 31.96316707, 31.95697509, 30.41336155, 29.48578534, 28.42929247, 35.92288187, 30.2683741, 29.00511506, 15.16744965, 36.23583994, 28.78517213, 28.03072252, 26.80046237, 26.29786051, 40.58310217, 41.04140761, 23.70872129, 23.72599168, 39.93752275, 39.93752275, 24.11553652, 27.56340294, 26.89482586, 42.09314586, 27.13795982, 22.44240867, 45.52548377, 41.46663572, 28.62203869, 21.92873835, 37.92454237, 21.57488215, 22.87920726, 30.61372482, 37.04732999, 20.50856286, 21.88463228, 39.57392147, 25.03219871, 35.77113995, 26.08010829, 37.66043072, 43.24460679, 27.47522328, 46.50019614, 29.59876645, 21.77030418, 22.42422472, 28.00900578, 36.38733359, 40.02094425, 24.86702802, 20.9173209, 46.24924692, 45.78986322, 30.67792584, 18.73717126, 36.10908679, 19.75074378, 18.86489891, 19.88761672, 22.05586763, 19.47246591, 21.44159903, 35.61562179, 25.3243775, 19.13895615, 25.85715197, 19.45145528, 20.4038721, 19.16827579, 23.96207573, 21.17136542, 20.02536299, 24.4871303, 19.58932208, 19.17088287, 21.50219068, 21.77030418, 23.14511859, 15.95911736, 28.78096254, 38.05273294, 22.76669516, 27.07330674, 22.71575746, 24.67854938, 27.53178658, 24.64366924, 23.57589711, 13.94210472, 22.76397233, 24.81113306, 24.46500661, 21.57823628, 23.6015265, 23.76660903, 13.83316812, 21.37855066, 22.90188816, 14.06940355, 16.12660261, 23.7265165, 33.07489416, 30.19604054, 26.95548617, 27.76558441, 28.16531061, 24.27547738, 32.09500909, 36.73107732, 45.02345396, 45.18254973, 61.91235404, 71.53240568, 22.21804734, 25.59872025, 27.61357668, 31.96701981, 29.00575724, 22.74542009, 22.74542009, 22.74542009, 24.88574425, 24.88574425, 25.57958748, 20.19330305, 22.89962777, 22.89962777, 23.70888132, 24.25479288, 24.25479288, 22.12206728, 22.26993839, 23.78777824, 23.19896477, 31.74008698, 30.44040437, 19.66171692, 14.65092078, 14.65092078, 34.10718149, 34.74461977, 36.95224519, 36.55459438, 17.14030625, 35.04799224, 37.0683899, 36.48669355, 36.1966939, 38.59947044, 38.85287298, 42.30754453, 39.44926163, 40.2225076, 38.38082689, 32.19619494, 40.16432263, 37.35408546, 39.78628437, 43.56008395, 39.72665977, 29.49763786, 31.52502354, 40.33355606, 40.33355606, 16.74162357, 39.28608251, 53.9546486, 29.54397718, 35.9494044, 32.19284581, 38.3321662, 43.57050458, 40.9775666, 44.4925727, 50.36431598, 26.04784306, 29.80356766, 34.51218085, 40.83210966, 44.48323037, 49.01589304, 48.97279477, 46.67122033, 39.28948813, 41.90693075, 37.73416338, 31.72319548, 47.39905273, 46.00240316, 49.81586975, 35.61138141, 40.85768092, 48.05090646, 59.5475267, 37.5558041, 36.77389784, 25.29050389, 35.07404542, 56.33626685, 32.58766291, 30.61773776, 30.51273531, 31.00081551, 35.76784942, 38.52334973, 43.92785843, 54.92088296, 54.49437262, 43.5066667, 47.58737789, 31.58303484, 37.26793819, 32.47649782, 32.28011332, 31.14111493, 29.85944723, 33.54771532, 23.88785047, 34.60420685, 49.07870693, 36.49016901, 40.66315209, 61.58627908, 64.37562208, 34.15795425, 33.43973618, 28.69758733, 33.38348567, 31.52233543, 35.04902159, 38.70114132, 70.34328692, 30.66014416, 32.74583249, 51.30054686, 39.02324475, 50.87145688, 35.39499207, 46.05097172, 51.90129056, 61.37354392, 45.34067871, 38.34501232, 43.71137432, 42.71518218, 52.9788278, 37.42354443, 42.28111671, 41.17148446, 36.23583994, 46.91037674, 34.80737354, 42.36410409, 49.54639263, 49.18204054, 39.53826432, 51.56564102, 45.68169229, 40.78347543, 38.88767852, 16.56691861, 16.92341652, 62.5495489, 67.90055321, 40.41667277, 52.28005266, 42.54549006, 39.09866848, 39.09866848, 32.47431413, 30.07714212, 33.28299121, 33.49619191, 33.09865248, 41.554892, 25.64285519, 43.79144463, 36.6547794, 30.95844598, 19.74217739, 26.17367024, 26.02973698, 26.08158582, 25.87550175, 28.17406652, 27.23103362, 27.23103362, 25.44938464, 23.18007237, 23.70321058, 19.74217739, 23.39398447, 26.7476188, 46.74149807, 34.92661778, 20.98237331, 34.28714444, 22.51420996, 21.07710884, 20.7022829, 16.03794117, 18.51731633, 26.67447291, 13.36002794, 13.40206158, 15.63904342, 18.05297276, 23.97084397, 18.05297276, 16.55107178, 18.62321269, 22.9603024, 13.62885474, 18.28415873, 18.02385464, 18.02385464, 18.02385464, 19.74217739, 19.74217739, 19.74217739], \"coloraxis\": \"coloraxis\"}, \"name\": \"\", \"showlegend\": false, \"type\": \"scattergeo\"}],\n",
       "                        {\"coloraxis\": {\"colorbar\": {\"title\": {\"text\": \"DeMartonneANNUAL\"}}, \"colorscale\": [[0.0, \"#0d0887\"], [0.1111111111111111, \"#46039f\"], [0.2222222222222222, \"#7201a8\"], [0.3333333333333333, \"#9c179e\"], [0.4444444444444444, \"#bd3786\"], [0.5555555555555556, \"#d8576b\"], [0.6666666666666666, \"#ed7953\"], [0.7777777777777778, \"#fb9f3a\"], [0.8888888888888888, \"#fdca26\"], [1.0, \"#f0f921\"]]}, \"geo\": {\"center\": {}, \"domain\": {\"x\": [0.0, 1.0], \"y\": [0.0, 1.0]}}, \"legend\": {\"tracegroupgap\": 0}, \"margin\": {\"t\": 60}, \"template\": {\"data\": {\"bar\": [{\"error_x\": {\"color\": \"#2a3f5f\"}, \"error_y\": {\"color\": \"#2a3f5f\"}, \"marker\": {\"line\": {\"color\": \"#E5ECF6\", \"width\": 0.5}}, \"type\": \"bar\"}], \"barpolar\": [{\"marker\": {\"line\": {\"color\": \"#E5ECF6\", \"width\": 0.5}}, \"type\": \"barpolar\"}], \"carpet\": [{\"aaxis\": {\"endlinecolor\": \"#2a3f5f\", \"gridcolor\": \"white\", \"linecolor\": \"white\", \"minorgridcolor\": \"white\", \"startlinecolor\": \"#2a3f5f\"}, \"baxis\": {\"endlinecolor\": \"#2a3f5f\", \"gridcolor\": \"white\", \"linecolor\": \"white\", \"minorgridcolor\": \"white\", \"startlinecolor\": \"#2a3f5f\"}, \"type\": \"carpet\"}], \"choropleth\": [{\"colorbar\": {\"outlinewidth\": 0, \"ticks\": \"\"}, \"type\": \"choropleth\"}], \"contour\": [{\"colorbar\": {\"outlinewidth\": 0, \"ticks\": \"\"}, \"colorscale\": [[0.0, \"#0d0887\"], [0.1111111111111111, \"#46039f\"], [0.2222222222222222, \"#7201a8\"], [0.3333333333333333, \"#9c179e\"], [0.4444444444444444, \"#bd3786\"], [0.5555555555555556, \"#d8576b\"], [0.6666666666666666, \"#ed7953\"], [0.7777777777777778, \"#fb9f3a\"], [0.8888888888888888, \"#fdca26\"], [1.0, \"#f0f921\"]], \"type\": \"contour\"}], \"contourcarpet\": [{\"colorbar\": {\"outlinewidth\": 0, \"ticks\": \"\"}, \"type\": \"contourcarpet\"}], \"heatmap\": [{\"colorbar\": {\"outlinewidth\": 0, \"ticks\": \"\"}, \"colorscale\": [[0.0, \"#0d0887\"], [0.1111111111111111, \"#46039f\"], [0.2222222222222222, \"#7201a8\"], [0.3333333333333333, \"#9c179e\"], [0.4444444444444444, \"#bd3786\"], [0.5555555555555556, \"#d8576b\"], [0.6666666666666666, \"#ed7953\"], [0.7777777777777778, \"#fb9f3a\"], [0.8888888888888888, \"#fdca26\"], [1.0, \"#f0f921\"]], \"type\": \"heatmap\"}], \"heatmapgl\": [{\"colorbar\": {\"outlinewidth\": 0, \"ticks\": \"\"}, \"colorscale\": [[0.0, \"#0d0887\"], [0.1111111111111111, \"#46039f\"], [0.2222222222222222, \"#7201a8\"], [0.3333333333333333, \"#9c179e\"], [0.4444444444444444, \"#bd3786\"], [0.5555555555555556, \"#d8576b\"], [0.6666666666666666, \"#ed7953\"], [0.7777777777777778, \"#fb9f3a\"], [0.8888888888888888, \"#fdca26\"], [1.0, \"#f0f921\"]], \"type\": \"heatmapgl\"}], \"histogram\": [{\"marker\": {\"colorbar\": {\"outlinewidth\": 0, \"ticks\": \"\"}}, \"type\": \"histogram\"}], \"histogram2d\": [{\"colorbar\": {\"outlinewidth\": 0, \"ticks\": \"\"}, \"colorscale\": [[0.0, \"#0d0887\"], [0.1111111111111111, \"#46039f\"], [0.2222222222222222, \"#7201a8\"], [0.3333333333333333, \"#9c179e\"], [0.4444444444444444, \"#bd3786\"], [0.5555555555555556, \"#d8576b\"], [0.6666666666666666, \"#ed7953\"], [0.7777777777777778, \"#fb9f3a\"], [0.8888888888888888, \"#fdca26\"], [1.0, \"#f0f921\"]], \"type\": \"histogram2d\"}], \"histogram2dcontour\": [{\"colorbar\": {\"outlinewidth\": 0, \"ticks\": \"\"}, \"colorscale\": [[0.0, \"#0d0887\"], [0.1111111111111111, \"#46039f\"], [0.2222222222222222, \"#7201a8\"], [0.3333333333333333, \"#9c179e\"], [0.4444444444444444, \"#bd3786\"], [0.5555555555555556, \"#d8576b\"], [0.6666666666666666, \"#ed7953\"], [0.7777777777777778, \"#fb9f3a\"], [0.8888888888888888, \"#fdca26\"], [1.0, \"#f0f921\"]], \"type\": \"histogram2dcontour\"}], \"mesh3d\": [{\"colorbar\": {\"outlinewidth\": 0, \"ticks\": \"\"}, \"type\": \"mesh3d\"}], \"parcoords\": [{\"line\": {\"colorbar\": {\"outlinewidth\": 0, \"ticks\": \"\"}}, \"type\": \"parcoords\"}], \"pie\": [{\"automargin\": true, \"type\": \"pie\"}], \"scatter\": [{\"marker\": {\"colorbar\": {\"outlinewidth\": 0, \"ticks\": \"\"}}, \"type\": \"scatter\"}], \"scatter3d\": [{\"line\": {\"colorbar\": {\"outlinewidth\": 0, \"ticks\": \"\"}}, \"marker\": {\"colorbar\": {\"outlinewidth\": 0, \"ticks\": \"\"}}, \"type\": \"scatter3d\"}], \"scattercarpet\": [{\"marker\": {\"colorbar\": {\"outlinewidth\": 0, \"ticks\": \"\"}}, \"type\": \"scattercarpet\"}], \"scattergeo\": [{\"marker\": {\"colorbar\": {\"outlinewidth\": 0, \"ticks\": \"\"}}, \"type\": \"scattergeo\"}], \"scattergl\": [{\"marker\": {\"colorbar\": {\"outlinewidth\": 0, \"ticks\": \"\"}}, \"type\": \"scattergl\"}], \"scattermapbox\": [{\"marker\": {\"colorbar\": {\"outlinewidth\": 0, \"ticks\": \"\"}}, \"type\": \"scattermapbox\"}], \"scatterpolar\": [{\"marker\": {\"colorbar\": {\"outlinewidth\": 0, \"ticks\": \"\"}}, \"type\": \"scatterpolar\"}], \"scatterpolargl\": [{\"marker\": {\"colorbar\": {\"outlinewidth\": 0, \"ticks\": \"\"}}, \"type\": \"scatterpolargl\"}], \"scatterternary\": [{\"marker\": {\"colorbar\": {\"outlinewidth\": 0, \"ticks\": \"\"}}, \"type\": \"scatterternary\"}], \"surface\": [{\"colorbar\": {\"outlinewidth\": 0, \"ticks\": \"\"}, \"colorscale\": [[0.0, \"#0d0887\"], [0.1111111111111111, \"#46039f\"], [0.2222222222222222, \"#7201a8\"], [0.3333333333333333, \"#9c179e\"], [0.4444444444444444, \"#bd3786\"], [0.5555555555555556, \"#d8576b\"], [0.6666666666666666, \"#ed7953\"], [0.7777777777777778, \"#fb9f3a\"], [0.8888888888888888, \"#fdca26\"], [1.0, \"#f0f921\"]], \"type\": \"surface\"}], \"table\": [{\"cells\": {\"fill\": {\"color\": \"#EBF0F8\"}, \"line\": {\"color\": \"white\"}}, \"header\": {\"fill\": {\"color\": \"#C8D4E3\"}, \"line\": {\"color\": \"white\"}}, \"type\": \"table\"}]}, \"layout\": {\"annotationdefaults\": {\"arrowcolor\": \"#2a3f5f\", \"arrowhead\": 0, \"arrowwidth\": 1}, \"coloraxis\": {\"colorbar\": {\"outlinewidth\": 0, \"ticks\": \"\"}}, \"colorscale\": {\"diverging\": [[0, \"#8e0152\"], [0.1, \"#c51b7d\"], [0.2, \"#de77ae\"], [0.3, \"#f1b6da\"], [0.4, \"#fde0ef\"], [0.5, \"#f7f7f7\"], [0.6, \"#e6f5d0\"], [0.7, \"#b8e186\"], [0.8, \"#7fbc41\"], [0.9, \"#4d9221\"], [1, \"#276419\"]], \"sequential\": [[0.0, \"#0d0887\"], [0.1111111111111111, \"#46039f\"], [0.2222222222222222, \"#7201a8\"], [0.3333333333333333, \"#9c179e\"], [0.4444444444444444, \"#bd3786\"], [0.5555555555555556, \"#d8576b\"], [0.6666666666666666, \"#ed7953\"], [0.7777777777777778, \"#fb9f3a\"], [0.8888888888888888, \"#fdca26\"], [1.0, \"#f0f921\"]], \"sequentialminus\": [[0.0, \"#0d0887\"], [0.1111111111111111, \"#46039f\"], [0.2222222222222222, \"#7201a8\"], [0.3333333333333333, \"#9c179e\"], [0.4444444444444444, \"#bd3786\"], [0.5555555555555556, \"#d8576b\"], [0.6666666666666666, \"#ed7953\"], [0.7777777777777778, \"#fb9f3a\"], [0.8888888888888888, \"#fdca26\"], [1.0, \"#f0f921\"]]}, \"colorway\": [\"#636efa\", \"#EF553B\", \"#00cc96\", \"#ab63fa\", \"#FFA15A\", \"#19d3f3\", \"#FF6692\", \"#B6E880\", \"#FF97FF\", \"#FECB52\"], \"font\": {\"color\": \"#2a3f5f\"}, \"geo\": {\"bgcolor\": \"white\", \"lakecolor\": \"white\", \"landcolor\": \"#E5ECF6\", \"showlakes\": true, \"showland\": true, \"subunitcolor\": \"white\"}, \"hoverlabel\": {\"align\": \"left\"}, \"hovermode\": \"closest\", \"mapbox\": {\"style\": \"light\"}, \"paper_bgcolor\": \"white\", \"plot_bgcolor\": \"#E5ECF6\", \"polar\": {\"angularaxis\": {\"gridcolor\": \"white\", \"linecolor\": \"white\", \"ticks\": \"\"}, \"bgcolor\": \"#E5ECF6\", \"radialaxis\": {\"gridcolor\": \"white\", \"linecolor\": \"white\", \"ticks\": \"\"}}, \"scene\": {\"xaxis\": {\"backgroundcolor\": \"#E5ECF6\", \"gridcolor\": \"white\", \"gridwidth\": 2, \"linecolor\": \"white\", \"showbackground\": true, \"ticks\": \"\", \"zerolinecolor\": \"white\"}, \"yaxis\": {\"backgroundcolor\": \"#E5ECF6\", \"gridcolor\": \"white\", \"gridwidth\": 2, \"linecolor\": \"white\", \"showbackground\": true, \"ticks\": \"\", \"zerolinecolor\": \"white\"}, \"zaxis\": {\"backgroundcolor\": \"#E5ECF6\", \"gridcolor\": \"white\", \"gridwidth\": 2, \"linecolor\": \"white\", \"showbackground\": true, \"ticks\": \"\", \"zerolinecolor\": \"white\"}}, \"shapedefaults\": {\"line\": {\"color\": \"#2a3f5f\"}}, \"ternary\": {\"aaxis\": {\"gridcolor\": \"white\", \"linecolor\": \"white\", \"ticks\": \"\"}, \"baxis\": {\"gridcolor\": \"white\", \"linecolor\": \"white\", \"ticks\": \"\"}, \"bgcolor\": \"#E5ECF6\", \"caxis\": {\"gridcolor\": \"white\", \"linecolor\": \"white\", \"ticks\": \"\"}}, \"title\": {\"x\": 0.05}, \"xaxis\": {\"automargin\": true, \"gridcolor\": \"white\", \"linecolor\": \"white\", \"ticks\": \"\", \"title\": {\"standoff\": 15}, \"zerolinecolor\": \"white\", \"zerolinewidth\": 2}, \"yaxis\": {\"automargin\": true, \"gridcolor\": \"white\", \"linecolor\": \"white\", \"ticks\": \"\", \"title\": {\"standoff\": 15}, \"zerolinecolor\": \"white\", \"zerolinewidth\": 2}}}},\n",
       "                        {\"responsive\": true}\n",
       "                    ).then(function(){\n",
       "                            \n",
       "var gd = document.getElementById('8bcdde50-b813-405f-969d-50cc26aa6c34');\n",
       "var x = new MutationObserver(function (mutations, observer) {{\n",
       "        var display = window.getComputedStyle(gd).display;\n",
       "        if (!display || display === 'none') {{\n",
       "            console.log([gd, 'removed!']);\n",
       "            Plotly.purge(gd);\n",
       "            observer.disconnect();\n",
       "        }}\n",
       "}});\n",
       "\n",
       "// Listen for the removal of the full notebook cells\n",
       "var notebookContainer = gd.closest('#notebook-container');\n",
       "if (notebookContainer) {{\n",
       "    x.observe(notebookContainer, {childList: true});\n",
       "}}\n",
       "\n",
       "// Listen for the clearing of the current output cell\n",
       "var outputEl = gd.closest('.output');\n",
       "if (outputEl) {{\n",
       "    x.observe(outputEl, {childList: true});\n",
       "}}\n",
       "\n",
       "                        })\n",
       "                };\n",
       "                \n",
       "            </script>\n",
       "        </div>\n",
       "</body>\n",
       "</html>"
      ]
     },
     "metadata": {
      "tags": []
     },
     "output_type": "display_data"
    }
   ],
   "source": [
    "fig = px.scatter_geo(roya_test, lat=\"Latitude_decimal\", lon=\"Longitude_decimal\", color=\"DeMartonneANNUAL\")\n",
    "fig.show()"
   ]
  },
  {
   "cell_type": "code",
   "execution_count": null,
   "metadata": {
    "colab": {
     "base_uri": "https://localhost:8080/",
     "height": 542
    },
    "executionInfo": {
     "elapsed": 496,
     "status": "ok",
     "timestamp": 1625907048639,
     "user": {
      "displayName": "Icíar Civantos Gómez",
      "photoUrl": "",
      "userId": "06033810409542157400"
     },
     "user_tz": -120
    },
    "id": "a-5VI066IqM7",
    "outputId": "3fa3f254-d709-4e11-ced2-6cf5159c3a6f"
   },
   "outputs": [
    {
     "data": {
      "text/html": [
       "<html>\n",
       "<head><meta charset=\"utf-8\" /></head>\n",
       "<body>\n",
       "    <div>\n",
       "            <script src=\"https://cdnjs.cloudflare.com/ajax/libs/mathjax/2.7.5/MathJax.js?config=TeX-AMS-MML_SVG\"></script><script type=\"text/javascript\">if (window.MathJax) {MathJax.Hub.Config({SVG: {font: \"STIX-Web\"}});}</script>\n",
       "                <script type=\"text/javascript\">window.PlotlyConfig = {MathJaxConfig: 'local'};</script>\n",
       "        <script src=\"https://cdn.plot.ly/plotly-latest.min.js\"></script>    \n",
       "            <div id=\"376d8664-f7ed-44be-90d1-3b7cc3cc4735\" class=\"plotly-graph-div\" style=\"height:525px; width:100%;\"></div>\n",
       "            <script type=\"text/javascript\">\n",
       "                \n",
       "                    window.PLOTLYENV=window.PLOTLYENV || {};\n",
       "                    \n",
       "                if (document.getElementById(\"376d8664-f7ed-44be-90d1-3b7cc3cc4735\")) {\n",
       "                    Plotly.newPlot(\n",
       "                        '376d8664-f7ed-44be-90d1-3b7cc3cc4735',\n",
       "                        [{\"geo\": \"geo\", \"hoverlabel\": {\"namelength\": 0}, \"hovertemplate\": \"Latitude_decimal=%{lat}<br>Longitude_decimal=%{lon}<br>predictions_ridge=%{marker.color}\", \"lat\": [38.523891, 44.65, 44.483333, 41.72472, 37.1, 37.483333, 37.266667, 39.8239, 38.5, 38.90583, 38.61417, 38.59444, 38.984718, 38.595001, 38.840279, 38.686668, 38.9, 38.4333, 38.424999, 37.866667, 38.423889, 38.005562, 38.91917, 40.19611, 38.633333, 38.508888, 38.873611, 38.3333, 37.65, 37.666667, 38.85722, 38.996109, 38.752499, 40.95, 41.355831, 41.145828, 37.083333, 36.916667, 38.45, 37.766667, 35.55, 36.2, 36.216667, 38.35, 37.016667, 34.886389, 44.483333, 44.4, 44.416667, 44.583333, 44.857451, 38.3833, 36.9, 36.866667, 37.75, 36.9, 42.31878, 41.41623, 38.3167, 42.23333, 41.41667, 42.31667, 42.38333, 42.31176, 42.38333, 42.40135, 41.76724, 41.71667, 41.71667, 38.4167, 41.83333, 38.0833, 37.55, 36.75, 36.45, 36.25, 36.2833, 36.3, 36.45, 37.71666667, 37.05, 36.85, 45.9167, 34.9018, 34.9056, 35.01944, 36.1, 34.96417, 36.1, 34.90528, 45.5, 34.8925, 34.87556, 36.3, 44.40416667, 37.5833, 37.7, 37.9333, 36.1, 36.1333, 40.6, 37.4333, 36.9167, 37.0667, 37.0833, 37.6, 37.6, 36.85, 37.5, 37.1667, 37.0444, 43.3333, 36.823, 43.44861, 40.850177, 43.392945, 43.758997, 43.433342, 43.323891, 43.164774, 42.514999, 42.514999, 42.5833, 39.53056, 38.701672, 37.82258, 38.779442, 39.15, 38.32688, 39.640282, 39.256672, 40.063611, 39.758888, 39.339722, 39.35944, 39.10083, 39.301941, 39.212502, 39.312778, 39.321941, 39.326111, 42.5147, 39.294998, 39.372219, 39.331108, 38.808331, 38.786942, 38.665001, 38.728329, 39.362221, 40.283333, 38.965832, 38.7775, 36.74167, 37.4744, 37.1167, 36.75, 36.70222, 37.083333, 39.15, 38.8, 38.77, 38.776, 38.78, 36.746, 36.625, 38.74, 38.75583, 42.76369, 42.85431, 42.94437, 42.85445, 42.89858, 42.96808, 43.46493, 43.17554, 43.17218, 38.74028, 38.7333, 38.983333, 37.4167, 40.8767, 38.51, 39.95, 38.78, 39.95, 39.96, 39.96, 39.95, 39.96, 39.924, 41.0386, 40.05, 41.04, 40.9936, 40.06, 40.05, 40.05, 40.431, 40.404, 38.3333, 41.7148, 40.5264, 42.61, 42.616005, 37.249, 39.9786, 38.2337, 36.861, 36.87, 37.24, 36.88, 37.9007, 37.9007, 36.807657, 37.68, 37.26659, 41.1144, 37.751, 37.2667, 36.894, 36.876, 41.0222, 41.0313, 37.72, 37.53, 37.3333, 37.44, 36.9674, 40.2551, 42.808, 36.663, 42.825, 36.741, 36.632, 37.19472, 36.705, 41.306, 41.53, 41.5336, 41.84289, 41.8167, 41.759909, 40.4112, 39.3167, 37.15, 40.61, 40.85, 40.94, 42.58, 47.4894, 41.31, 41.31, 37.9667, 44.5576, 45.72929, 42.411119, 43.148646, 43.120632, 42.9473, 36.771932, 38.106939, 42.5261, 38.2461, 43.957236, 43.392945, 40.666577, 40.783333, 43.433342, 45.73047, 47.4275, 46.7911, 46.6307, 47.3929, 37.9083, 42.58263, 42.651132, 46.6907, 42.65, 42.6742, 47.4353, 47.3976, 42.94423, 47.1748, 38.33713, 39.5, 40.233333, 39.707218, 39.165829, 40.114719, 40.299999, 40.103889, 40.193329, 39.852219, 37.3, 40.28611, 40.177502, 40.07917, 40.130001, 40.283329, 40.291111, 40.18417, 40.442219, 38.625, 40.223888, 36.9833, 40.29361, 40.483891, 39.708611, 40.298328, 40.633333, 38.944439, 38.85194, 40.735001, 36.95, 38.919441, 38.923061, 40.816667, 39.665562, 40.60194, 38.9, 40.493889, 37.2333, 38.728062, 38.56694, 40.083333, 39.798889, 38.50528, 39.900002, 39.71944, 38.419998, 37.96944, 39.92889, 40.03083, 38.683333, 40.093609, 38.633333, 39.910278, 38.059441, 38.03611, 39.98056, 37.980831, 39.92944, 37.25917, 39.895561, 38.484169, 37.281391, 37.235561, 38.95528, 39.762779, 37.288609, 37.155281, 38.478611, 39.567501, 38.3825, 41.22361, 40.733333, 41.285561, 38.512218, 40.51556, 40.983333, 42.3358, 37.26472, 41.037498, 38.208328, 41.282219, 41.341389, 41.1875, 41.38306, 41.259171, 41.150002, 41.306938, 41.109718, 41.073059, 41.100559, 37.2231, 38.654171, 37.933333, 38.63333, 35.35, 40.876389, 41.362782, 41.160278, 41.118889, 41.116669, 41.1253, 41.33083, 37.133333, 41.28833, 41.058331, 41.133888, 40.967136, 41.107498, 41.14444, 37.4, 40.969719, 37.7433, 37.45, 37.116667, 41.17083, 41.133333, 35.15, 41.016667, 41.1, 42.04556, 42.66972, 38.35, 44.02356, 44.11356, 44.38359, 44.29258, 44.74008, 44.566667, 37.311944, 44.466667, 44.433333, 44.75, 44.820921, 44.823856, 44.844858, 44.8494, 44.854971, 44.927407, 41.4333, 44.857177, 44.866667, 44.950282, 44.903794, 44.916667, 44.926883, 44.924946, 44.932841, 41.0328, 44.75888, 44.703669, 37.4, 37.05, 37.016667, 44.37758, 44.46759, 44.10616, 44.37615, 40.3167, 44.46616, 44.55617, 44.53347, 44.19458, 44.28458, 44.37458, 44.46458, 44.55459, 44.51728, 44.37286, 43.916667, 44.46286, 44.369, 44.45899, 44.63899, 44.45684, 43.82472, 44.00465, 44.17912, 44.1846, 40.2756, 44.36456, 44.45455, 43.70359, 43.82232, 43.91227, 44.00224, 44.18218, 44.27215, 44.36213, 44.72208, 43.46, 43.63988, 43.81977, 43.99968, 44.08964, 44.26958, 44.35956, 44.44953, 43.82001, 43.81708, 36.644722, 43.76632, 43.99698, 44.1769, 44.26687, 43.90419, 43.99414, 44.08409, 44.17405, 44.00367, 43.93059, 36.9667, 43.80678, 44.09836, 43.36165, 43.54148, 43.6314, 43.72133, 43.90121, 43.99115, 44.0811, 44.17106, 44.26101, 44.35097, 44.44094, 43.26866, 43.35856, 43.53838, 43.6283, 43.71822, 43.80815, 43.89809, 37.0833, 43.98803, 44.16792, 44.25787, 44.34783, 44.43779, 46.4, 43.26543, 43.35533, 43.149998, 43.8049, 43.98476, 44.0747, 44.16464, 44.61441, 43.44185, 43.71158, 44.25116, 43.70805, 44.19649, 44.06773, 43.3333, 44.15766, 44.24759, 44.19206, 43.61447, 43.70437, 43.97411, 44.24388, 43.61066, 43.70055, 43.79046, 40.2658, 43.87639, 43.60262, 43.6925, 43.78239, 43.87228, 43.68826, 43.77814, 43.86803, 43.86363, 43.95351, 38.7667, 39.7533, 45.13333, 44.21862, 44.01923, 44.10908, 44.083333, 42.59456, 42.58333, 42.26667, 38.5833, 38.3333, 38.3667, 38.3333, 38.3667, 38.25, 38.3833, 38.4, 37.6333, 40.03, 39.5, 39.4833, 38.25, 38.2, 38.1833, 38.2, 38.18, 37.6667, 37.9167, 37.8167, 40.02889, 37.5, 36.95, 34.9643, 34.99333, 35.01306, 34.9194, 34.8755, 37.8667, 37.8833, 38.7833, 34.91028, 38.9, 38.66, 38.77, 38.77, 38.7243, 40.58, 38.74, 38.77, 38.61, 39.91556, 38.983337, 38.78, 40.02, 40.03, 40.04, 40.02, 40.03, 40.037], \"legendgroup\": \"\", \"lon\": [22.502781, 33.7, 33.716667, 34.5825, 37.2, 43.633333, 44.65, 2.88306, 27.2833, 21.611389, 21.630831, 21.65889, 21.660561, 21.691389, 21.73917, 21.84667, 21.866667, 27.45, 21.87639, 21.883333, 21.923889, 21.92528, 21.929171, 22.299999, 22.366667, 22.871111, 22.95083, 27.5, 22.966667, 23.116667, 23.237499, 23.252781, 23.55583, 24.1, 24.55278, 24.719721, 25.533333, 26.016667, 27.5167, 26.683333, 27.116667, 27.866667, 27.866667, 27.5333, 31.233333, 32.859444, 33.716667, 33.766667, 33.933333, 34.3, 34.934721, 27.5333, 37.366667, 37.6, 38.716667, 38.916667, 9.1219, 9.14844, 27.65, 9.16667, 9.18333, 9.23333, 9.23333, 9.24263, 9.25, 9.25221, 9.30538, 9.35, 9.36667, 28.1333, 9.36667, 28.2, 29.0667, 29.0833, 29.3, 29.6833, 30.1, 30.1333, 30.15, 30.4, 30.5, 30.6, 15.0167, 32.5427, 32.6178, 32.63111, 32.8167, 32.8175, 32.8333, 33.09111, 15.5706, 33.1125, 33.16167, 33.4, 33.825, 35.5, 35.8833, 35.9, 35.95, 36.1667, 17.15, 36.1833, 36.2833, 36.4333, 36.4333, 36.5, 36.6, 36.6667, 36.8667, 37.2333, -3.0012, 17.8333, -3.723, 16.71222, 16.88736, 16.950277, 16.959722, 17.808054, 18.129205, 18.149888, 18.634713, 18.756398, 18.2833, 19.91028, 20.606939, 20.63522, 20.653891, 20.683333, 20.74416, 21.003059, 21.06472, 18.466389, 21.084721, 21.08861, 21.09667, 21.106939, 21.114441, 21.122499, 21.127501, 21.16222, 21.16917, 18.7, 21.20306, 21.23222, 21.259171, 21.333059, 21.333891, 21.47167, 21.51639, 21.541389, 21.55, 21.57139, 0.11889, -4.35917, -4.37417, -5.25, -5.41667, -5.43167, -5.5, 27.1667, -0.16, -0.26, -0.266, -0.41, -4.361, -5.3273, 0.18, 0.16, 2.57289, 2.81667, 2.93879, 2.93889, 2.95633, 2.98863, 5.03829, 5.88881, 6.01162, -0.01694, -0.433333, -0.516667, -4.25, 0.332222, -0.67, -0.72, -0.76, -0.78, -0.78, -0.79, -0.84, -0.84, -0.876, -1.06833, -0.95, -1.04, -1.0991, -1.11, -1.13, -1.4, -1.615, -1.627, -1.5, -1.8112, -1.8797, -2.5, -2.507488, -2.611, -1.6625, -2.6699, -2.703, -2.703, -2.791, -2.882, -2.9444, -2.9671, -3.3, -3.45, -3.495496, -3.835, -3.857, -2.45, -3.915, -3.937, -4.0837, -4.0838, -4.19, -4.41, -2.48333, -4.53, -4.54364, -4.8944, -5.036, -5.076, -5.11, -5.257, -5.321, -2.59972, -5.3857, -6.461, -6.47, -6.4781, -6.65127, -6.75, -6.752922, -7.1732, -7.3, -7.9167, 0.16, 0.33, 0.33, 0.34, 0.859878, 0.91, 1.03, -2.61667, 1.80381, 1.90705, 11.145667, 11.378271, 11.39704, 11.868945, 12.00189, 12.668438, 1.24778, -2.66917, 15.606079, 16.950277, 17.251968, 17.266667, 17.808054, 2.03562, 2.04371, 2.17924, 2.29237, 2.309, -2.96306, 2.33091, 2.401886, 2.51218, 2.566667, 2.69539, 2.74902, 2.75424, 2.81638, 2.93411, 20.70839, 20.883333, 20.966667, 21.003611, 21.164721, 21.212219, 21.235001, 21.240561, 21.31111, 21.32222, -2.96667, 21.340561, 21.36694, 21.37722, 21.39389, 21.43556, 21.459999, 21.50028, 21.50528, 21.51944, 21.540001, -3.06667, 21.54833, 21.585831, 21.65333, 21.655279, 21.666667, 21.696939, 21.73806, 21.738609, -3.35, 21.744169, 21.77, 21.783333, 21.7875, 21.79917, 21.833333, 21.833891, -3.48333, 21.8675, 21.915001, 21.95, 22.028891, 22.037781, 22.07139, 22.09667, 22.09972, 22.141939, 22.169439, 22.173889, 22.2, 22.2075, 22.366667, 22.367781, 22.376671, 22.398609, 22.42639, 22.4275, 22.445829, -3.53028, 22.458611, 22.460831, 22.50889, 22.565001, 22.569441, 22.584721, 22.58889, 22.608061, 22.68528, 22.76194, 22.839439, 22.93083, 22.966667, 23.016109, 23.07333, 23.140829, 23.25, 1.33972, -3.53111, 23.284719, 23.321939, 23.32667, 23.35, 23.389999, 23.401939, 23.403061, 23.441111, 23.53194, 23.557501, 23.594721, 23.629721, -3.53639, 23.64278, 23.816667, 23.833333, 23.883333, 23.901939, 24.02417, 24.299721, 24.31917, 24.37833, -3.82722, 24.46583, 24.5, 24.50111, 24.593889, 24.746389, 24.771738, 24.782499, 24.881109, 24.9, 24.90694, -3.86139, 24.933333, 25.416667, 25.424999, 25.9, 25.95, 26.05, 26.066667, 27.41833, 27.57972, 27.6, 3.31183, 3.31232, 3.31381, 3.56395, 3.94741, 33.6, -3.941111, 33.761111, 33.783333, 34.4, 34.774886, 34.792757, 34.802912, 34.86056, 34.862795, 34.903951, -3.96667, 34.942231, 34.966667, 35.12342, 35.129428, 35.133333, 35.150017, 35.209293, 35.214356, -4.07111, 37.44942, 37.474389, 37.583333, 38.4, 38.433333, 4.19239, 4.19429, 4.31163, 4.31788, -4.55, 4.31998, 4.32209, 4.38083, 4.4388, 4.44108, 4.44337, 4.44567, 4.44797, 4.45131, 4.56885, 5.133333, 4.57134, 4.81978, 4.82268, 4.8285, 4.94833, 5.05112, 5.0576, 5.05823, 5.06412, -4.87667, 5.07068, 5.07397, 5.08177, 5.17537, 5.1788, 5.18224, 5.18915, 5.19263, 5.19611, 5.21016, 5.28522, 5.29239, 5.29961, 5.30687, 5.31052, 5.31785, 5.32153, 5.32522, 5.37558, 5.42384, -5.09, 5.42433, 5.43149, 5.43919, 5.44306, 5.55207, 5.5561, 5.56014, 5.56419, 5.56806, 5.59018, -5.35, 5.59821, 5.61278, 5.65139, 5.6597, 5.66387, 5.66806, 5.67647, 5.68069, 5.68493, 5.68918, 5.69344, 5.69772, 5.70201, 5.77029, 5.77462, 5.78331, 5.78767, 5.79205, 5.79644, 5.80085, -5.5, 5.80527, 5.81415, 5.81862, 5.82309, 5.82758, 5.833333, 5.89331, 5.89782, 5.916667, 5.92062, 5.92984, 5.93447, 5.93911, 5.96257, 6.02574, 6.04, 6.06892, 6.16395, 6.17219, 6.18395, 17.8333, 6.18899, 6.19405, 6.23377, 6.28273, 6.28788, 6.30345, 6.31916, 6.40646, 6.4118, 6.41717, 21.5431, 6.54684, 6.65386, 6.65959, 6.66535, 6.67112, 6.78346, 6.78941, 6.79538, 6.91961, 6.92579, -0.6, 22.8506, 7.024506, 7.06946, 7.55483, 7.56203, 7.6, 9.02886, 9.05, 9.16667, 27.1667, 27.5, 27.55, 27.5833, 28.0667, 28.0833, 28.1333, 28.15, 29.2, -0.62, 30.03, 30.0833, 30.1667, 30.18333333, 30.25, 30.3333, 30.35, 30.5, 30.5, 30.55, -0.62972, 30.5833, 30.7333, 32.8174, 32.83306, 33.08139, 33.1357, 33.1615, 33.1667, 33.2, -0.633333, 33.35861, 43.7167, -0.05, -0.07, -0.18, -0.2406, -0.25, -0.26, -0.29, -0.49, -0.80472, -0.516666, -0.52, -0.6, -0.6, -0.6, -0.61, -0.61, -0.627], \"marker\": {\"color\": [49.680067023738175, 49.4369520235982, 47.95077829722526, 48.07921701211182, 50.61008020572754, 53.30772451717718, 49.58299962995085, 45.13066136556485, 50.80193994980649, 42.862163866144726, 42.68832771564782, 43.8646776374485, 43.44310488381712, 45.8836582350892, 43.930803807310696, 45.85333368458079, 38.10910605312741, 50.41309503112617, 45.994082322439425, 40.94793129541902, 39.635186607563035, 42.730094285463835, 37.23385568998549, 42.59961136377835, 50.02091807247136, 46.13300471312507, 47.28618858359488, 51.57969534223597, 45.83823004438384, 45.80561805940876, 45.49301582299829, 49.884352955617935, 50.87316194101962, 46.94303102813073, 48.15822632704393, 50.282868233741866, 52.2371131355923, 51.817990870535525, 50.57909127267085, 44.764738833126025, 49.16438927787431, 46.892418102592636, 46.892418102592636, 52.12904322646546, 52.01262337203341, 53.791675429430796, 47.95077829722526, 49.41493743122433, 47.50246000764295, 46.3148749627095, 45.69148464813809, 52.12904322646546, 49.68554447253982, 47.81395691753253, 46.268676313558146, 37.25871211924521, 50.785995081599275, 52.15222158388645, 54.008966339973895, 43.45677869681714, 56.78281812097615, 49.70504779527286, 47.008389408630386, 49.70504779527286, 47.008389408630386, 48.21145412833285, 48.19365717599736, 53.80499799627998, 45.69357807327253, 51.7488195095715, 47.77574994193253, 47.22721169869243, 53.403997556904194, 54.989036652286366, 54.088875320587064, 51.397006290665246, 52.93644246201509, 52.224362058829165, 52.23741315692827, 53.7137345195672, 53.90970487765308, 54.09572457615622, 42.463346073179395, 47.752944534884726, 54.66784137861711, 57.43763202344554, 51.498403091932936, 55.07931321287314, 51.498403091932936, 55.74903646497367, 38.606811352780866, 55.88007420652002, 55.98187492960352, 56.0964885819938, 49.01577015862884, 49.233831006192574, 53.72964564746657, 53.09111609031691, 54.533152214364065, 53.251378732441914, 44.962714756284264, 53.77376569651592, 51.431486150257456, 48.4123977288405, 48.4123977288405, 51.580923717237326, 53.40665603095887, 53.56293713665391, 53.119290667293406, 48.83441002629493, 55.40220724653334, 34.520637545668336, 54.78185660050422, 40.20306633247764, 44.101374298878795, 40.56460972746221, 38.20891714460694, 39.24323587329214, 42.19369164403132, 42.33353043239438, 31.798906980182878, 35.74447917283497, 41.2054231227912, 44.78007866838718, 43.40273536127354, 51.23381784503223, 36.817015984770194, 42.28909757157707, 52.04325427109608, 45.66591614835477, 43.504562721388695, 53.35617127074313, 37.50504174205694, 38.58543329737265, 35.70857681487729, 45.07727496197607, 36.79377999256552, 35.87705370820362, 36.15246864642549, 36.510309063908004, 36.510309063908004, 35.57319571833027, 36.423041335126165, 35.862350853155576, 35.69515146798072, 39.64585305372929, 39.400321434145155, 38.89292191059569, 38.45734571622755, 38.64018203113075, 47.76357156358356, 44.44438766391331, 52.8316850066133, 54.70018597591453, 51.15975953143364, 54.590793661178125, 49.21808755170989, 50.4231428636827, 51.728466939524374, 50.81463336956058, 48.37766516691188, 50.78390126577034, 50.78390126577034, 56.07266597382275, 54.70018597591453, 54.82366132865724, 53.696579296958134, 53.696579296958134, 43.257984701140046, 45.98641039409623, 45.74502149596246, 48.21182676754997, 50.2592579091186, 48.15354801433911, 48.402940019849574, 48.03567514652511, 51.63135140447829, 51.5851081643633, 56.126046792308514, 55.35272237583645, 53.832979104135376, 46.89727644316497, 51.69369432356119, 53.84354165203531, 53.51322525845514, 52.75818594926517, 52.75818594926517, 52.75818594926517, 50.53747837084565, 50.53747837084565, 52.23948251003357, 50.96889205096947, 52.229485750294735, 52.808196271292104, 53.44601276364348, 55.12423333457886, 53.55889921060527, 53.66537658666254, 57.83271657274874, 56.99611393373558, 64.3815347165253, 51.67779252700892, 56.95844057094627, 50.32875245037079, 50.32875245037079, 56.35452136126439, 53.29219993078173, 58.6784409924605, 56.262202411927184, 56.262202411927184, 49.28784905048406, 55.98369303494104, 51.757205774149035, 51.757205774149035, 53.17380298832887, 53.212413362896214, 57.29311824172134, 60.13037565762825, 57.44856811301339, 58.667839353282325, 55.10455757367973, 54.83835061503736, 47.20865864088261, 47.20865864088261, 50.46692719661705, 55.22518670087558, 50.39865868826247, 55.82056386201134, 53.1865197087948, 58.498267182259085, 51.57077423825832, 50.58733275314769, 52.46038007872478, 50.16767416975089, 54.82366132865724, 49.67006821692955, 50.33102295355445, 60.73005418753991, 52.704838001136956, 56.89615698118319, 56.512315219392164, 56.855029523160944, 57.69643843679558, 58.903668067093854, 50.3915675306125, 53.09006371532955, 48.60350464488815, 46.89727644316497, 56.139942615403186, 49.05444813737736, 48.784146281262366, 54.50121918937447, 48.73164598723475, 53.09024425071114, 45.04001299434002, 57.0623780707726, 47.74582267061107, 44.87318465704689, 45.22508193997947, 42.33529107677883, 55.008714733022295, 53.712932219861024, 54.59118405486469, 58.6784409924605, 43.534883539055855, 40.56460972746221, 41.88000020965157, 43.6411270297243, 39.24323587329214, 54.72008135396763, 56.0526503465281, 49.032128600058016, 42.72105999021215, 59.45277978502518, 51.757205774149035, 50.49435425044813, 48.508657482455675, 51.139623794432815, 54.90179296106505, 46.81749476608587, 48.92569866075074, 46.48338032579385, 46.47850748427742, 46.44658656103465, 44.87730551204715, 43.900983891805865, 41.03146995276484, 44.951125729184206, 35.945021011543346, 51.985802248513885, 49.40100788454587, 51.82611804853132, 49.86383731084344, 46.20430653805278, 62.24452238683574, 48.30771989262732, 48.78355195241841, 51.57515413481353, 47.113980853946536, 54.83317710421484, 54.36151012078387, 52.544675887893874, 48.725935501289406, 40.26156155281807, 47.773312807645425, 53.9041942478679, 47.76357156358356, 53.83481822114762, 51.34174365760259, 47.10560046289813, 48.18999265324897, 42.286010157186425, 43.173872511584165, 56.52987471502056, 52.55099464161904, 42.9174404372699, 42.9174404372699, 50.4900102448197, 50.46090140430724, 49.82607623569831, 43.05231006077867, 47.293068894669, 57.656429752823485, 39.67039344458536, 45.047238519850595, 51.65261377687639, 52.18496210590461, 47.497245793858276, 53.09609403590294, 52.56333233326176, 44.8674205293204, 46.393220429897, 52.16346180765039, 44.97282968696949, 39.57794491918539, 50.63963989696401, 50.02091807247136, 50.46243403235664, 45.85157741487012, 47.543793029498374, 48.57801666764854, 47.752627465611496, 48.731781392203686, 55.625378057754126, 50.45811526375402, 48.36043404990601, 49.76962960024097, 51.370384974213444, 42.802744331903796, 50.66100334871115, 47.90721529026707, 53.99517916001532, 39.38483953033147, 52.16413602179157, 42.41352296129169, 48.12642404597737, 45.0076060926317, 50.9784585593179, 47.773620744632936, 49.440549750154496, 47.88599968140637, 51.49488342383581, 55.903106609977115, 48.86343448834911, 41.89897804639911, 53.60217244875474, 48.77344072552209, 56.12330756254556, 47.035571952650045, 51.384123733935986, 49.77576361057743, 49.14290432716787, 51.664235708638124, 53.897744305819316, 50.792232831389526, 55.625378057754126, 44.22083328068064, 50.52322355811855, 44.70124859648763, 44.95674811590925, 49.33788321988762, 49.865743096879704, 48.832362075646245, 50.27462138184114, 50.16261902909464, 60.13037565762825, 48.49814538950969, 55.80867724062, 51.47645509380299, 49.446377834737866, 49.320641729521135, 56.810005074742456, 50.6377668878196, 50.9842887898467, 51.15346201450996, 54.68114164102049, 57.44856811301339, 50.657492281737035, 50.8366065703662, 51.23015922092465, 48.01620948031382, 48.485739846795845, 51.72999153438337, 47.82749738813305, 40.435611711246636, 40.385901848286814, 52.09312462647199, 44.854333973161054, 44.72912294574444, 46.12558215058509, 43.58465136795556, 48.27891062104118, 49.813929043851225, 56.481781271354414, 46.56166299324162, 47.06720342930717, 50.82634753807184, 53.479241665022045, 53.479241665022045, 53.479241665022045, 48.2942839144951, 48.2942839144951, 44.858725980185994, 56.04496319051774, 46.08934293520117, 46.08934293520117, 44.39913099857697, 47.521479554547625, 47.521479554547625, 48.58251466673892, 49.41987698987817, 47.18671366229914, 47.20865864088261, 45.599219902124915, 49.7214062792527, 46.42375607434661, 49.221460623498, 49.221460623498, 51.05465228046402, 45.59728974312924, 47.327301032110014, 47.02118964126282, 57.234830727619624, 45.96277511369108, 47.513827786583576, 45.82833667232978, 45.322776127748135, 47.68226769041309, 45.47562281061992, 45.70983109483616, 46.58290397014093, 46.563632947589845, 45.47708982327704, 48.99577132915917, 46.104099341309016, 47.33529247187504, 46.74111940819781, 49.785946798009036, 46.87952784622457, 54.31589143648221, 56.58348700640312, 51.81761859447957, 51.81761859447957, 52.24216848322699, 51.2227983970375, 47.34632818401439, 50.42036264582325, 46.80734228816816, 47.83980051282602, 50.0561025977823, 48.72900122706959, 49.2928828657936, 47.23171263558139, 51.536149586415924, 51.30792208293438, 50.96247359824203, 48.787981280756995, 46.97731868696279, 50.04487450715996, 48.64480309891181, 46.90993465128511, 48.258300954629746, 48.16878725814928, 46.01531404973659, 50.58733275314769, 51.84132108959629, 47.27054985963902, 49.650449033500614, 50.29685939893101, 47.78382926761026, 49.6971656025885, 51.02382728896006, 48.14192201654079, 50.6927827376672, 49.443301728733765, 53.76875352948891, 48.268000945057686, 49.52625007757533, 48.44345775185524, 45.55171545493387, 50.71017301237677, 52.892246465584435, 50.895362047190524, 51.16723823781374, 52.445648704075744, 48.445834671917765, 49.17169719965003, 50.023857824952984, 50.232020847850194, 48.81262772428935, 44.16854880462452, 46.215708432204664, 50.901272036914975, 53.96943269660528, 52.78470808659669, 51.715616241970324, 51.728466939524374, 53.179094686244476, 47.45598304150221, 49.60426667092983, 48.36504382892868, 48.8912861585108, 41.74118037817656, 45.11468096809623, 45.88060015123436, 48.474158745680185, 51.302781033722994, 53.32816073064331, 53.14200110618698, 50.135200618163125, 51.130665761774544, 49.12466330451436, 53.00505934350184, 47.98486820978178, 50.67027575645963, 51.388764751329305, 51.2527866781107, 34.520637545668336, 50.344283997804986, 49.48221111736958, 50.39292212085888, 49.12400726767282, 49.655838811249765, 48.844666540850504, 53.57056410627099, 48.77946935875161, 48.99351376666391, 49.35037881504244, 47.76357156358356, 50.180254442700004, 48.145836595241136, 49.46398742553191, 51.23849571510293, 49.49377043258937, 49.01244378321682, 49.52758681662005, 49.02224627521744, 51.851865642106944, 51.837742415955894, 51.495819983707044, 41.86641118042151, 55.85526752242922, 50.821977410933115, 50.09647744355172, 53.517383515907945, 51.75770638649898, 48.297032412245585, 48.297032412245585, 48.88776192838433, 50.66736959487718, 51.57969534223597, 52.12904322646546, 54.21735600877583, 53.077433179322966, 48.060538763692676, 50.82082504075986, 52.114707800894536, 49.38060455532373, 51.59939329791482, 52.536205644350076, 51.38664313847078, 50.684311936301285, 50.57905023274757, 48.57206444644204, 46.459559462986164, 46.459559462986164, 51.04781283456491, 54.806301587567425, 56.6598851935218, 51.59939329791482, 53.77351926524042, 50.58148348953836, 55.07931321287314, 56.678526610024484, 56.249098583464125, 55.88007420652002, 55.98187492960352, 54.158859675168856, 51.46322510696619, 52.75354816413701, 54.590089551473234, 44.854118332728184, 48.64196304078998, 50.97834545839862, 48.37766516691188, 56.221864857597744, 49.88094352842073, 56.221864857597744, 50.82994051356816, 56.10541118350103, 49.98485647072245, 55.35272237583645, 56.3221093127493, 49.998723780339986, 49.998723780339986, 49.998723780339986, 51.59939329791482, 51.59939329791482, 51.59939329791482], \"coloraxis\": \"coloraxis\"}, \"name\": \"\", \"showlegend\": false, \"type\": \"scattergeo\"}],\n",
       "                        {\"coloraxis\": {\"colorbar\": {\"title\": {\"text\": \"predictions_ridge\"}}, \"colorscale\": [[0.0, \"#0d0887\"], [0.1111111111111111, \"#46039f\"], [0.2222222222222222, \"#7201a8\"], [0.3333333333333333, \"#9c179e\"], [0.4444444444444444, \"#bd3786\"], [0.5555555555555556, \"#d8576b\"], [0.6666666666666666, \"#ed7953\"], [0.7777777777777778, \"#fb9f3a\"], [0.8888888888888888, \"#fdca26\"], [1.0, \"#f0f921\"]]}, \"geo\": {\"center\": {}, \"domain\": {\"x\": [0.0, 1.0], \"y\": [0.0, 1.0]}}, \"legend\": {\"tracegroupgap\": 0}, \"margin\": {\"t\": 60}, \"template\": {\"data\": {\"bar\": [{\"error_x\": {\"color\": \"#2a3f5f\"}, \"error_y\": {\"color\": \"#2a3f5f\"}, \"marker\": {\"line\": {\"color\": \"#E5ECF6\", \"width\": 0.5}}, \"type\": \"bar\"}], \"barpolar\": [{\"marker\": {\"line\": {\"color\": \"#E5ECF6\", \"width\": 0.5}}, \"type\": \"barpolar\"}], \"carpet\": [{\"aaxis\": {\"endlinecolor\": \"#2a3f5f\", \"gridcolor\": \"white\", \"linecolor\": \"white\", \"minorgridcolor\": \"white\", \"startlinecolor\": \"#2a3f5f\"}, \"baxis\": {\"endlinecolor\": \"#2a3f5f\", \"gridcolor\": \"white\", \"linecolor\": \"white\", \"minorgridcolor\": \"white\", \"startlinecolor\": \"#2a3f5f\"}, \"type\": \"carpet\"}], \"choropleth\": [{\"colorbar\": {\"outlinewidth\": 0, \"ticks\": \"\"}, \"type\": \"choropleth\"}], \"contour\": [{\"colorbar\": {\"outlinewidth\": 0, \"ticks\": \"\"}, \"colorscale\": [[0.0, \"#0d0887\"], [0.1111111111111111, \"#46039f\"], [0.2222222222222222, \"#7201a8\"], [0.3333333333333333, \"#9c179e\"], [0.4444444444444444, \"#bd3786\"], [0.5555555555555556, \"#d8576b\"], [0.6666666666666666, \"#ed7953\"], [0.7777777777777778, \"#fb9f3a\"], [0.8888888888888888, \"#fdca26\"], [1.0, \"#f0f921\"]], \"type\": \"contour\"}], \"contourcarpet\": [{\"colorbar\": {\"outlinewidth\": 0, \"ticks\": \"\"}, \"type\": \"contourcarpet\"}], \"heatmap\": [{\"colorbar\": {\"outlinewidth\": 0, \"ticks\": \"\"}, \"colorscale\": [[0.0, \"#0d0887\"], [0.1111111111111111, \"#46039f\"], [0.2222222222222222, \"#7201a8\"], [0.3333333333333333, \"#9c179e\"], [0.4444444444444444, \"#bd3786\"], [0.5555555555555556, \"#d8576b\"], [0.6666666666666666, \"#ed7953\"], [0.7777777777777778, \"#fb9f3a\"], [0.8888888888888888, \"#fdca26\"], [1.0, \"#f0f921\"]], \"type\": \"heatmap\"}], \"heatmapgl\": [{\"colorbar\": {\"outlinewidth\": 0, \"ticks\": \"\"}, \"colorscale\": [[0.0, \"#0d0887\"], [0.1111111111111111, \"#46039f\"], [0.2222222222222222, \"#7201a8\"], [0.3333333333333333, \"#9c179e\"], [0.4444444444444444, \"#bd3786\"], [0.5555555555555556, \"#d8576b\"], [0.6666666666666666, \"#ed7953\"], [0.7777777777777778, \"#fb9f3a\"], [0.8888888888888888, \"#fdca26\"], [1.0, \"#f0f921\"]], \"type\": \"heatmapgl\"}], \"histogram\": [{\"marker\": {\"colorbar\": {\"outlinewidth\": 0, \"ticks\": \"\"}}, \"type\": \"histogram\"}], \"histogram2d\": [{\"colorbar\": {\"outlinewidth\": 0, \"ticks\": \"\"}, \"colorscale\": [[0.0, \"#0d0887\"], [0.1111111111111111, \"#46039f\"], [0.2222222222222222, \"#7201a8\"], [0.3333333333333333, \"#9c179e\"], [0.4444444444444444, \"#bd3786\"], [0.5555555555555556, \"#d8576b\"], [0.6666666666666666, \"#ed7953\"], [0.7777777777777778, \"#fb9f3a\"], [0.8888888888888888, \"#fdca26\"], [1.0, \"#f0f921\"]], \"type\": \"histogram2d\"}], \"histogram2dcontour\": [{\"colorbar\": {\"outlinewidth\": 0, \"ticks\": \"\"}, \"colorscale\": [[0.0, \"#0d0887\"], [0.1111111111111111, \"#46039f\"], [0.2222222222222222, \"#7201a8\"], [0.3333333333333333, \"#9c179e\"], [0.4444444444444444, \"#bd3786\"], [0.5555555555555556, \"#d8576b\"], [0.6666666666666666, \"#ed7953\"], [0.7777777777777778, \"#fb9f3a\"], [0.8888888888888888, \"#fdca26\"], [1.0, \"#f0f921\"]], \"type\": \"histogram2dcontour\"}], \"mesh3d\": [{\"colorbar\": {\"outlinewidth\": 0, \"ticks\": \"\"}, \"type\": \"mesh3d\"}], \"parcoords\": [{\"line\": {\"colorbar\": {\"outlinewidth\": 0, \"ticks\": \"\"}}, \"type\": \"parcoords\"}], \"pie\": [{\"automargin\": true, \"type\": \"pie\"}], \"scatter\": [{\"marker\": {\"colorbar\": {\"outlinewidth\": 0, \"ticks\": \"\"}}, \"type\": \"scatter\"}], \"scatter3d\": [{\"line\": {\"colorbar\": {\"outlinewidth\": 0, \"ticks\": \"\"}}, \"marker\": {\"colorbar\": {\"outlinewidth\": 0, \"ticks\": \"\"}}, \"type\": \"scatter3d\"}], \"scattercarpet\": [{\"marker\": {\"colorbar\": {\"outlinewidth\": 0, \"ticks\": \"\"}}, \"type\": \"scattercarpet\"}], \"scattergeo\": [{\"marker\": {\"colorbar\": {\"outlinewidth\": 0, \"ticks\": \"\"}}, \"type\": \"scattergeo\"}], \"scattergl\": [{\"marker\": {\"colorbar\": {\"outlinewidth\": 0, \"ticks\": \"\"}}, \"type\": \"scattergl\"}], \"scattermapbox\": [{\"marker\": {\"colorbar\": {\"outlinewidth\": 0, \"ticks\": \"\"}}, \"type\": \"scattermapbox\"}], \"scatterpolar\": [{\"marker\": {\"colorbar\": {\"outlinewidth\": 0, \"ticks\": \"\"}}, \"type\": \"scatterpolar\"}], \"scatterpolargl\": [{\"marker\": {\"colorbar\": {\"outlinewidth\": 0, \"ticks\": \"\"}}, \"type\": \"scatterpolargl\"}], \"scatterternary\": [{\"marker\": {\"colorbar\": {\"outlinewidth\": 0, \"ticks\": \"\"}}, \"type\": \"scatterternary\"}], \"surface\": [{\"colorbar\": {\"outlinewidth\": 0, \"ticks\": \"\"}, \"colorscale\": [[0.0, \"#0d0887\"], [0.1111111111111111, \"#46039f\"], [0.2222222222222222, \"#7201a8\"], [0.3333333333333333, \"#9c179e\"], [0.4444444444444444, \"#bd3786\"], [0.5555555555555556, \"#d8576b\"], [0.6666666666666666, \"#ed7953\"], [0.7777777777777778, \"#fb9f3a\"], [0.8888888888888888, \"#fdca26\"], [1.0, \"#f0f921\"]], \"type\": \"surface\"}], \"table\": [{\"cells\": {\"fill\": {\"color\": \"#EBF0F8\"}, \"line\": {\"color\": \"white\"}}, \"header\": {\"fill\": {\"color\": \"#C8D4E3\"}, \"line\": {\"color\": \"white\"}}, \"type\": \"table\"}]}, \"layout\": {\"annotationdefaults\": {\"arrowcolor\": \"#2a3f5f\", \"arrowhead\": 0, \"arrowwidth\": 1}, \"coloraxis\": {\"colorbar\": {\"outlinewidth\": 0, \"ticks\": \"\"}}, \"colorscale\": {\"diverging\": [[0, \"#8e0152\"], [0.1, \"#c51b7d\"], [0.2, \"#de77ae\"], [0.3, \"#f1b6da\"], [0.4, \"#fde0ef\"], [0.5, \"#f7f7f7\"], [0.6, \"#e6f5d0\"], [0.7, \"#b8e186\"], [0.8, \"#7fbc41\"], [0.9, \"#4d9221\"], [1, \"#276419\"]], \"sequential\": [[0.0, \"#0d0887\"], [0.1111111111111111, \"#46039f\"], [0.2222222222222222, \"#7201a8\"], [0.3333333333333333, \"#9c179e\"], [0.4444444444444444, \"#bd3786\"], [0.5555555555555556, \"#d8576b\"], [0.6666666666666666, \"#ed7953\"], [0.7777777777777778, \"#fb9f3a\"], [0.8888888888888888, \"#fdca26\"], [1.0, \"#f0f921\"]], \"sequentialminus\": [[0.0, \"#0d0887\"], [0.1111111111111111, \"#46039f\"], [0.2222222222222222, \"#7201a8\"], [0.3333333333333333, \"#9c179e\"], [0.4444444444444444, \"#bd3786\"], [0.5555555555555556, \"#d8576b\"], [0.6666666666666666, \"#ed7953\"], [0.7777777777777778, \"#fb9f3a\"], [0.8888888888888888, \"#fdca26\"], [1.0, \"#f0f921\"]]}, \"colorway\": [\"#636efa\", \"#EF553B\", \"#00cc96\", \"#ab63fa\", \"#FFA15A\", \"#19d3f3\", \"#FF6692\", \"#B6E880\", \"#FF97FF\", \"#FECB52\"], \"font\": {\"color\": \"#2a3f5f\"}, \"geo\": {\"bgcolor\": \"white\", \"lakecolor\": \"white\", \"landcolor\": \"#E5ECF6\", \"showlakes\": true, \"showland\": true, \"subunitcolor\": \"white\"}, \"hoverlabel\": {\"align\": \"left\"}, \"hovermode\": \"closest\", \"mapbox\": {\"style\": \"light\"}, \"paper_bgcolor\": \"white\", \"plot_bgcolor\": \"#E5ECF6\", \"polar\": {\"angularaxis\": {\"gridcolor\": \"white\", \"linecolor\": \"white\", \"ticks\": \"\"}, \"bgcolor\": \"#E5ECF6\", \"radialaxis\": {\"gridcolor\": \"white\", \"linecolor\": \"white\", \"ticks\": \"\"}}, \"scene\": {\"xaxis\": {\"backgroundcolor\": \"#E5ECF6\", \"gridcolor\": \"white\", \"gridwidth\": 2, \"linecolor\": \"white\", \"showbackground\": true, \"ticks\": \"\", \"zerolinecolor\": \"white\"}, \"yaxis\": {\"backgroundcolor\": \"#E5ECF6\", \"gridcolor\": \"white\", \"gridwidth\": 2, \"linecolor\": \"white\", \"showbackground\": true, \"ticks\": \"\", \"zerolinecolor\": \"white\"}, \"zaxis\": {\"backgroundcolor\": \"#E5ECF6\", \"gridcolor\": \"white\", \"gridwidth\": 2, \"linecolor\": \"white\", \"showbackground\": true, \"ticks\": \"\", \"zerolinecolor\": \"white\"}}, \"shapedefaults\": {\"line\": {\"color\": \"#2a3f5f\"}}, \"ternary\": {\"aaxis\": {\"gridcolor\": \"white\", \"linecolor\": \"white\", \"ticks\": \"\"}, \"baxis\": {\"gridcolor\": \"white\", \"linecolor\": \"white\", \"ticks\": \"\"}, \"bgcolor\": \"#E5ECF6\", \"caxis\": {\"gridcolor\": \"white\", \"linecolor\": \"white\", \"ticks\": \"\"}}, \"title\": {\"x\": 0.05}, \"xaxis\": {\"automargin\": true, \"gridcolor\": \"white\", \"linecolor\": \"white\", \"ticks\": \"\", \"title\": {\"standoff\": 15}, \"zerolinecolor\": \"white\", \"zerolinewidth\": 2}, \"yaxis\": {\"automargin\": true, \"gridcolor\": \"white\", \"linecolor\": \"white\", \"ticks\": \"\", \"title\": {\"standoff\": 15}, \"zerolinecolor\": \"white\", \"zerolinewidth\": 2}}}},\n",
       "                        {\"responsive\": true}\n",
       "                    ).then(function(){\n",
       "                            \n",
       "var gd = document.getElementById('376d8664-f7ed-44be-90d1-3b7cc3cc4735');\n",
       "var x = new MutationObserver(function (mutations, observer) {{\n",
       "        var display = window.getComputedStyle(gd).display;\n",
       "        if (!display || display === 'none') {{\n",
       "            console.log([gd, 'removed!']);\n",
       "            Plotly.purge(gd);\n",
       "            observer.disconnect();\n",
       "        }}\n",
       "}});\n",
       "\n",
       "// Listen for the removal of the full notebook cells\n",
       "var notebookContainer = gd.closest('#notebook-container');\n",
       "if (notebookContainer) {{\n",
       "    x.observe(notebookContainer, {childList: true});\n",
       "}}\n",
       "\n",
       "// Listen for the clearing of the current output cell\n",
       "var outputEl = gd.closest('.output');\n",
       "if (outputEl) {{\n",
       "    x.observe(outputEl, {childList: true});\n",
       "}}\n",
       "\n",
       "                        })\n",
       "                };\n",
       "                \n",
       "            </script>\n",
       "        </div>\n",
       "</body>\n",
       "</html>"
      ]
     },
     "metadata": {
      "tags": []
     },
     "output_type": "display_data"
    }
   ],
   "source": [
    "fig = px.scatter_geo(roya_test, lat=\"Latitude_decimal\", lon=\"Longitude_decimal\", color=\"predictions_ridge\")\n",
    "fig.show()"
   ]
  },
  {
   "cell_type": "code",
   "execution_count": null,
   "metadata": {
    "colab": {
     "base_uri": "https://localhost:8080/",
     "height": 283
    },
    "executionInfo": {
     "elapsed": 314,
     "status": "ok",
     "timestamp": 1625907050869,
     "user": {
      "displayName": "Icíar Civantos Gómez",
      "photoUrl": "",
      "userId": "06033810409542157400"
     },
     "user_tz": -120
    },
    "id": "iHFxKGUsm2GR",
    "outputId": "d3572b91-2da7-4f3f-efad-70fc8d17cf2c"
   },
   "outputs": [
    {
     "data": {
      "text/plain": [
       "<matplotlib.collections.PathCollection at 0x7f32d0ea1790>"
      ]
     },
     "execution_count": 45,
     "metadata": {
      "tags": []
     },
     "output_type": "execute_result"
    },
    {
     "data": {
      "image/png": "[encoded data removed]",
      "text/plain": [
       "<Figure size 432x288 with 1 Axes>"
      ]
     },
     "metadata": {
      "needs_background": "light",
      "tags": []
     },
     "output_type": "display_data"
    }
   ],
   "source": [
    "plt.scatter(roya_test['DeMartonneANNUAL'], roya_test['predictions_ridge'])"
   ]
  },
  {
   "cell_type": "code",
   "execution_count": null,
   "metadata": {
    "colab": {
     "base_uri": "https://localhost:8080/",
     "height": 379
    },
    "executionInfo": {
     "elapsed": 672,
     "status": "ok",
     "timestamp": 1625907114159,
     "user": {
      "displayName": "Icíar Civantos Gómez",
      "photoUrl": "",
      "userId": "06033810409542157400"
     },
     "user_tz": -120
    },
    "id": "F8bNC1vJnPu3",
    "outputId": "374b058b-7396-4a56-c52a-e7982b73bb2d"
   },
   "outputs": [
    {
     "data": {
      "text/plain": [
       "<matplotlib.axes._subplots.AxesSubplot at 0x7f32d4c8a750>"
      ]
     },
     "execution_count": 46,
     "metadata": {
      "tags": []
     },
     "output_type": "execute_result"
    },
    {
     "data": {
      "image/png": "[encoded data removed]",
      "text/plain": [
       "<Figure size 432x288 with 2 Axes>"
      ]
     },
     "metadata": {
      "needs_background": "light",
      "tags": []
     },
     "output_type": "display_data"
    }
   ],
   "source": [
    "# calculate the correlation matrix\n",
    "corr = roya_test.corr()\n",
    "\n",
    "# plot the heatmap\n",
    "sns.heatmap(corr, \n",
    "        xticklabels=corr.columns,\n",
    "        yticklabels=corr.columns)"
   ]
  }
 ],
 "metadata": {
  "colab": {
   "collapsed_sections": [],
   "name": "lens_resistance_100_Martonne.ipynb",
   "provenance": [
    {
     "file_id": "1lsg6ARnGBPb9uI0_N7vNB28FY-CaX-OM",
     "timestamp": 1622199618351
    }
   ]
  },
  "kernelspec": {
   "display_name": "Python 3 (ipykernel)",
   "language": "python",
   "name": "python3"
  },
  "language_info": {
   "codemirror_mode": {
    "name": "ipython",
    "version": 3
   },
   "file_extension": ".py",
   "mimetype": "text/x-python",
   "name": "python",
   "nbconvert_exporter": "python",
   "pygments_lexer": "ipython3",
   "version": "3.9.7"
  }
 },
 "nbformat": 4,
 "nbformat_minor": 1
}
