{
 "cells": [
  {
   "cell_type": "code",
   "execution_count": null,
   "metadata": {
    "id": "cf_xHReXZE1v"
   },
   "outputs": [],
   "source": [
    "import pandas as pd\n",
    "import numpy as np\n",
    "import sys\n",
    "import os\n",
    "sys.path.append('..')\n",
    "\n",
    "import warnings\n",
    "warnings.filterwarnings('ignore')\n",
    "\n",
    "import matplotlib.pyplot as plt\n",
    "import plotly.express as px\n",
    "import numpy as np\n",
    "import pandas as pd\n",
    "pd.options.mode.chained_assignment = None\n",
    "import seaborn as sns\n",
    "\n",
    "from sklearn.preprocessing import StandardScaler\n",
    "from sklearn.ensemble import RandomForestRegressor\n",
    "from sklearn.linear_model import RidgeCV\n",
    "from sklearn.model_selection import train_test_split, cross_validate\n",
    "from sklearn.metrics import mean_squared_error\n",
    "import xgboost\n",
    "\n",
    "import warnings\n",
    "warnings.filterwarnings(\"always\")"
   ]
  },
  {
   "cell_type": "markdown",
   "metadata": {
    "id": "ZedmqZisZE13"
   },
   "source": [
    "## **Load Data**"
   ]
  },
  {
   "cell_type": "code",
   "execution_count": null,
   "metadata": {
    "colab": {
     "base_uri": "https://localhost:8080/",
     "height": 106,
     "resources": {
      "http://localhost:8080/nbextensions/google.colab/files.js": {
       "data": "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",
       "headers": [
        [
         "content-type",
         "application/javascript"
        ]
       ],
       "ok": true,
       "status": 200,
       "status_text": ""
      }
     }
    },
    "executionInfo": {
     "elapsed": 18022,
     "status": "ok",
     "timestamp": 1625146003324,
     "user": {
      "displayName": "Icíar Civantos Gómez",
      "photoUrl": "",
      "userId": "06033810409542157400"
     },
     "user_tz": -120
    },
    "id": "odhN5cHCZSL5",
    "outputId": "012cc29c-23c0-43ff-f960-5e8ab72c6621"
   },
   "outputs": [
    {
     "data": {
      "text/html": [
       "\n",
       "     <input type=\"file\" id=\"files-c52ac20e-efb1-49d7-a801-6e18b5939b6c\" name=\"files[]\" multiple disabled\n",
       "        style=\"border:none\" />\n",
       "     <output id=\"result-c52ac20e-efb1-49d7-a801-6e18b5939b6c\">\n",
       "      Upload widget is only available when the cell has been executed in the\n",
       "      current browser session. Please rerun this cell to enable.\n",
       "      </output>\n",
       "      <script src=\"/nbextensions/google.colab/files.js\"></script> "
      ],
      "text/plain": [
       "<IPython.core.display.HTML object>"
      ]
     },
     "metadata": {
      "tags": []
     },
     "output_type": "display_data"
    },
    {
     "name": "stdout",
     "output_type": "stream",
     "text": [
      "Saving fichtraining_ROYA_CAMPO_nondup.csv to fichtraining_ROYA_CAMPO_nondup.csv\n",
      "Saving SupplementaryTable3_RubioTeso_etal.xlsx to SupplementaryTable3_RubioTeso_etal.xlsx\n"
     ]
    }
   ],
   "source": [
    "from google.colab import files \n",
    "uploaded = files.upload()"
   ]
  },
  {
   "cell_type": "code",
   "execution_count": null,
   "metadata": {
    "colab": {
     "base_uri": "https://localhost:8080/",
     "height": 204
    },
    "executionInfo": {
     "elapsed": 351,
     "status": "ok",
     "timestamp": 1625146010592,
     "user": {
      "displayName": "Icíar Civantos Gómez",
      "photoUrl": "",
      "userId": "06033810409542157400"
     },
     "user_tz": -120
    },
    "id": "pzRK0FahZE15",
    "outputId": "4eaf1967-a555-42eb-85e6-74adad6f8759",
    "scrolled": true
   },
   "outputs": [
    {
     "data": {
      "text/html": [
       "<div>\n",
       "<style scoped>\n",
       "    .dataframe tbody tr th:only-of-type {\n",
       "        vertical-align: middle;\n",
       "    }\n",
       "\n",
       "    .dataframe tbody tr th {\n",
       "        vertical-align: top;\n",
       "    }\n",
       "\n",
       "    .dataframe thead th {\n",
       "        text-align: right;\n",
       "    }\n",
       "</style>\n",
       "<table border=\"1\" class=\"dataframe\">\n",
       "  <thead>\n",
       "    <tr style=\"text-align: right;\">\n",
       "      <th></th>\n",
       "      <th>inputs.data.species</th>\n",
       "      <th>DECLONGITUDE</th>\n",
       "      <th>DECLATITUDE</th>\n",
       "      <th>bio_1</th>\n",
       "      <th>srad_12</th>\n",
       "      <th>srad_annual</th>\n",
       "      <th>t_bulk_dens</th>\n",
       "      <th>t_sand</th>\n",
       "      <th>t_soilwater_cap</th>\n",
       "      <th>t_teb</th>\n",
       "      <th>long</th>\n",
       "      <th>ROYA_CAMPO_AVERAGE_DSR</th>\n",
       "      <th>CODIGO_BANCO</th>\n",
       "      <th>CODIGO_IAS</th>\n",
       "      <th>DECLONGROUND</th>\n",
       "      <th>DECLATROUND</th>\n",
       "    </tr>\n",
       "  </thead>\n",
       "  <tbody>\n",
       "    <tr>\n",
       "      <th>0</th>\n",
       "      <td>1</td>\n",
       "      <td>5.133333</td>\n",
       "      <td>43.916667</td>\n",
       "      <td>110.919998</td>\n",
       "      <td>5194</td>\n",
       "      <td>14868.750000</td>\n",
       "      <td>1451.699951</td>\n",
       "      <td>37.0</td>\n",
       "      <td>23.700001</td>\n",
       "      <td>28.799999</td>\n",
       "      <td>5.145833</td>\n",
       "      <td>0.000000</td>\n",
       "      <td>PI 572342</td>\n",
       "      <td>1595.0</td>\n",
       "      <td>5.13</td>\n",
       "      <td>43.91</td>\n",
       "    </tr>\n",
       "    <tr>\n",
       "      <th>1</th>\n",
       "      <td>1</td>\n",
       "      <td>16.950278</td>\n",
       "      <td>43.356944</td>\n",
       "      <td>145.125000</td>\n",
       "      <td>4663</td>\n",
       "      <td>14057.916992</td>\n",
       "      <td>1416.525024</td>\n",
       "      <td>44.0</td>\n",
       "      <td>24.924999</td>\n",
       "      <td>26.799999</td>\n",
       "      <td>16.937500</td>\n",
       "      <td>0.000000</td>\n",
       "      <td>PI 572349</td>\n",
       "      <td>1599.0</td>\n",
       "      <td>16.95</td>\n",
       "      <td>43.35</td>\n",
       "    </tr>\n",
       "    <tr>\n",
       "      <th>2</th>\n",
       "      <td>1</td>\n",
       "      <td>33.413333</td>\n",
       "      <td>36.333056</td>\n",
       "      <td>147.679993</td>\n",
       "      <td>7992</td>\n",
       "      <td>18051.416016</td>\n",
       "      <td>1516.525024</td>\n",
       "      <td>43.0</td>\n",
       "      <td>22.775000</td>\n",
       "      <td>15.600000</td>\n",
       "      <td>33.395833</td>\n",
       "      <td>0.000000</td>\n",
       "      <td>PI 572406</td>\n",
       "      <td>1631.0</td>\n",
       "      <td>33.41</td>\n",
       "      <td>36.33</td>\n",
       "    </tr>\n",
       "    <tr>\n",
       "      <th>3</th>\n",
       "      <td>1</td>\n",
       "      <td>85.516667</td>\n",
       "      <td>25.183333</td>\n",
       "      <td>263.679993</td>\n",
       "      <td>15245</td>\n",
       "      <td>18996.083984</td>\n",
       "      <td>1539.250000</td>\n",
       "      <td>47.0</td>\n",
       "      <td>21.799999</td>\n",
       "      <td>8.300000</td>\n",
       "      <td>85.520833</td>\n",
       "      <td>0.454545</td>\n",
       "      <td>PI 472137</td>\n",
       "      <td>1524.0</td>\n",
       "      <td>85.51</td>\n",
       "      <td>25.18</td>\n",
       "    </tr>\n",
       "    <tr>\n",
       "      <th>4</th>\n",
       "      <td>1</td>\n",
       "      <td>74.350000</td>\n",
       "      <td>32.333333</td>\n",
       "      <td>238.000000</td>\n",
       "      <td>9956</td>\n",
       "      <td>17067.666016</td>\n",
       "      <td>1590.425049</td>\n",
       "      <td>42.0</td>\n",
       "      <td>21.025000</td>\n",
       "      <td>13.800000</td>\n",
       "      <td>74.354167</td>\n",
       "      <td>0.909091</td>\n",
       "      <td>PI 426797</td>\n",
       "      <td>1447.0</td>\n",
       "      <td>74.34</td>\n",
       "      <td>32.33</td>\n",
       "    </tr>\n",
       "  </tbody>\n",
       "</table>\n",
       "</div>"
      ],
      "text/plain": [
       "   inputs.data.species  DECLONGITUDE  ...  DECLONGROUND  DECLATROUND\n",
       "0                    1      5.133333  ...          5.13        43.91\n",
       "1                    1     16.950278  ...         16.95        43.35\n",
       "2                    1     33.413333  ...         33.41        36.33\n",
       "3                    1     85.516667  ...         85.51        25.18\n",
       "4                    1     74.350000  ...         74.34        32.33\n",
       "\n",
       "[5 rows x 16 columns]"
      ]
     },
     "execution_count": 3,
     "metadata": {
      "tags": []
     },
     "output_type": "execute_result"
    }
   ],
   "source": [
    "roya = pd.read_csv(\"fichtraining_ROYA_CAMPO_nondup.csv\",decimal=',',sep=';',)\n",
    "\n",
    "roya.head()"
   ]
  },
  {
   "cell_type": "code",
   "execution_count": null,
   "metadata": {
    "colab": {
     "base_uri": "https://localhost:8080/",
     "height": 542
    },
    "executionInfo": {
     "elapsed": 727,
     "status": "ok",
     "timestamp": 1625146013177,
     "user": {
      "displayName": "Icíar Civantos Gómez",
      "photoUrl": "",
      "userId": "06033810409542157400"
     },
     "user_tz": -120
    },
    "id": "RDAt7E90XY6O",
    "outputId": "6a5d3ff4-2b7a-4ad1-eae4-ff5e3d94915e"
   },
   "outputs": [
    {
     "data": {
      "text/html": [
       "<html>\n",
       "<head><meta charset=\"utf-8\" /></head>\n",
       "<body>\n",
       "    <div>\n",
       "            <script src=\"https://cdnjs.cloudflare.com/ajax/libs/mathjax/2.7.5/MathJax.js?config=TeX-AMS-MML_SVG\"></script><script type=\"text/javascript\">if (window.MathJax) {MathJax.Hub.Config({SVG: {font: \"STIX-Web\"}});}</script>\n",
       "                <script type=\"text/javascript\">window.PlotlyConfig = {MathJaxConfig: 'local'};</script>\n",
       "        <script src=\"https://cdn.plot.ly/plotly-latest.min.js\"></script>    \n",
       "            <div id=\"211a052c-8e93-4b1e-b2f4-344eba845e9e\" class=\"plotly-graph-div\" style=\"height:525px; width:100%;\"></div>\n",
       "            <script type=\"text/javascript\">\n",
       "                \n",
       "                    window.PLOTLYENV=window.PLOTLYENV || {};\n",
       "                    \n",
       "                if (document.getElementById(\"211a052c-8e93-4b1e-b2f4-344eba845e9e\")) {\n",
       "                    Plotly.newPlot(\n",
       "                        '211a052c-8e93-4b1e-b2f4-344eba845e9e',\n",
       "                        [{\"geo\": \"geo\", \"hoverlabel\": {\"namelength\": 0}, \"hovertemplate\": \"DECLATITUDE=%{lat}<br>DECLONGITUDE=%{lon}<br>ROYA_CAMPO_AVERAGE_DSR=%{marker.color}\", \"lat\": [43.91666667, 43.35694444, 36.33305556, 25.18333333, 32.33333333, 37.079643, 37.823196, 40.59194444, 41.54361111, 30.06666667, 28.98333333, 19.51666667, 36.3, 38.38333333, 41.81194444, 11.5, 42.33333333, -36.6, 35.28333333, 37.18277778, 37.17722222, 43.13472222, 42.0, 32.608304, 28.0, 39.53333333, 28.96027778, 40.10888889, 42.77416667, 36.39, 46.905304, 38.2494, 25.18333333, 44.08333333, 40.322625, 37.56666667, 39.46666667, 29.09666667, 34.6175, 29.145027000000002, 42.40944444, 42.17277778, 39.63333333, 40.58805556, 42.57166667, 37.08333333, 42.40694444, 39.77111111, -36.6, -28.63333333, 32.994619, 37.62, 42.89305556, 42.87638889, 40.98944444, 28.05, 28.39583333, 40.73611111, -37.88333333, 42.97333333, 40.19583333, 42.22166667, 42.82777778, 42.80833333, 42.29111111, 37.21666667, 42.29777778, 40.68333333, 42.90944444, 28.56666667, 39.61194444, 41.37472222, 48.33333333, 29.14527778, 40.75833333, 37.3225, 42.42555556, 42.09972222, 42.39027778, 41.40805556, 41.66666667, 48.02863, 31.75, 38.25194444, 42.98472222, 41.0775, 42.95277778, 42.33, 42.94305556, 41.94305556, 40.51916667, 32.608304, 28.96666667, 33.367793, 41.07472222, 39.82416667, 37.67083333, 40.86722222, 40.32361111, 41.06666667, 37.30611111, 41.98611111, 40.75138889, 37.57305556, 40.86444444, 33.544635, 39.28833333, 42.35083333, 38.07055556, 39.81805556, 40.735, 42.60027778, 40.21138889, 42.96944444, 39.72972222, 42.275, 38.11027778, 39.74194444, 40.91666667, 39.4, 31.13333333, 28.0, 49.98333333, 37.901623, 40.62083333, 43.00694444, 41.01972222, 42.88611111, 39.96138889, 42.33888889, 36.94611111, 40.90361111, 39.20833333, 40.64083333, 40.03888889, 39.33333333, 40.00861111, 39.62722222, 42.60861111, 39.26666667, 42.13388889, 38.96583333, 37.49194444, 28.52666667, 39.51444444, 40.74527778, -33.45, 14.56666667, 44.22361111, 39.36666667, 40.95388889, 39.35722222, 40.14277778, 42.95, 39.46972222, 42.46388889, 38.96333333, 43.00277778, 39.92333333, 40.82444444, 40.92638889, 39.56166667, 40.51166667, 41.065, 37.34388889, 40.10888889, 38.88527778, 39.06861111, 37.35194444, 40.93972222, 37.78694444, 39.525, 37.39583333, 42.57666667, 41.33166667, 38.70277778, 39.50027778, 38.63583333, 38.98805556, 39.96638889, 37.17722222, 39.33333333, 42.91666667, 39.13666667, 39.2725, 41.2325, 39.35333333, 17.46666667, 36.7, 38.99722222, 41.05, 40.1425, 40.745, 42.32166667, 38.61388889, 41.11527778, 40.86972222, 38.71111111, 40.54472222, 41.09361111, 38.97388889, 40.68833333, 41.53805556, 39.25666667, 37.13388889, 40.63333333, 39.26888889, 42.25416667, 42.07833333, 40.88416667, 42.77416667, 37.88, 38.62194444, 42.95138889, 41.65361111, 42.35694444, 40.16888889, 41.24305556, 43.15222222, 37.71944444, 42.21333333, 38.72222222, 40.94527778, 28.79722222, 38.75194444, 42.37222222, 39.76055556, 40.50305556, 40.46361111, 42.275, 33.76062, 38.217971999999996, 9.5833, 31.81666667, 37.44, 37.41666667, 41.82083333, 42.4925, 28.60944444, 39.72222222, 39.115, 40.29916667, 40.53166667, 37.76888889, 41.04388889, 42.295, 40.95027778, 40.71666667, 41.70083333, 42.53472222, 28.5325, 26.51694444, 35.18333333, 40.7, 39.32472222], \"legendgroup\": \"\", \"lon\": [5.13333333, 16.95027778, 33.41333333, 85.51666667, 74.35, 37.410987, 32.989336, 17.11527778, 22.54444444, 73.06666667, 77.7, -98.86666667, 30.15, 37.6, 21.99472222, 39.6, -5.36666667, -72.11666667, 47.18333333, -3.0625, -2.9472222219999997, -8.931666667, 47.0, 51.749865, 80.0, 67.88333333, -13.55138889, -3.3872222219999997, -5.943333332999999, 37.18, -117.08017099999999, 48.3014, 85.51666667, 7.6, 36.569123, 41.06666667, 67.73333333, -13.47, 71.97138889, 71.27512, -4.175555556, -0.005277778, 22.41666667, -1.789722222, -5.0597222219999995, -5.5, -4.902222222, 3.024444444, -72.11666667, -53.1, 35.224340000000005, 35.86, -5.7638888889999995, -4.1125, -6.865, 79.11666667, -14.08666667, -1.6177777780000002, -71.18333333, -4.923888889, -1.616111111, -4.8555555560000005, -4.9513888889999995, -5.584722222000001, -4.141944444, 30.3, -5.897777777999999, -2.916666667, -4.075833333, -13.83333333, -1.7947222219999999, -2.9083333330000003, -1.16666667, -13.49666667, -2.868888889, -3.330555556, -0.661388889, -5.033055556, -5.390277778, -4.403055556, 26.56666667, 0.33265500000000003, -8.25, -3.203888889, -6.023611111, -5.611944444, -5.544444444, -4.034166667, -5.722222222, -4.506388889, -2.879722222, 51.749865, -13.71666667, 35.874029, -5.566944444, -2.767222222, -4.236666667, -1.9358333330000002, -3.108333333, -1.3858333330000001, 29.77583333, -5.403055556, -1.8061111109999999, -3.503611111, -2.724722222, 68.4106, -1.47, -5.383888889, -3.3061111110000003, -2.949166667, -2.833888889, -5.5655555560000005, -3.190833333, -6.125, -2.9263888889999996, -5.058333333, -3.085, 39.4925, 32.08333333, 30.63333333, 35.64083333, 80.0, 16.95, 40.155321, -2.952777778, -5.683333332999999, -5.590277778, -5.454166667000001, -3.498333333, -5.368055556, -3.1794444439999996, -2.913055556, -2.158055556, -2.8413888889999996, -2.7375, -2.266666667, -3.9455555560000004, -1.9436111109999998, -4.795555556, -1.911666667, -5.089166667, -1.444166667, -2.773611111, -13.99055556, -2.489444444, -1.7352777780000002, -70.66666667, -90.73333333, 20.31166667, -1.7, -2.415277778, -1.715, -2.568888889, -5.983333332999999, -3.5325, -6.205555556, -2.125, -5.256944444, -3.007777778, -2.7811111110000004, -2.921111111, -1.908611111, -2.89, -5.524166667, -3.7855555560000003, -3.3872222219999997, -2.149722222, -3.610277778, -3.291944444, -2.7861111110000003, -5.27, -1.977222222, -2.61, 0.27638888899999997, -5.080277778, -2.602777778, -1.897222222, -1.9683333330000001, -4.114722222, -4.300555556, -2.9472222219999997, -1.716666667, -5.001388888999999, -1.675277778, -2.318333333, -5.494166667000001, -2.3247222219999997, -97.23333333, 67.1, -1.854444444, -2.1, -3.421111111, -3.0313888889999996, -5.0191666669999995, -2.0497222219999998, -5.572777778, -2.8425, -4.177777778, -2.9575, -5.5594444439999995, -3.3438888889999996, -2.8847222219999997, -5.386666667, -1.853055556, -3.82, -2.9, -2.605833333, -5.266666667, -3.912777778, -2.8175, -5.943333332999999, -1.708611111, -2.026388889, -6.0708333329999995, -4.721944444, -5.209166667, -3.271111111, -2.731111111, -4.916111111, -2.536388889, -5.204722222, -1.91, -2.725, -17.75861111, -1.9525, -5.031944444, -3.163055556, -2.942777778, -2.960277778, -5.433333332999999, 35.885183000000005, 37.203332, 41.8667, 35.03333333, 41.03, 41.38333333, -4.176388889, -4.603055556, -13.92638889, 2.913055556, -1.996666667, -2.98, -3.030833333, -3.956666667, -5.534166667, -5.518888888999999, -3.0875, -2.766666667, -4.84, -5.275, -13.93194444, 83.8, 59.38333333, 36.61666667, -2.269166667], \"marker\": {\"color\": [0.0, 0.0, 0.0, 0.45454545454545503, 0.9090909090909091, 0.9090909090909091, 1.8181818181818201, 3.18181818181818, 3.6363636363636402, 3.6363636363636402, 6.36363636363636, 7.27272727272727, 9.09090909090909, 9.54545454545454, 10.0, 13.6363636363636, 13.6363636363636, 15.1515151515152, 16.363636363636402, 16.7398057320468, 16.8442826374179, 16.8547595857661, 18.181818181818198, 18.181818181818198, 18.181818181818198, 18.181818181818198, 20.6355990579496, 23.529411764705895, 23.921037461275603, 25.4545454545455, 25.4545454545455, 27.2727272727273, 54.545454545454504, 27.2727272727273, 27.2727272727273, 27.2727272727273, 27.7272727272727, 69.2871134669122, 29.393939393939398, 30.3030303030303, 30.896591209889003, 50.1782531194296, 35.1515151515151, 35.3467440513165, 63.878701935560706, 35.2941176470588, 35.2983183730206, 35.6888626108857, 59.0909090909091, 36.363636363636395, 36.363636363636395, 36.363636363636395, 37.8266125778946, 61.01306942024961, 38.0543664588735, 38.1818181818182, 81.3813122650018, 38.8803309223134, 39.3939393939394, 58.7203535002832, 40.1604278074866, 72.40865124189321, 40.9506833036245, 41.6515356472519, 64.9975964027965, 45.454545454545496, 42.5902082273629, 43.0168908272147, 64.4995305299782, 43.2049691065022, 81.9318360786209, 44.076584383934296, 44.2424242424242, 44.405492258253005, 69.59169342250729, 44.4982167262531, 44.622697563874, 51.874283207736795, 74.9589138591638, 45.241404804538796, 45.454545454545496, 45.454545454545496, 48.4848484848485, 45.9135040179455, 46.42294725987271, 46.5409337600484, 46.620797603294896, 46.724555711350206, 46.7556438158039, 47.647121795844704, 47.844112731103706, 57.5757575757576, 48.300658802282804, 48.4848484848485, 48.7930982091734, 48.954332329100104, 49.4236482471777, 94.1344499626708, 49.8314226298508, 50.0297088532383, 50.0, 50.2898304828347, 50.7531824019053, 50.93159004528461, 51.45573380867501, 51.5151515151515, 51.6176038396924, 51.9288093250562, 51.8895460382689, 52.3661578407158, 52.459743637550794, 94.11764705882351, 53.42666061901, 53.514562545598295, 92.39121940780659, 54.1550794713512, 54.5496552714164, 54.545454545454504, 54.545454545454504, 54.545454545454504, 54.545454545454504, 54.545454545454504, 54.545454545454504, 54.545454545454504, 61.0088686942878, 55.157053147149, 55.347593582887704, 55.9965616247945, 61.203208556149704, 56.0864307820815, 56.1174075711547, 66.5961285122037, 56.8033273915627, 81.9318360786209, 56.94007207954571, 56.945547102864296, 56.8760708628653, 57.397504456328, 57.8847296494355, 57.9570061258915, 58.0952797231851, 88.81098451650601, 58.2932333248104, 58.442979497519204, 87.16152774321381, 58.85124285588079, 69.6363636363636, 59.0909090909091, 59.0909090909091, 59.25301249559109, 59.447372110637104, 59.6605115230562, 59.92419920511129, 59.9312868533099, 76.7021444140281, 59.9205633173515, 60.114802613165295, 60.1676702130699, 60.3022227530027, 60.317268571742794, 60.49360916827539, 88.90475829807801, 60.6369285056393, 60.6049986915967, 60.589910891313, 88.90475829807801, 61.523108448105404, 61.5801282080336, 61.6096036876073, 61.857070501663294, 61.7879051395403, 61.759381346473894, 61.942959001782505, 61.942959001782505, 62.0461114473171, 61.9726678550208, 62.134537886038196, 62.3724420856089, 62.5408700451806, 62.5668449197861, 71.8667835232253, 86.2899124657816, 63.02580348318621, 63.0952797231851, 63.339275103981, 63.458110516934006, 85.4182971883495, 63.636363636363605, 63.636363636363605, 63.7254901960784, 64.4995305299781, 87.16152774321381, 72.9385019312442, 74.56922162804521, 64.4953298040163, 64.7103164525675, 64.8430727974816, 65.0462388770527, 65.27888043619761, 88.90475829807801, 83.3403345432697, 65.47139380518159, 83.6750666334852, 65.6938008104855, 65.6897751147721, 65.8038146346285, 79.66299467027909, 65.95365418894829, 66.3459369963239, 66.250742721331, 66.3160969909436, 88.90475829807801, 66.67542991206061, 66.650516951919, 92.39121940780659, 68.6974464446496, 68.6757774105904, 68.9363283269557, 69.0318460738285, 69.2004490636486, 69.8339851112617, 70.3296188603672, 74.5231062204477, 70.9403481773063, 71.4580885360922, 71.4724527494353, 83.6750666334852, 72.04512814913299, 78.73699095313171, 72.2849655034185, 72.7272727272727, 72.7272727272727, 72.7272727272727, 72.7272727272727, 72.7272727272727, 72.7272727272727, 73.0872795711001, 73.2156833042995, 78.7415534725638, 74.33155080213899, 75.7938832833242, 81.4999143042903, 77.8332688759129, 77.25657755797971, 78.08046727810951, 78.2769704752677, 78.44537496889241, 79.49912923013959, 80.94550462628571, 80.9553297861436, 81.77685659792, 81.8181818181818, 81.8181818181818, 87.8787878787879, 90.37853227676399], \"coloraxis\": \"coloraxis\"}, \"name\": \"\", \"showlegend\": false, \"type\": \"scattergeo\"}],\n",
       "                        {\"coloraxis\": {\"colorbar\": {\"title\": {\"text\": \"ROYA_CAMPO_AVERAGE_DSR\"}}, \"colorscale\": [[0.0, \"#0d0887\"], [0.1111111111111111, \"#46039f\"], [0.2222222222222222, \"#7201a8\"], [0.3333333333333333, \"#9c179e\"], [0.4444444444444444, \"#bd3786\"], [0.5555555555555556, \"#d8576b\"], [0.6666666666666666, \"#ed7953\"], [0.7777777777777778, \"#fb9f3a\"], [0.8888888888888888, \"#fdca26\"], [1.0, \"#f0f921\"]]}, \"geo\": {\"center\": {}, \"domain\": {\"x\": [0.0, 1.0], \"y\": [0.0, 1.0]}}, \"legend\": {\"tracegroupgap\": 0}, \"margin\": {\"t\": 60}, \"template\": {\"data\": {\"bar\": [{\"error_x\": {\"color\": \"#2a3f5f\"}, \"error_y\": {\"color\": \"#2a3f5f\"}, \"marker\": {\"line\": {\"color\": \"#E5ECF6\", \"width\": 0.5}}, \"type\": \"bar\"}], \"barpolar\": [{\"marker\": {\"line\": {\"color\": \"#E5ECF6\", \"width\": 0.5}}, \"type\": \"barpolar\"}], \"carpet\": [{\"aaxis\": {\"endlinecolor\": \"#2a3f5f\", \"gridcolor\": \"white\", \"linecolor\": \"white\", \"minorgridcolor\": \"white\", \"startlinecolor\": \"#2a3f5f\"}, \"baxis\": {\"endlinecolor\": \"#2a3f5f\", \"gridcolor\": \"white\", \"linecolor\": \"white\", \"minorgridcolor\": \"white\", \"startlinecolor\": \"#2a3f5f\"}, \"type\": \"carpet\"}], \"choropleth\": [{\"colorbar\": {\"outlinewidth\": 0, \"ticks\": \"\"}, \"type\": \"choropleth\"}], \"contour\": [{\"colorbar\": {\"outlinewidth\": 0, \"ticks\": \"\"}, \"colorscale\": [[0.0, \"#0d0887\"], [0.1111111111111111, \"#46039f\"], [0.2222222222222222, \"#7201a8\"], [0.3333333333333333, \"#9c179e\"], [0.4444444444444444, \"#bd3786\"], [0.5555555555555556, \"#d8576b\"], [0.6666666666666666, \"#ed7953\"], [0.7777777777777778, \"#fb9f3a\"], [0.8888888888888888, \"#fdca26\"], [1.0, \"#f0f921\"]], \"type\": \"contour\"}], \"contourcarpet\": [{\"colorbar\": {\"outlinewidth\": 0, \"ticks\": \"\"}, \"type\": \"contourcarpet\"}], \"heatmap\": [{\"colorbar\": {\"outlinewidth\": 0, \"ticks\": \"\"}, \"colorscale\": [[0.0, \"#0d0887\"], [0.1111111111111111, \"#46039f\"], [0.2222222222222222, \"#7201a8\"], [0.3333333333333333, \"#9c179e\"], [0.4444444444444444, \"#bd3786\"], [0.5555555555555556, \"#d8576b\"], [0.6666666666666666, \"#ed7953\"], [0.7777777777777778, \"#fb9f3a\"], [0.8888888888888888, \"#fdca26\"], [1.0, \"#f0f921\"]], \"type\": \"heatmap\"}], \"heatmapgl\": [{\"colorbar\": {\"outlinewidth\": 0, \"ticks\": \"\"}, \"colorscale\": [[0.0, \"#0d0887\"], [0.1111111111111111, \"#46039f\"], [0.2222222222222222, \"#7201a8\"], [0.3333333333333333, \"#9c179e\"], [0.4444444444444444, \"#bd3786\"], [0.5555555555555556, \"#d8576b\"], [0.6666666666666666, \"#ed7953\"], [0.7777777777777778, \"#fb9f3a\"], [0.8888888888888888, \"#fdca26\"], [1.0, \"#f0f921\"]], \"type\": \"heatmapgl\"}], \"histogram\": [{\"marker\": {\"colorbar\": {\"outlinewidth\": 0, \"ticks\": \"\"}}, \"type\": \"histogram\"}], \"histogram2d\": [{\"colorbar\": {\"outlinewidth\": 0, \"ticks\": \"\"}, \"colorscale\": [[0.0, \"#0d0887\"], [0.1111111111111111, \"#46039f\"], [0.2222222222222222, \"#7201a8\"], [0.3333333333333333, \"#9c179e\"], [0.4444444444444444, \"#bd3786\"], [0.5555555555555556, \"#d8576b\"], [0.6666666666666666, \"#ed7953\"], [0.7777777777777778, \"#fb9f3a\"], [0.8888888888888888, \"#fdca26\"], [1.0, \"#f0f921\"]], \"type\": \"histogram2d\"}], \"histogram2dcontour\": [{\"colorbar\": {\"outlinewidth\": 0, \"ticks\": \"\"}, \"colorscale\": [[0.0, \"#0d0887\"], [0.1111111111111111, \"#46039f\"], [0.2222222222222222, \"#7201a8\"], [0.3333333333333333, \"#9c179e\"], [0.4444444444444444, \"#bd3786\"], [0.5555555555555556, \"#d8576b\"], [0.6666666666666666, \"#ed7953\"], [0.7777777777777778, \"#fb9f3a\"], [0.8888888888888888, \"#fdca26\"], [1.0, \"#f0f921\"]], \"type\": \"histogram2dcontour\"}], \"mesh3d\": [{\"colorbar\": {\"outlinewidth\": 0, \"ticks\": \"\"}, \"type\": \"mesh3d\"}], \"parcoords\": [{\"line\": {\"colorbar\": {\"outlinewidth\": 0, \"ticks\": \"\"}}, \"type\": \"parcoords\"}], \"pie\": [{\"automargin\": true, \"type\": \"pie\"}], \"scatter\": [{\"marker\": {\"colorbar\": {\"outlinewidth\": 0, \"ticks\": \"\"}}, \"type\": \"scatter\"}], \"scatter3d\": [{\"line\": {\"colorbar\": {\"outlinewidth\": 0, \"ticks\": \"\"}}, \"marker\": {\"colorbar\": {\"outlinewidth\": 0, \"ticks\": \"\"}}, \"type\": \"scatter3d\"}], \"scattercarpet\": [{\"marker\": {\"colorbar\": {\"outlinewidth\": 0, \"ticks\": \"\"}}, \"type\": \"scattercarpet\"}], \"scattergeo\": [{\"marker\": {\"colorbar\": {\"outlinewidth\": 0, \"ticks\": \"\"}}, \"type\": \"scattergeo\"}], \"scattergl\": [{\"marker\": {\"colorbar\": {\"outlinewidth\": 0, \"ticks\": \"\"}}, \"type\": \"scattergl\"}], \"scattermapbox\": [{\"marker\": {\"colorbar\": {\"outlinewidth\": 0, \"ticks\": \"\"}}, \"type\": \"scattermapbox\"}], \"scatterpolar\": [{\"marker\": {\"colorbar\": {\"outlinewidth\": 0, \"ticks\": \"\"}}, \"type\": \"scatterpolar\"}], \"scatterpolargl\": [{\"marker\": {\"colorbar\": {\"outlinewidth\": 0, \"ticks\": \"\"}}, \"type\": \"scatterpolargl\"}], \"scatterternary\": [{\"marker\": {\"colorbar\": {\"outlinewidth\": 0, \"ticks\": \"\"}}, \"type\": \"scatterternary\"}], \"surface\": [{\"colorbar\": {\"outlinewidth\": 0, \"ticks\": \"\"}, \"colorscale\": [[0.0, \"#0d0887\"], [0.1111111111111111, \"#46039f\"], [0.2222222222222222, \"#7201a8\"], [0.3333333333333333, \"#9c179e\"], [0.4444444444444444, \"#bd3786\"], [0.5555555555555556, \"#d8576b\"], [0.6666666666666666, \"#ed7953\"], [0.7777777777777778, \"#fb9f3a\"], [0.8888888888888888, \"#fdca26\"], [1.0, \"#f0f921\"]], \"type\": \"surface\"}], \"table\": [{\"cells\": {\"fill\": {\"color\": \"#EBF0F8\"}, \"line\": {\"color\": \"white\"}}, \"header\": {\"fill\": {\"color\": \"#C8D4E3\"}, \"line\": {\"color\": \"white\"}}, \"type\": \"table\"}]}, \"layout\": {\"annotationdefaults\": {\"arrowcolor\": \"#2a3f5f\", \"arrowhead\": 0, \"arrowwidth\": 1}, \"coloraxis\": {\"colorbar\": {\"outlinewidth\": 0, \"ticks\": \"\"}}, \"colorscale\": {\"diverging\": [[0, \"#8e0152\"], [0.1, \"#c51b7d\"], [0.2, \"#de77ae\"], [0.3, \"#f1b6da\"], [0.4, \"#fde0ef\"], [0.5, \"#f7f7f7\"], [0.6, \"#e6f5d0\"], [0.7, \"#b8e186\"], [0.8, \"#7fbc41\"], [0.9, \"#4d9221\"], [1, \"#276419\"]], \"sequential\": [[0.0, \"#0d0887\"], [0.1111111111111111, \"#46039f\"], [0.2222222222222222, \"#7201a8\"], [0.3333333333333333, \"#9c179e\"], [0.4444444444444444, \"#bd3786\"], [0.5555555555555556, \"#d8576b\"], [0.6666666666666666, \"#ed7953\"], [0.7777777777777778, \"#fb9f3a\"], [0.8888888888888888, \"#fdca26\"], [1.0, \"#f0f921\"]], \"sequentialminus\": [[0.0, \"#0d0887\"], [0.1111111111111111, \"#46039f\"], [0.2222222222222222, \"#7201a8\"], [0.3333333333333333, \"#9c179e\"], [0.4444444444444444, \"#bd3786\"], [0.5555555555555556, \"#d8576b\"], [0.6666666666666666, \"#ed7953\"], [0.7777777777777778, \"#fb9f3a\"], [0.8888888888888888, \"#fdca26\"], [1.0, \"#f0f921\"]]}, \"colorway\": [\"#636efa\", \"#EF553B\", \"#00cc96\", \"#ab63fa\", \"#FFA15A\", \"#19d3f3\", \"#FF6692\", \"#B6E880\", \"#FF97FF\", \"#FECB52\"], \"font\": {\"color\": \"#2a3f5f\"}, \"geo\": {\"bgcolor\": \"white\", \"lakecolor\": \"white\", \"landcolor\": \"#E5ECF6\", \"showlakes\": true, \"showland\": true, \"subunitcolor\": \"white\"}, \"hoverlabel\": {\"align\": \"left\"}, \"hovermode\": \"closest\", \"mapbox\": {\"style\": \"light\"}, \"paper_bgcolor\": \"white\", \"plot_bgcolor\": \"#E5ECF6\", \"polar\": {\"angularaxis\": {\"gridcolor\": \"white\", \"linecolor\": \"white\", \"ticks\": \"\"}, \"bgcolor\": \"#E5ECF6\", \"radialaxis\": {\"gridcolor\": \"white\", \"linecolor\": \"white\", \"ticks\": \"\"}}, \"scene\": {\"xaxis\": {\"backgroundcolor\": \"#E5ECF6\", \"gridcolor\": \"white\", \"gridwidth\": 2, \"linecolor\": \"white\", \"showbackground\": true, \"ticks\": \"\", \"zerolinecolor\": \"white\"}, \"yaxis\": {\"backgroundcolor\": \"#E5ECF6\", \"gridcolor\": \"white\", \"gridwidth\": 2, \"linecolor\": \"white\", \"showbackground\": true, \"ticks\": \"\", \"zerolinecolor\": \"white\"}, \"zaxis\": {\"backgroundcolor\": \"#E5ECF6\", \"gridcolor\": \"white\", \"gridwidth\": 2, \"linecolor\": \"white\", \"showbackground\": true, \"ticks\": \"\", \"zerolinecolor\": \"white\"}}, \"shapedefaults\": {\"line\": {\"color\": \"#2a3f5f\"}}, \"ternary\": {\"aaxis\": {\"gridcolor\": \"white\", \"linecolor\": \"white\", \"ticks\": \"\"}, \"baxis\": {\"gridcolor\": \"white\", \"linecolor\": \"white\", \"ticks\": \"\"}, \"bgcolor\": \"#E5ECF6\", \"caxis\": {\"gridcolor\": \"white\", \"linecolor\": \"white\", \"ticks\": \"\"}}, \"title\": {\"x\": 0.05}, \"xaxis\": {\"automargin\": true, \"gridcolor\": \"white\", \"linecolor\": \"white\", \"ticks\": \"\", \"title\": {\"standoff\": 15}, \"zerolinecolor\": \"white\", \"zerolinewidth\": 2}, \"yaxis\": {\"automargin\": true, \"gridcolor\": \"white\", \"linecolor\": \"white\", \"ticks\": \"\", \"title\": {\"standoff\": 15}, \"zerolinecolor\": \"white\", \"zerolinewidth\": 2}}}},\n",
       "                        {\"responsive\": true}\n",
       "                    ).then(function(){\n",
       "                            \n",
       "var gd = document.getElementById('211a052c-8e93-4b1e-b2f4-344eba845e9e');\n",
       "var x = new MutationObserver(function (mutations, observer) {{\n",
       "        var display = window.getComputedStyle(gd).display;\n",
       "        if (!display || display === 'none') {{\n",
       "            console.log([gd, 'removed!']);\n",
       "            Plotly.purge(gd);\n",
       "            observer.disconnect();\n",
       "        }}\n",
       "}});\n",
       "\n",
       "// Listen for the removal of the full notebook cells\n",
       "var notebookContainer = gd.closest('#notebook-container');\n",
       "if (notebookContainer) {{\n",
       "    x.observe(notebookContainer, {childList: true});\n",
       "}}\n",
       "\n",
       "// Listen for the clearing of the current output cell\n",
       "var outputEl = gd.closest('.output');\n",
       "if (outputEl) {{\n",
       "    x.observe(outputEl, {childList: true});\n",
       "}}\n",
       "\n",
       "                        })\n",
       "                };\n",
       "                \n",
       "            </script>\n",
       "        </div>\n",
       "</body>\n",
       "</html>"
      ]
     },
     "metadata": {
      "tags": []
     },
     "output_type": "display_data"
    }
   ],
   "source": [
    "fig = px.scatter_geo(roya, lat=\"DECLATITUDE\", lon=\"DECLONGITUDE\", color=\"ROYA_CAMPO_AVERAGE_DSR\")\n",
    "fig.show()"
   ]
  },
  {
   "cell_type": "code",
   "execution_count": null,
   "metadata": {
    "id": "Y6BkjVqxZE2P"
   },
   "outputs": [],
   "source": [
    "df = roya.drop(roya.columns[[0, 12, 13, 14, 15]], axis=1)"
   ]
  },
  {
   "cell_type": "markdown",
   "metadata": {
    "id": "B-uYlqD7dUae"
   },
   "source": [
    "## MODELS"
   ]
  },
  {
   "cell_type": "code",
   "execution_count": null,
   "metadata": {
    "colab": {
     "base_uri": "https://localhost:8080/",
     "height": 316
    },
    "executionInfo": {
     "elapsed": 134067,
     "status": "ok",
     "timestamp": 1625146167907,
     "user": {
      "displayName": "Icíar Civantos Gómez",
      "photoUrl": "",
      "userId": "06033810409542157400"
     },
     "user_tz": -120
    },
    "id": "IZVr7iiw5Ggi",
    "outputId": "d6c4702a-c61c-4174-d21a-072f7f544dc6"
   },
   "outputs": [
    {
     "data": {
      "image/png": "[encoded data removed]",
      "text/plain": [
       "<Figure size 432x288 with 1 Axes>"
      ]
     },
     "metadata": {
      "needs_background": "light",
      "tags": []
     },
     "output_type": "display_data"
    },
    {
     "name": "stdout",
     "output_type": "stream",
     "text": [
      "RF RMSE mean 21.206672799284732\n",
      "XGB RMSE mean 22.00651623459693\n",
      "Ridge RMSE mean 20.54118672908123\n"
     ]
    }
   ],
   "source": [
    "error_values_rf = []\n",
    "error_values_xgb = []\n",
    "error_values_ridge = []\n",
    "\n",
    "importances_rf = {}\n",
    "importances_xgb = {}\n",
    "importances_ridge = {}\n",
    "\n",
    "for col in list(df):\n",
    "    if col!= 'ROYA_CAMPO_AVERAGE_DSR':\n",
    "        importances_rf[col] = []\n",
    "        importances_xgb[col] = []\n",
    "        importances_ridge[col] = []\n",
    "\n",
    "nexper = 100\n",
    "for i in range(0, nexper):\n",
    "\n",
    "    variables_to_ignore = ['ROYA_CAMPO_AVERAGE_DSR','DECLONGITUDE','DECLATITUDE']\n",
    "    selected_features = [element for element in list(df) if element not in variables_to_ignore]\n",
    "    \n",
    "    df_model = df[selected_features]\n",
    "    \n",
    "    std_scaler = StandardScaler()\n",
    "    \n",
    "    std_scaler_model = std_scaler.fit(df_model)\n",
    "    df_model = std_scaler_model.transform(df_model)\n",
    "    \n",
    "    \n",
    "    \"Division Train Test\"\n",
    "    \n",
    "    X = pd.DataFrame(data = df_model, columns = selected_features)\n",
    "    y = df.ROYA_CAMPO_AVERAGE_DSR\n",
    "\n",
    "    X_train, X_test, y_train, y_test = train_test_split(X, y, train_size= 0.7)\n",
    "\n",
    "\n",
    "    \"Random Forest\"\n",
    "\n",
    "    rf = RandomForestRegressor(random_state= 123, n_jobs = -1)\n",
    "    \n",
    "    rf.fit(X_train,y_train)\n",
    "    predictions_rf = rf.predict(X_test)\n",
    "\n",
    "    rmse_rf = np.sqrt(mean_squared_error(y_test, predictions_rf))\n",
    "\n",
    "    for k in range(0, len(selected_features)):\n",
    "        importances_rf[selected_features[k]].append(rf.feature_importances_[k])\n",
    "    \n",
    "    error_values_rf.append(rmse_rf)\n",
    "\n",
    "    \"XGBoost\"\n",
    "\n",
    "    xgb = xgboost.XGBRegressor(verbosity = 0)\n",
    "    xgb.fit(X_train,y_train)\n",
    "    \n",
    "    predictions_xgb = xgb.predict(X_test)\n",
    "    rmse_xgb = np.sqrt(mean_squared_error(y_test, predictions_xgb))\n",
    "\n",
    "    for k in range(0, len(selected_features)):\n",
    "        importances_xgb[selected_features[k]].append(xgb.feature_importances_[k])\n",
    "\n",
    "    error_values_xgb.append(rmse_xgb)\n",
    "\n",
    "    \"Ridge\"\n",
    "\n",
    "    clf = RidgeCV(alphas=np.linspace(0.001, 1, 1000)).fit(X, y)\n",
    "    clf.fit(X_train, y_train)\n",
    "\n",
    "    predictions_ridge = clf.predict(X_test)\n",
    "\n",
    "    rmse_ridge = np.sqrt(mean_squared_error(y_test, predictions_ridge))\n",
    "\n",
    "    for k in range(0, len(selected_features)):\n",
    "        importances_ridge[selected_features[k]].append(clf.coef_[k])\n",
    "\n",
    "    error_values_ridge.append(rmse_ridge)\n",
    "\n",
    "def to_str(var):\n",
    "    return str(list(np.reshape(np.asarray(var), (1, np.size(var)))[0]))[1:-1]\n",
    "\n",
    "arr = [error_values_rf, error_values_ridge, error_values_xgb]\n",
    "box = plt.boxplot(arr,labels=['RF','Ridge','XGB'])\n",
    "plt.show()\n",
    "\n",
    "print(\"RF RMSE mean\",np.mean(error_values_rf))\n",
    "print(\"XGB RMSE mean\",np.mean(error_values_xgb))\n",
    "print(\"Ridge RMSE mean\",np.mean(error_values_ridge))"
   ]
  },
  {
   "cell_type": "code",
   "execution_count": null,
   "metadata": {
    "colab": {
     "base_uri": "https://localhost:8080/"
    },
    "executionInfo": {
     "elapsed": 43158,
     "status": "ok",
     "timestamp": 1625146480820,
     "user": {
      "displayName": "Icíar Civantos Gómez",
      "photoUrl": "",
      "userId": "06033810409542157400"
     },
     "user_tz": -120
    },
    "id": "f2qiM1v7EE8A",
    "outputId": "289cd76b-2b43-4035-ecdb-7d1d9fc67f65"
   },
   "outputs": [
    {
     "name": "stdout",
     "output_type": "stream",
     "text": [
      "Mounted at /drive\n"
     ]
    }
   ],
   "source": [
    "from google.colab import  drive\n",
    "drive.mount('/drive')"
   ]
  },
  {
   "cell_type": "code",
   "execution_count": null,
   "metadata": {
    "id": "YjrBovT8DhJk"
   },
   "outputs": [],
   "source": [
    "pd.DataFrame(error_values_rf).to_excel(\"/drive/My Drive/Doctorado/Lenteja/results/error_values_rf.xlsx\")\n",
    "pd.DataFrame(error_values_xgb).to_excel(\"/drive/My Drive/Doctorado/Lenteja/results/error_values_xgb.xlsx\") \n",
    "pd.DataFrame(error_values_ridge).to_excel(\"/drive/My Drive/Doctorado/Lenteja/results/error_values_ridge.xlsx\") "
   ]
  },
  {
   "cell_type": "markdown",
   "metadata": {
    "id": "0xmvE2jN6R-w"
   },
   "source": [
    "## FEATURE IMPORTANCE"
   ]
  },
  {
   "cell_type": "code",
   "execution_count": null,
   "metadata": {
    "id": "xnIEYrQp0az5"
   },
   "outputs": [],
   "source": [
    "importances_rf_avg = {}\n",
    "importances_xgb_avg = {}\n",
    "importances_ridge_avg = {}\n",
    "\n",
    "for k,v in importances_rf.items():\n",
    "    if k != 'DECLATITUDE' and k != 'DECLONGITUDE':\n",
    "        importances_rf_avg[str(k)] = np.mean(v)\n",
    "for k,v in importances_xgb.items():\n",
    "    if k != 'DECLATITUDE' and k != 'DECLONGITUDE':\n",
    "        importances_xgb_avg[str(k)] = np.mean(v)\n",
    "for k,v in importances_ridge.items():\n",
    "    if k != 'DECLATITUDE' and k != 'DECLONGITUDE':\n",
    "        v_abs = [np.abs(val) for val in v]\n",
    "        importances_ridge_avg[str(k)] = np.mean(v_abs)"
   ]
  },
  {
   "cell_type": "code",
   "execution_count": null,
   "metadata": {
    "colab": {
     "base_uri": "https://localhost:8080/"
    },
    "executionInfo": {
     "elapsed": 3,
     "status": "ok",
     "timestamp": 1625146673226,
     "user": {
      "displayName": "Icíar Civantos Gómez",
      "photoUrl": "",
      "userId": "06033810409542157400"
     },
     "user_tz": -120
    },
    "id": "lU7FNqKGpuC6",
    "outputId": "dafc32a7-cd15-4305-eb0a-049e68784a5c"
   },
   "outputs": [
    {
     "data": {
      "text/plain": [
       "{'bio_1': 0.09702695262734223,\n",
       " 'long': 0.3188961544732382,\n",
       " 'srad_12': 0.07181658903878366,\n",
       " 'srad_annual': 0.09342198425520122,\n",
       " 't_bulk_dens': 0.1297704453192889,\n",
       " 't_sand': 0.08070340549453675,\n",
       " 't_soilwater_cap': 0.11854772884794881,\n",
       " 't_teb': 0.08981673994366018}"
      ]
     },
     "execution_count": 22,
     "metadata": {
      "tags": []
     },
     "output_type": "execute_result"
    }
   ],
   "source": [
    "importances_rf_avg"
   ]
  },
  {
   "cell_type": "code",
   "execution_count": null,
   "metadata": {
    "colab": {
     "base_uri": "https://localhost:8080/"
    },
    "executionInfo": {
     "elapsed": 5,
     "status": "ok",
     "timestamp": 1625146674665,
     "user": {
      "displayName": "Icíar Civantos Gómez",
      "photoUrl": "",
      "userId": "06033810409542157400"
     },
     "user_tz": -120
    },
    "id": "DB3hrPIgrJrK",
    "outputId": "bbdc61d7-934d-4252-ff28-ec9b6f73d504"
   },
   "outputs": [
    {
     "data": {
      "text/plain": [
       "{'bio_1': 0.07440437,\n",
       " 'long': 0.3609442,\n",
       " 'srad_12': 0.083823584,\n",
       " 'srad_annual': 0.095673285,\n",
       " 't_bulk_dens': 0.09611866,\n",
       " 't_sand': 0.08696062,\n",
       " 't_soilwater_cap': 0.09291742,\n",
       " 't_teb': 0.10915787}"
      ]
     },
     "execution_count": 23,
     "metadata": {
      "tags": []
     },
     "output_type": "execute_result"
    }
   ],
   "source": [
    "importances_xgb_avg"
   ]
  },
  {
   "cell_type": "code",
   "execution_count": null,
   "metadata": {
    "colab": {
     "base_uri": "https://localhost:8080/"
    },
    "executionInfo": {
     "elapsed": 2,
     "status": "ok",
     "timestamp": 1625146676311,
     "user": {
      "displayName": "Icíar Civantos Gómez",
      "photoUrl": "",
      "userId": "06033810409542157400"
     },
     "user_tz": -120
    },
    "id": "x3TN69n4rK0K",
    "outputId": "505a8da0-9f94-44ef-aae5-9a35f4b94eac"
   },
   "outputs": [
    {
     "data": {
      "text/plain": [
       "{'bio_1': 2.032247904357184,\n",
       " 'long': 7.043745063519616,\n",
       " 'srad_12': 2.3730777425123613,\n",
       " 'srad_annual': 4.519060807671932,\n",
       " 't_bulk_dens': 1.862546732611865,\n",
       " 't_sand': 2.9215093198972966,\n",
       " 't_soilwater_cap': 5.161317678427785,\n",
       " 't_teb': 1.666032746614979}"
      ]
     },
     "execution_count": 24,
     "metadata": {
      "tags": []
     },
     "output_type": "execute_result"
    }
   ],
   "source": [
    "importances_ridge_avg"
   ]
  },
  {
   "cell_type": "code",
   "execution_count": null,
   "metadata": {
    "id": "AWq6_u1zGVUX"
   },
   "outputs": [],
   "source": [
    "importances_rf_avg = pd.DataFrame(data=importances_rf_avg, index=[0])\n",
    "importances_rf_avg = (importances_rf_avg.T)\n",
    "\n",
    "importances_xgb_avg = pd.DataFrame(data=importances_xgb_avg, index=[0])\n",
    "importances_xgb_avg = (importances_xgb_avg.T)\n",
    "\n",
    "importances_ridge_avg = pd.DataFrame(data=importances_rf_avg, index=[0])\n",
    "importances_ridge_avg = (importances_rf_avg.T)"
   ]
  },
  {
   "cell_type": "code",
   "execution_count": null,
   "metadata": {
    "id": "0EAIWEj4FAy_"
   },
   "outputs": [],
   "source": [
    "pd.DataFrame.from_dict(importances_rf_avg).to_excel(\"/drive/My Drive/Doctorado/Lenteja/results/importances_rf_avg.xlsx\")\n",
    "pd.DataFrame.from_dict(importances_xgb_avg).to_excel(\"/drive/My Drive/Doctorado/Lenteja/results/importances_xgb_avg.xlsx\") \n",
    "pd.DataFrame.from_dict(importances_ridge_avg).to_excel(\"/drive/My Drive/Doctorado/Lenteja/results/importances_ridge_avg.xlsx\") "
   ]
  },
  {
   "cell_type": "markdown",
   "metadata": {
    "id": "v4x8MvMz6lik"
   },
   "source": [
    "## RIDGE REGRESSION"
   ]
  },
  {
   "cell_type": "code",
   "execution_count": null,
   "metadata": {
    "id": "QEonrzWy65l7"
   },
   "outputs": [],
   "source": [
    "variables_to_ignore = ['ROYA_CAMPO_AVERAGE_DSR','DECLONGITUDE','DECLATITUDE']\n",
    "selected_features = [element for element in list(df) if element not in variables_to_ignore]\n",
    "\n",
    "df_model = df[selected_features]\n",
    "\n",
    "std_scaler = StandardScaler()\n",
    "\n",
    "std_scaler_model = std_scaler.fit(df_model)\n",
    "df_model = std_scaler_model.transform(df_model)\n",
    "\n",
    "\n",
    "\"Division Train Test\"\n",
    "\n",
    "X = pd.DataFrame(data = df_model, columns = selected_features)\n",
    "y = df.ROYA_CAMPO_AVERAGE_DSR\n",
    "\n",
    "X_train, X_test, y_train, y_test = train_test_split(X, y, train_size= 0.7)\n",
    "\n",
    "clf = RidgeCV(alphas=np.linspace(0.001, 1, 1000)).fit(X, y)\n",
    "clf.fit(X_train, y_train)\n",
    "\n",
    "predictions_train = clf.predict(X_train)\n",
    "\n",
    "predictions_test = clf.predict(X_test)"
   ]
  },
  {
   "cell_type": "code",
   "execution_count": null,
   "metadata": {
    "id": "TtfBD04R-J4I"
   },
   "outputs": [],
   "source": [
    "X_train['DECLONGITUDE'] =df['DECLONGITUDE']\n",
    "X_train['DECLATITUDE'] =df['DECLATITUDE']\n",
    "\n",
    "X_test['DECLONGITUDE'] =df['DECLONGITUDE']\n",
    "X_test['DECLATITUDE'] =df['DECLATITUDE']"
   ]
  },
  {
   "cell_type": "code",
   "execution_count": null,
   "metadata": {
    "id": "5JTE9bXO7WFn"
   },
   "outputs": [],
   "source": [
    "train_values = X_train.reset_index()\n",
    "train_values['predictions'] = pd.Series(predictions_train)\n",
    "\n",
    "test_values = X_train.reset_index()\n",
    "test_values['predictions'] = pd.Series(predictions_test)\n"
   ]
  },
  {
   "cell_type": "code",
   "execution_count": null,
   "metadata": {
    "id": "t8XuU-hGHKqa"
   },
   "outputs": [],
   "source": [
    "train_values.to_excel(\"/drive/My Drive/Doctorado/Lenteja/results/train_values.xlsx\")\n",
    "test_values.to_excel(\"/drive/My Drive/Doctorado/Lenteja/results/test_values.xlsx\")"
   ]
  },
  {
   "cell_type": "code",
   "execution_count": null,
   "metadata": {
    "id": "drpsCqCV-mGW"
   },
   "outputs": [],
   "source": [
    "plt.figure()\n",
    "\n",
    "scatter = plt.scatter(train_values['DECLATITUDE'],train_values['DECLONGITUDE'], c=train_values['predictions'], s = 48)\n",
    "scatter_test = plt.scatter(test_values['DECLATITUDE'],test_values['DECLONGITUDE'], c=test_values['predictions'], marker = '*')\n",
    "\n",
    "handles, labels = scatter.legend_elements(prop=\"colors\", alpha=0.6)\n",
    "legend2 = plt.legend(handles, labels)"
   ]
  },
  {
   "cell_type": "code",
   "execution_count": null,
   "metadata": {
    "id": "aUDnWmNqOHck"
   },
   "outputs": [],
   "source": [
    "fig = px.scatter_geo(train_values, lat=\"DECLATITUDE\", lon=\"DECLONGITUDE\", color=\"predictions\")\n",
    "fig.show()"
   ]
  },
  {
   "cell_type": "code",
   "execution_count": null,
   "metadata": {
    "id": "5B9XnUlSOaAt"
   },
   "outputs": [],
   "source": [
    "fig = px.scatter_geo(test_values.dropna(), lat=\"DECLATITUDE\", lon=\"DECLONGITUDE\", color=\"predictions\")\n",
    "fig.show()"
   ]
  },
  {
   "cell_type": "code",
   "execution_count": null,
   "metadata": {
    "id": "gGrVkl4tA1kQ"
   },
   "outputs": [],
   "source": [
    "plt.figure(figsize=(18, 16))\n",
    "plt.axis([10, 60, -125, 100])\n",
    "\n",
    "scatter = plt.scatter(train_values['DECLATITUDE'],train_values['DECLONGITUDE'], c=train_values['predictions'], s = 48)\n",
    "scatter_test = plt.scatter(test_values['DECLATITUDE'],test_values['DECLONGITUDE'], c=test_values['predictions'], marker = '*')\n",
    "\n",
    "handles, labels = scatter.legend_elements(prop=\"colors\", alpha=0.6)\n",
    "legend2 = plt.legend(handles, labels)"
   ]
  },
  {
   "cell_type": "markdown",
   "metadata": {
    "id": "uWp1Vphm66Ev"
   },
   "source": [
    "## NEW DATASET"
   ]
  },
  {
   "cell_type": "code",
   "execution_count": null,
   "metadata": {
    "id": "XpX3S_BTeVQo"
   },
   "outputs": [],
   "source": [
    "from google.colab import files \n",
    "uploaded = files.upload()"
   ]
  },
  {
   "cell_type": "code",
   "execution_count": null,
   "metadata": {
    "id": "A3emLucerL3J"
   },
   "outputs": [],
   "source": [
    "roya_test = pd.read_excel(\"SupplementaryTable3_RubioTeso_etal.xlsx\")\n",
    "roya_test = roya_test[['Latitude_decimal','Longitude_decimal','bio_1','srad_12', 'srad_annual', 't_bulk_dens', 't_sand', 't_soilwater_cap','t_teb', 'long']]\n",
    "roya_test.head()"
   ]
  },
  {
   "cell_type": "code",
   "execution_count": null,
   "metadata": {
    "id": "1Rk9fAxIeg58"
   },
   "outputs": [],
   "source": [
    "roya_test = roya_test.dropna()\n",
    "\n",
    "roya_test_pred = roya_test.drop(columns=['Latitude_decimal','Longitude_decimal'])\n",
    "roya_test_pred_scaled = std_scaler_model.transform(roya_test_pred)\n",
    "\n",
    "predictions_rf = rf.predict(roya_test_pred_scaled)"
   ]
  },
  {
   "cell_type": "code",
   "execution_count": null,
   "metadata": {
    "id": "u7r3SADzegK3"
   },
   "outputs": [],
   "source": [
    "predictions_xgb = xgb.predict(pd.DataFrame(roya_test_pred_scaled, columns=['bio_1', 'srad_12', 'srad_annual', 't_bulk_dens', 't_sand', 't_soilwater_cap', 't_teb', 'long']))"
   ]
  },
  {
   "cell_type": "code",
   "execution_count": null,
   "metadata": {
    "id": "_7u-6lwsgtsP"
   },
   "outputs": [],
   "source": [
    "predictions_ridge = clf.predict(roya_test_pred_scaled)"
   ]
  },
  {
   "cell_type": "code",
   "execution_count": null,
   "metadata": {
    "id": "-t06TN1TgyFB"
   },
   "outputs": [],
   "source": [
    "plt.figure(figsize=(18, 16))\n",
    "\n",
    "scatter = plt.scatter(roya_test['Latitude_decimal'],roya_test['Longitude_decimal'], c=predictions_ridge, s = 48)\n",
    "\n",
    "handles, labels = scatter.legend_elements(prop=\"colors\", alpha=0.6)\n",
    "legend2 = plt.legend(handles, labels)"
   ]
  },
  {
   "cell_type": "code",
   "execution_count": null,
   "metadata": {
    "id": "UODhxGn8P1Hp"
   },
   "outputs": [],
   "source": [
    "roya_test['predictions_ridge'] = predictions_ridge"
   ]
  },
  {
   "cell_type": "code",
   "execution_count": null,
   "metadata": {
    "id": "a-5VI066IqM7"
   },
   "outputs": [],
   "source": [
    "fig = px.scatter_geo(roya_test, lat=\"Latitude_decimal\", lon=\"Longitude_decimal\", color=\"predictions_ridge\")\n",
    "fig.show()"
   ]
  },
  {
   "cell_type": "markdown",
   "metadata": {
    "id": "LsNOY6gJlfvj"
   },
   "source": [
    "## RESULTADOS PROMEDIO PARA 1000 MODELOS\n",
    "\n",
    "Dataset original, entreno 1000 modelos. Me guardo los resultados y hago la media (conozco el índice)."
   ]
  },
  {
   "cell_type": "code",
   "execution_count": null,
   "metadata": {
    "id": "PjdW9s0UPyDq"
   },
   "outputs": [],
   "source": [
    "pred_values_ridge = np.array([])\n",
    "index_test = np.array([])\n",
    "\n",
    "nexper = 1000\n",
    "for i in range(0, nexper):\n",
    "\n",
    "    variables_to_ignore = ['ROYA_CAMPO_AVERAGE_DSR','DECLONGITUDE','DECLATITUDE']\n",
    "    selected_features = [element for element in list(df) if element not in variables_to_ignore]\n",
    "    \n",
    "    df_model = df[selected_features]\n",
    "    \n",
    "    std_scaler = StandardScaler()\n",
    "    \n",
    "    std_scaler_model = std_scaler.fit(df_model)\n",
    "    df_model = std_scaler_model.transform(df_model)\n",
    "    \n",
    "    \n",
    "    \"Division Train Test\"\n",
    "    \n",
    "    X = pd.DataFrame(data = df_model, columns = selected_features)\n",
    "    y = df.ROYA_CAMPO_AVERAGE_DSR\n",
    "\n",
    "    X_train, X_test, y_train, y_test = train_test_split(X, y, train_size= 0.7)\n",
    "    index_test = np.concatenate((index_test, X_test.index.values), axis=None)\n",
    "\n",
    "\n",
    "    \"Ridge\"\n",
    "\n",
    "    clf = RidgeCV(alphas=np.linspace(0.001, 1, 1000)).fit(X, y)\n",
    "    clf.fit(X_train, y_train)\n",
    "\n",
    "    predictions_ridge = clf.predict(X_test)\n",
    "\n",
    "    pred_values_ridge = np.concatenate((pred_values_ridge, predictions_ridge), axis=None)\n"
   ]
  },
  {
   "cell_type": "code",
   "execution_count": null,
   "metadata": {
    "id": "r8957JKKn9au"
   },
   "outputs": [],
   "source": [
    "results = pd.concat([pd.Series(index_test), pd.Series(pred_values_ridge)], axis = 1)\n",
    "results.columns = ['test_index', 'DSR_prediction']"
   ]
  },
  {
   "cell_type": "code",
   "execution_count": null,
   "metadata": {
    "id": "wroBKgZbobAM"
   },
   "outputs": [],
   "source": [
    "avg_results = results.groupby('test_index').median()"
   ]
  },
  {
   "cell_type": "code",
   "execution_count": null,
   "metadata": {
    "id": "eropMXJCpGSL"
   },
   "outputs": [],
   "source": [
    "lat_long_results = avg_results.join(roya, how='inner')"
   ]
  },
  {
   "cell_type": "code",
   "execution_count": null,
   "metadata": {
    "colab": {
     "base_uri": "https://localhost:8080/",
     "height": 542
    },
    "executionInfo": {
     "elapsed": 508,
     "status": "ok",
     "timestamp": 1623777824031,
     "user": {
      "displayName": "Icíar Civantos Gómez",
      "photoUrl": "",
      "userId": "06033810409542157400"
     },
     "user_tz": -120
    },
    "id": "8AfwY1qjprmz",
    "outputId": "c1d90552-4482-4768-e0fe-df422456b8ef"
   },
   "outputs": [
    {
     "data": {
      "text/html": [
       "<html>\n",
       "<head><meta charset=\"utf-8\" /></head>\n",
       "<body>\n",
       "    <div>\n",
       "            <script src=\"https://cdnjs.cloudflare.com/ajax/libs/mathjax/2.7.5/MathJax.js?config=TeX-AMS-MML_SVG\"></script><script type=\"text/javascript\">if (window.MathJax) {MathJax.Hub.Config({SVG: {font: \"STIX-Web\"}});}</script>\n",
       "                <script type=\"text/javascript\">window.PlotlyConfig = {MathJaxConfig: 'local'};</script>\n",
       "        <script src=\"https://cdn.plot.ly/plotly-latest.min.js\"></script>    \n",
       "            <div id=\"a2d752a3-08cf-4430-a089-6b22b356c1ad\" class=\"plotly-graph-div\" style=\"height:525px; width:100%;\"></div>\n",
       "            <script type=\"text/javascript\">\n",
       "                \n",
       "                    window.PLOTLYENV=window.PLOTLYENV || {};\n",
       "                    \n",
       "                if (document.getElementById(\"a2d752a3-08cf-4430-a089-6b22b356c1ad\")) {\n",
       "                    Plotly.newPlot(\n",
       "                        'a2d752a3-08cf-4430-a089-6b22b356c1ad',\n",
       "                        [{\"geo\": \"geo\", \"hoverlabel\": {\"namelength\": 0}, \"hovertemplate\": \"DECLATITUDE=%{lat}<br>DECLONGITUDE=%{lon}<br>DSR_prediction=%{marker.color}\", \"lat\": [43.91666667, 43.35694444, 36.33305556, 25.18333333, 32.33333333, 37.079643, 37.823196, 40.59194444, 41.54361111, 30.06666667, 28.98333333, 19.51666667, 36.3, 38.38333333, 41.81194444, 11.5, 42.33333333, -36.6, 35.28333333, 37.18277778, 37.17722222, 43.13472222, 42.0, 32.608304, 28.0, 39.53333333, 28.96027778, 40.10888889, 42.77416667, 36.39, 46.905304, 38.2494, 25.18333333, 44.08333333, 40.322625, 37.56666667, 39.46666667, 29.09666667, 34.6175, 29.145027000000002, 42.40944444, 42.17277778, 39.63333333, 40.58805556, 42.57166667, 37.08333333, 42.40694444, 39.77111111, -36.6, -28.63333333, 32.994619, 37.62, 42.89305556, 42.87638889, 40.98944444, 28.05, 28.39583333, 40.73611111, -37.88333333, 42.97333333, 40.19583333, 42.22166667, 42.82777778, 42.80833333, 42.29111111, 37.21666667, 42.29777778, 40.68333333, 42.90944444, 28.56666667, 39.61194444, 41.37472222, 48.33333333, 29.14527778, 40.75833333, 37.3225, 42.42555556, 42.09972222, 42.39027778, 41.40805556, 41.66666667, 48.02863, 31.75, 38.25194444, 42.98472222, 41.0775, 42.95277778, 42.33, 42.94305556, 41.94305556, 40.51916667, 32.608304, 28.96666667, 33.367793, 41.07472222, 39.82416667, 37.67083333, 40.86722222, 40.32361111, 41.06666667, 37.30611111, 41.98611111, 40.75138889, 37.57305556, 40.86444444, 33.544635, 39.28833333, 42.35083333, 38.07055556, 39.81805556, 40.735, 42.60027778, 40.21138889, 42.96944444, 39.72972222, 42.275, 38.11027778, 39.74194444, 40.91666667, 39.4, 31.13333333, 28.0, 49.98333333, 37.901623, 40.62083333, 43.00694444, 41.01972222, 42.88611111, 39.96138889, 42.33888889, 36.94611111, 40.90361111, 39.20833333, 40.64083333, 40.03888889, 39.33333333, 40.00861111, 39.62722222, 42.60861111, 39.26666667, 42.13388889, 38.96583333, 37.49194444, 28.52666667, 39.51444444, 40.74527778, -33.45, 14.56666667, 44.22361111, 39.36666667, 40.95388889, 39.35722222, 40.14277778, 42.95, 39.46972222, 42.46388889, 38.96333333, 43.00277778, 39.92333333, 40.82444444, 40.92638889, 39.56166667, 40.51166667, 41.065, 37.34388889, 40.10888889, 38.88527778, 39.06861111, 37.35194444, 40.93972222, 37.78694444, 39.525, 37.39583333, 42.57666667, 41.33166667, 38.70277778, 39.50027778, 38.63583333, 38.98805556, 39.96638889, 37.17722222, 39.33333333, 42.91666667, 39.13666667, 39.2725, 41.2325, 39.35333333, 17.46666667, 36.7, 38.99722222, 41.05, 40.1425, 40.745, 42.32166667, 38.61388889, 41.11527778, 40.86972222, 38.71111111, 40.54472222, 41.09361111, 38.97388889, 40.68833333, 41.53805556, 39.25666667, 37.13388889, 40.63333333, 39.26888889, 42.25416667, 42.07833333, 40.88416667, 42.77416667, 37.88, 38.62194444, 42.95138889, 41.65361111, 42.35694444, 40.16888889, 41.24305556, 43.15222222, 37.71944444, 42.21333333, 38.72222222, 40.94527778, 28.79722222, 38.75194444, 42.37222222, 39.76055556, 40.50305556, 40.46361111, 42.275, 33.76062, 38.217971999999996, 9.5833, 31.81666667, 37.44, 37.41666667, 41.82083333, 42.4925, 28.60944444, 39.72222222, 39.115, 40.29916667, 40.53166667, 37.76888889, 41.04388889, 42.295, 40.95027778, 40.71666667, 41.70083333, 42.53472222, 28.5325, 26.51694444, 35.18333333, 40.7, 39.32472222], \"legendgroup\": \"\", \"lon\": [5.13333333, 16.95027778, 33.41333333, 85.51666667, 74.35, 37.410987, 32.989336, 17.11527778, 22.54444444, 73.06666667, 77.7, -98.86666667, 30.15, 37.6, 21.99472222, 39.6, -5.36666667, -72.11666667, 47.18333333, -3.0625, -2.9472222219999997, -8.931666667, 47.0, 51.749865, 80.0, 67.88333333, -13.55138889, -3.3872222219999997, -5.943333332999999, 37.18, -117.08017099999999, 48.3014, 85.51666667, 7.6, 36.569123, 41.06666667, 67.73333333, -13.47, 71.97138889, 71.27512, -4.175555556, -0.005277778, 22.41666667, -1.789722222, -5.0597222219999995, -5.5, -4.902222222, 3.024444444, -72.11666667, -53.1, 35.224340000000005, 35.86, -5.7638888889999995, -4.1125, -6.865, 79.11666667, -14.08666667, -1.6177777780000002, -71.18333333, -4.923888889, -1.616111111, -4.8555555560000005, -4.9513888889999995, -5.584722222000001, -4.141944444, 30.3, -5.897777777999999, -2.916666667, -4.075833333, -13.83333333, -1.7947222219999999, -2.9083333330000003, -1.16666667, -13.49666667, -2.868888889, -3.330555556, -0.661388889, -5.033055556, -5.390277778, -4.403055556, 26.56666667, 0.33265500000000003, -8.25, -3.203888889, -6.023611111, -5.611944444, -5.544444444, -4.034166667, -5.722222222, -4.506388889, -2.879722222, 51.749865, -13.71666667, 35.874029, -5.566944444, -2.767222222, -4.236666667, -1.9358333330000002, -3.108333333, -1.3858333330000001, 29.77583333, -5.403055556, -1.8061111109999999, -3.503611111, -2.724722222, 68.4106, -1.47, -5.383888889, -3.3061111110000003, -2.949166667, -2.833888889, -5.5655555560000005, -3.190833333, -6.125, -2.9263888889999996, -5.058333333, -3.085, 39.4925, 32.08333333, 30.63333333, 35.64083333, 80.0, 16.95, 40.155321, -2.952777778, -5.683333332999999, -5.590277778, -5.454166667000001, -3.498333333, -5.368055556, -3.1794444439999996, -2.913055556, -2.158055556, -2.8413888889999996, -2.7375, -2.266666667, -3.9455555560000004, -1.9436111109999998, -4.795555556, -1.911666667, -5.089166667, -1.444166667, -2.773611111, -13.99055556, -2.489444444, -1.7352777780000002, -70.66666667, -90.73333333, 20.31166667, -1.7, -2.415277778, -1.715, -2.568888889, -5.983333332999999, -3.5325, -6.205555556, -2.125, -5.256944444, -3.007777778, -2.7811111110000004, -2.921111111, -1.908611111, -2.89, -5.524166667, -3.7855555560000003, -3.3872222219999997, -2.149722222, -3.610277778, -3.291944444, -2.7861111110000003, -5.27, -1.977222222, -2.61, 0.27638888899999997, -5.080277778, -2.602777778, -1.897222222, -1.9683333330000001, -4.114722222, -4.300555556, -2.9472222219999997, -1.716666667, -5.001388888999999, -1.675277778, -2.318333333, -5.494166667000001, -2.3247222219999997, -97.23333333, 67.1, -1.854444444, -2.1, -3.421111111, -3.0313888889999996, -5.0191666669999995, -2.0497222219999998, -5.572777778, -2.8425, -4.177777778, -2.9575, -5.5594444439999995, -3.3438888889999996, -2.8847222219999997, -5.386666667, -1.853055556, -3.82, -2.9, -2.605833333, -5.266666667, -3.912777778, -2.8175, -5.943333332999999, -1.708611111, -2.026388889, -6.0708333329999995, -4.721944444, -5.209166667, -3.271111111, -2.731111111, -4.916111111, -2.536388889, -5.204722222, -1.91, -2.725, -17.75861111, -1.9525, -5.031944444, -3.163055556, -2.942777778, -2.960277778, -5.433333332999999, 35.885183000000005, 37.203332, 41.8667, 35.03333333, 41.03, 41.38333333, -4.176388889, -4.603055556, -13.92638889, 2.913055556, -1.996666667, -2.98, -3.030833333, -3.956666667, -5.534166667, -5.518888888999999, -3.0875, -2.766666667, -4.84, -5.275, -13.93194444, 83.8, 59.38333333, 36.61666667, -2.269166667], \"marker\": {\"color\": [49.0387705026243, 38.63509773364834, 50.522819522763356, 34.48607142085163, 41.63222581552151, 47.40520993486244, 48.87375400851336, 42.25007331516451, 43.3419846069274, 54.26490864222935, 42.091911534342316, 84.56105656933643, 48.127347677921215, 42.71051376871, 45.10716016402821, 21.278841523934094, 66.0791345433071, 49.75185667805627, 41.84575393044712, 58.891345282035516, 56.5296548141811, 49.06183359098696, 42.57638572217034, 53.1067689819627, 33.01901328583777, 37.514199736096586, 52.410720697351614, 57.80998563750828, 55.50298528576006, 40.7968062190741, 82.57240992129039, 41.74400493957516, 29.763663164041155, 49.028728837902484, 42.905809348362645, 46.104253248873874, 38.44005562780559, 42.796735499669225, 37.9712779039197, 45.52301772611757, 60.193447381532835, 54.27752774130169, 48.5512653850618, 56.60151875999626, 60.04732254326793, 56.40424063540283, 57.84846943862737, 48.32770928187129, 40.581686921515455, 43.21089267959353, 49.3716104515799, 46.82493686251145, 48.68255827615237, 49.64676742341581, 64.29255113059261, 35.57117650347699, 56.53930888099396, 57.80874294341713, 34.282745829438504, 50.70700588883843, 57.23801699347045, 62.7380360094672, 53.32655536169099, 53.97829854179709, 60.094110602818525, 50.543942925491976, 68.16841387232881, 59.257924291918854, 48.28197391257874, 54.78816581306273, 58.519382830444115, 61.35579224994473, 47.33294561229585, 44.88956659485768, 62.19497123742323, 59.54845763751174, 54.18215222362569, 66.05028919153253, 64.44607758257969, 65.56682274181888, 37.573957566404545, 51.01385276332515, 63.631259388598615, 58.03064335192433, 47.039392775227114, 66.25283634883738, 49.28808101490958, 55.10509155196129, 48.95597730951697, 62.86319230595738, 58.6522862803179, 51.3783088525808, 40.53214482053778, 45.59729818123558, 62.45778851639979, 59.840655395271384, 52.967174324985095, 60.569877944257925, 60.72538476871581, 62.33940664981773, 49.17059415401239, 66.96748487837692, 58.378940593033676, 58.83269105151312, 60.88692423859493, 47.895974327539726, 64.22517552545347, 65.08175560575037, 58.99545074470552, 62.39690144868161, 61.387394385275755, 61.794508992275595, 57.90410942310432, 47.564029703035516, 59.8429494776897, 64.84456294132289, 59.351873795673576, 45.129684032874465, 41.63868829053907, 48.99996169974402, 50.85191842630148, 30.528650934217268, 42.20679682736744, 23.876208286194945, 61.8265036463188, 43.07167669069905, 63.21973460069556, 51.066806310991936, 59.084845355582786, 59.73328635768029, 57.74203332021348, 59.87641930377885, 63.40348450356221, 60.33685186031857, 61.55849079161138, 63.67234612670697, 54.00225276330916, 58.26680719226516, 59.85757701217704, 67.35964692465251, 66.06955510199643, 56.7341276878026, 60.810174589366824, 52.51606792245317, 58.68773915582115, 59.0763360919769, 48.40741765986248, 62.83163451001072, 36.289655595813294, 66.74641480155034, 58.68174588875954, 62.15090333342704, 58.517574905178066, 48.863774432300836, 64.80996939849712, 60.1609819470069, 62.78849482392753, 47.12310620591967, 61.82562916516781, 59.67343708665909, 62.20972817152011, 58.89286570117877, 58.41245252704467, 63.703465312625845, 57.80570809370935, 57.52298666894873, 61.627385613989425, 64.40373148853135, 57.9096135137375, 62.8751569252441, 57.05432417975666, 60.57033954397277, 61.61112586497371, 49.66933493034541, 59.92390344457841, 59.18745560664699, 62.35134307912053, 62.35489838708669, 59.810977395691545, 62.33188340352244, 56.1901816291593, 64.64015107420342, 49.599173756340434, 65.69281082377444, 63.96420756369807, 69.64024123345129, 63.661727489643525, 57.04134483183756, 40.48231898356815, 62.825968710253214, 56.10219321903056, 58.24770918362175, 56.761073242154815, 63.8391392698588, 56.48640544674496, 63.370778302204805, 61.756103756350456, 57.78355945308971, 59.96447624673979, 63.20323124913208, 64.54647013338594, 60.396906378764015, 61.50424703889418, 67.2443659725058, 60.43292822291907, 60.54918726373296, 63.91970565763156, 60.367179112968216, 60.16750294236266, 61.29365907165829, 54.55069648026991, 60.06867871784547, 61.118776277930436, 47.3093507707797, 55.30056946508521, 61.024204992698756, 58.23107305237862, 58.94563386804256, 44.68878000138119, 61.743792056824525, 63.484695608259, 61.593211567582614, 60.07630497108002, 42.12457463337812, 60.13085591916952, 63.20790959865296, 62.820710708490566, 59.43778021921371, 59.37538138052357, 66.02136029868461, 33.16741741299768, 51.216500280949674, 37.78234098580144, 50.861816728526875, 40.805202047014276, 38.963207194995135, 62.36188978967221, 54.5069028186845, 56.345220262619605, 47.139349860857806, 63.3155181420675, 59.09971260459495, 59.62481253418376, 53.971912788483046, 63.35986966970261, 63.422388304533996, 58.66846348622735, 60.28202462546744, 59.86909827937555, 60.894328519458526, 52.49505330683554, 26.629766921816646, 51.64127920223983, 39.95851277284636, 63.26962175113771], \"coloraxis\": \"coloraxis\"}, \"name\": \"\", \"showlegend\": false, \"type\": \"scattergeo\"}],\n",
       "                        {\"coloraxis\": {\"colorbar\": {\"title\": {\"text\": \"DSR_prediction\"}}, \"colorscale\": [[0.0, \"#0d0887\"], [0.1111111111111111, \"#46039f\"], [0.2222222222222222, \"#7201a8\"], [0.3333333333333333, \"#9c179e\"], [0.4444444444444444, \"#bd3786\"], [0.5555555555555556, \"#d8576b\"], [0.6666666666666666, \"#ed7953\"], [0.7777777777777778, \"#fb9f3a\"], [0.8888888888888888, \"#fdca26\"], [1.0, \"#f0f921\"]]}, \"geo\": {\"center\": {}, \"domain\": {\"x\": [0.0, 1.0], \"y\": [0.0, 1.0]}}, \"legend\": {\"tracegroupgap\": 0}, \"margin\": {\"t\": 60}, \"template\": {\"data\": {\"bar\": [{\"error_x\": {\"color\": \"#2a3f5f\"}, \"error_y\": {\"color\": \"#2a3f5f\"}, \"marker\": {\"line\": {\"color\": \"#E5ECF6\", \"width\": 0.5}}, \"type\": \"bar\"}], \"barpolar\": [{\"marker\": {\"line\": {\"color\": \"#E5ECF6\", \"width\": 0.5}}, \"type\": \"barpolar\"}], \"carpet\": [{\"aaxis\": {\"endlinecolor\": \"#2a3f5f\", \"gridcolor\": \"white\", \"linecolor\": \"white\", \"minorgridcolor\": \"white\", \"startlinecolor\": \"#2a3f5f\"}, \"baxis\": {\"endlinecolor\": \"#2a3f5f\", \"gridcolor\": \"white\", \"linecolor\": \"white\", \"minorgridcolor\": \"white\", \"startlinecolor\": \"#2a3f5f\"}, \"type\": \"carpet\"}], \"choropleth\": [{\"colorbar\": {\"outlinewidth\": 0, \"ticks\": \"\"}, \"type\": \"choropleth\"}], \"contour\": [{\"colorbar\": {\"outlinewidth\": 0, \"ticks\": \"\"}, \"colorscale\": [[0.0, \"#0d0887\"], [0.1111111111111111, \"#46039f\"], [0.2222222222222222, \"#7201a8\"], [0.3333333333333333, \"#9c179e\"], [0.4444444444444444, \"#bd3786\"], [0.5555555555555556, \"#d8576b\"], [0.6666666666666666, \"#ed7953\"], [0.7777777777777778, \"#fb9f3a\"], [0.8888888888888888, \"#fdca26\"], [1.0, \"#f0f921\"]], \"type\": \"contour\"}], \"contourcarpet\": [{\"colorbar\": {\"outlinewidth\": 0, \"ticks\": \"\"}, \"type\": \"contourcarpet\"}], \"heatmap\": [{\"colorbar\": {\"outlinewidth\": 0, \"ticks\": \"\"}, \"colorscale\": [[0.0, \"#0d0887\"], [0.1111111111111111, \"#46039f\"], [0.2222222222222222, \"#7201a8\"], [0.3333333333333333, \"#9c179e\"], [0.4444444444444444, \"#bd3786\"], [0.5555555555555556, \"#d8576b\"], [0.6666666666666666, \"#ed7953\"], [0.7777777777777778, \"#fb9f3a\"], [0.8888888888888888, \"#fdca26\"], [1.0, \"#f0f921\"]], \"type\": \"heatmap\"}], \"heatmapgl\": [{\"colorbar\": {\"outlinewidth\": 0, \"ticks\": \"\"}, \"colorscale\": [[0.0, \"#0d0887\"], [0.1111111111111111, \"#46039f\"], [0.2222222222222222, \"#7201a8\"], [0.3333333333333333, \"#9c179e\"], [0.4444444444444444, \"#bd3786\"], [0.5555555555555556, \"#d8576b\"], [0.6666666666666666, \"#ed7953\"], [0.7777777777777778, \"#fb9f3a\"], [0.8888888888888888, \"#fdca26\"], [1.0, \"#f0f921\"]], \"type\": \"heatmapgl\"}], \"histogram\": [{\"marker\": {\"colorbar\": {\"outlinewidth\": 0, \"ticks\": \"\"}}, \"type\": \"histogram\"}], \"histogram2d\": [{\"colorbar\": {\"outlinewidth\": 0, \"ticks\": \"\"}, \"colorscale\": [[0.0, \"#0d0887\"], [0.1111111111111111, \"#46039f\"], [0.2222222222222222, \"#7201a8\"], [0.3333333333333333, \"#9c179e\"], [0.4444444444444444, \"#bd3786\"], [0.5555555555555556, \"#d8576b\"], [0.6666666666666666, \"#ed7953\"], [0.7777777777777778, \"#fb9f3a\"], [0.8888888888888888, \"#fdca26\"], [1.0, \"#f0f921\"]], \"type\": \"histogram2d\"}], \"histogram2dcontour\": [{\"colorbar\": {\"outlinewidth\": 0, \"ticks\": \"\"}, \"colorscale\": [[0.0, \"#0d0887\"], [0.1111111111111111, \"#46039f\"], [0.2222222222222222, \"#7201a8\"], [0.3333333333333333, \"#9c179e\"], [0.4444444444444444, \"#bd3786\"], [0.5555555555555556, \"#d8576b\"], [0.6666666666666666, \"#ed7953\"], [0.7777777777777778, \"#fb9f3a\"], [0.8888888888888888, \"#fdca26\"], [1.0, \"#f0f921\"]], \"type\": \"histogram2dcontour\"}], \"mesh3d\": [{\"colorbar\": {\"outlinewidth\": 0, \"ticks\": \"\"}, \"type\": \"mesh3d\"}], \"parcoords\": [{\"line\": {\"colorbar\": {\"outlinewidth\": 0, \"ticks\": \"\"}}, \"type\": \"parcoords\"}], \"pie\": [{\"automargin\": true, \"type\": \"pie\"}], \"scatter\": [{\"marker\": {\"colorbar\": {\"outlinewidth\": 0, \"ticks\": \"\"}}, \"type\": \"scatter\"}], \"scatter3d\": [{\"line\": {\"colorbar\": {\"outlinewidth\": 0, \"ticks\": \"\"}}, \"marker\": {\"colorbar\": {\"outlinewidth\": 0, \"ticks\": \"\"}}, \"type\": \"scatter3d\"}], \"scattercarpet\": [{\"marker\": {\"colorbar\": {\"outlinewidth\": 0, \"ticks\": \"\"}}, \"type\": \"scattercarpet\"}], \"scattergeo\": [{\"marker\": {\"colorbar\": {\"outlinewidth\": 0, \"ticks\": \"\"}}, \"type\": \"scattergeo\"}], \"scattergl\": [{\"marker\": {\"colorbar\": {\"outlinewidth\": 0, \"ticks\": \"\"}}, \"type\": \"scattergl\"}], \"scattermapbox\": [{\"marker\": {\"colorbar\": {\"outlinewidth\": 0, \"ticks\": \"\"}}, \"type\": \"scattermapbox\"}], \"scatterpolar\": [{\"marker\": {\"colorbar\": {\"outlinewidth\": 0, \"ticks\": \"\"}}, \"type\": \"scatterpolar\"}], \"scatterpolargl\": [{\"marker\": {\"colorbar\": {\"outlinewidth\": 0, \"ticks\": \"\"}}, \"type\": \"scatterpolargl\"}], \"scatterternary\": [{\"marker\": {\"colorbar\": {\"outlinewidth\": 0, \"ticks\": \"\"}}, \"type\": \"scatterternary\"}], \"surface\": [{\"colorbar\": {\"outlinewidth\": 0, \"ticks\": \"\"}, \"colorscale\": [[0.0, \"#0d0887\"], [0.1111111111111111, \"#46039f\"], [0.2222222222222222, \"#7201a8\"], [0.3333333333333333, \"#9c179e\"], [0.4444444444444444, \"#bd3786\"], [0.5555555555555556, \"#d8576b\"], [0.6666666666666666, \"#ed7953\"], [0.7777777777777778, \"#fb9f3a\"], [0.8888888888888888, \"#fdca26\"], [1.0, \"#f0f921\"]], \"type\": \"surface\"}], \"table\": [{\"cells\": {\"fill\": {\"color\": \"#EBF0F8\"}, \"line\": {\"color\": \"white\"}}, \"header\": {\"fill\": {\"color\": \"#C8D4E3\"}, \"line\": {\"color\": \"white\"}}, \"type\": \"table\"}]}, \"layout\": {\"annotationdefaults\": {\"arrowcolor\": \"#2a3f5f\", \"arrowhead\": 0, \"arrowwidth\": 1}, \"coloraxis\": {\"colorbar\": {\"outlinewidth\": 0, \"ticks\": \"\"}}, \"colorscale\": {\"diverging\": [[0, \"#8e0152\"], [0.1, \"#c51b7d\"], [0.2, \"#de77ae\"], [0.3, \"#f1b6da\"], [0.4, \"#fde0ef\"], [0.5, \"#f7f7f7\"], [0.6, \"#e6f5d0\"], [0.7, \"#b8e186\"], [0.8, \"#7fbc41\"], [0.9, \"#4d9221\"], [1, \"#276419\"]], \"sequential\": [[0.0, \"#0d0887\"], [0.1111111111111111, \"#46039f\"], [0.2222222222222222, \"#7201a8\"], [0.3333333333333333, \"#9c179e\"], [0.4444444444444444, \"#bd3786\"], [0.5555555555555556, \"#d8576b\"], [0.6666666666666666, \"#ed7953\"], [0.7777777777777778, \"#fb9f3a\"], [0.8888888888888888, \"#fdca26\"], [1.0, \"#f0f921\"]], \"sequentialminus\": [[0.0, \"#0d0887\"], [0.1111111111111111, \"#46039f\"], [0.2222222222222222, \"#7201a8\"], [0.3333333333333333, \"#9c179e\"], [0.4444444444444444, \"#bd3786\"], [0.5555555555555556, \"#d8576b\"], [0.6666666666666666, \"#ed7953\"], [0.7777777777777778, \"#fb9f3a\"], [0.8888888888888888, \"#fdca26\"], [1.0, \"#f0f921\"]]}, \"colorway\": [\"#636efa\", \"#EF553B\", \"#00cc96\", \"#ab63fa\", \"#FFA15A\", \"#19d3f3\", \"#FF6692\", \"#B6E880\", \"#FF97FF\", \"#FECB52\"], \"font\": {\"color\": \"#2a3f5f\"}, \"geo\": {\"bgcolor\": \"white\", \"lakecolor\": \"white\", \"landcolor\": \"#E5ECF6\", \"showlakes\": true, \"showland\": true, \"subunitcolor\": \"white\"}, \"hoverlabel\": {\"align\": \"left\"}, \"hovermode\": \"closest\", \"mapbox\": {\"style\": \"light\"}, \"paper_bgcolor\": \"white\", \"plot_bgcolor\": \"#E5ECF6\", \"polar\": {\"angularaxis\": {\"gridcolor\": \"white\", \"linecolor\": \"white\", \"ticks\": \"\"}, \"bgcolor\": \"#E5ECF6\", \"radialaxis\": {\"gridcolor\": \"white\", \"linecolor\": \"white\", \"ticks\": \"\"}}, \"scene\": {\"xaxis\": {\"backgroundcolor\": \"#E5ECF6\", \"gridcolor\": \"white\", \"gridwidth\": 2, \"linecolor\": \"white\", \"showbackground\": true, \"ticks\": \"\", \"zerolinecolor\": \"white\"}, \"yaxis\": {\"backgroundcolor\": \"#E5ECF6\", \"gridcolor\": \"white\", \"gridwidth\": 2, \"linecolor\": \"white\", \"showbackground\": true, \"ticks\": \"\", \"zerolinecolor\": \"white\"}, \"zaxis\": {\"backgroundcolor\": \"#E5ECF6\", \"gridcolor\": \"white\", \"gridwidth\": 2, \"linecolor\": \"white\", \"showbackground\": true, \"ticks\": \"\", \"zerolinecolor\": \"white\"}}, \"shapedefaults\": {\"line\": {\"color\": \"#2a3f5f\"}}, \"ternary\": {\"aaxis\": {\"gridcolor\": \"white\", \"linecolor\": \"white\", \"ticks\": \"\"}, \"baxis\": {\"gridcolor\": \"white\", \"linecolor\": \"white\", \"ticks\": \"\"}, \"bgcolor\": \"#E5ECF6\", \"caxis\": {\"gridcolor\": \"white\", \"linecolor\": \"white\", \"ticks\": \"\"}}, \"title\": {\"x\": 0.05}, \"xaxis\": {\"automargin\": true, \"gridcolor\": \"white\", \"linecolor\": \"white\", \"ticks\": \"\", \"title\": {\"standoff\": 15}, \"zerolinecolor\": \"white\", \"zerolinewidth\": 2}, \"yaxis\": {\"automargin\": true, \"gridcolor\": \"white\", \"linecolor\": \"white\", \"ticks\": \"\", \"title\": {\"standoff\": 15}, \"zerolinecolor\": \"white\", \"zerolinewidth\": 2}}}},\n",
       "                        {\"responsive\": true}\n",
       "                    ).then(function(){\n",
       "                            \n",
       "var gd = document.getElementById('a2d752a3-08cf-4430-a089-6b22b356c1ad');\n",
       "var x = new MutationObserver(function (mutations, observer) {{\n",
       "        var display = window.getComputedStyle(gd).display;\n",
       "        if (!display || display === 'none') {{\n",
       "            console.log([gd, 'removed!']);\n",
       "            Plotly.purge(gd);\n",
       "            observer.disconnect();\n",
       "        }}\n",
       "}});\n",
       "\n",
       "// Listen for the removal of the full notebook cells\n",
       "var notebookContainer = gd.closest('#notebook-container');\n",
       "if (notebookContainer) {{\n",
       "    x.observe(notebookContainer, {childList: true});\n",
       "}}\n",
       "\n",
       "// Listen for the clearing of the current output cell\n",
       "var outputEl = gd.closest('.output');\n",
       "if (outputEl) {{\n",
       "    x.observe(outputEl, {childList: true});\n",
       "}}\n",
       "\n",
       "                        })\n",
       "                };\n",
       "                \n",
       "            </script>\n",
       "        </div>\n",
       "</body>\n",
       "</html>"
      ]
     },
     "metadata": {
      "tags": []
     },
     "output_type": "display_data"
    }
   ],
   "source": [
    "fig = px.scatter_geo(lat_long_results, lat=\"DECLATITUDE\", lon=\"DECLONGITUDE\", color=\"DSR_prediction\")\n",
    "fig.show()"
   ]
  },
  {
   "cell_type": "code",
   "execution_count": null,
   "metadata": {
    "id": "bF7nZ4ecqZu5"
   },
   "outputs": [],
   "source": []
  }
 ],
 "metadata": {
  "colab": {
   "collapsed_sections": [],
   "name": "lens_resistance_100_v3.ipynb",
   "provenance": [
    {
     "file_id": "1lsg6ARnGBPb9uI0_N7vNB28FY-CaX-OM",
     "timestamp": 1622199618351
    }
   ]
  },
  "kernelspec": {
   "display_name": "Python 3 (ipykernel)",
   "language": "python",
   "name": "python3"
  },
  "language_info": {
   "codemirror_mode": {
    "name": "ipython",
    "version": 3
   },
   "file_extension": ".py",
   "mimetype": "text/x-python",
   "name": "python",
   "nbconvert_exporter": "python",
   "pygments_lexer": "ipython3",
   "version": "3.9.7"
  }
 },
 "nbformat": 4,
 "nbformat_minor": 1
}
