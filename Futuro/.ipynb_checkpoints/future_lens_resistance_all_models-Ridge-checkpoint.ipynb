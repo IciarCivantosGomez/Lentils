{
 "cells": [
  {
   "cell_type": "code",
   "execution_count": 1,
   "metadata": {
    "id": "cf_xHReXZE1v"
   },
   "outputs": [],
   "source": [
    "import pandas as pd\n",
    "import numpy as np\n",
    "import sys\n",
    "import os\n",
    "sys.path.append('..')\n",
    "\n",
    "import warnings\n",
    "import matplotlib.pyplot as plt\n",
    "import plotly.express as px\n",
    "import numpy as np\n",
    "import pandas as pd\n",
    "pd.options.mode.chained_assignment = None\n",
    "import seaborn as sns\n",
    "\n",
    "from sklearn.preprocessing import StandardScaler\n",
    "from sklearn.linear_model import RidgeCV\n",
    "from sklearn.model_selection import train_test_split, cross_validate\n",
    "from sklearn.metrics import mean_squared_error"
   ]
  },
  {
   "cell_type": "code",
   "execution_count": 7,
   "metadata": {
    "executionInfo": {
     "elapsed": 277,
     "status": "ok",
     "timestamp": 1643734297797,
     "user": {
      "displayName": "Icíar Civantos Gómez",
      "photoUrl": "https://lh3.googleusercontent.com/a/default-user=s64",
      "userId": "06033810409542157400"
     },
     "user_tz": -60
    },
    "id": "50P7QiEzMrlX"
   },
   "outputs": [],
   "source": [
    "import os\n",
    "pathdata = './../../../datasets/'\n",
    "pathresults = 'results'\n",
    "if not os.path.exists(pathresults):\n",
    "    os.makedirs(pathresults)"
   ]
  },
  {
   "cell_type": "code",
   "execution_count": 8,
   "metadata": {},
   "outputs": [],
   "source": [
    "# Función para predecir el valor del DSR en las especies de lenteja evaluadas por su resistencia a la roya en el futuro.\n",
    "\n",
    "def predict_future(regressor, scaler, df_future, models):\n",
    "\n",
    "    predictions_future = {}   \n",
    "    \n",
    "    # Voy guardando los índices para, después de entrenar todos los modelos, quedarme con el valor medio\n",
    "    future_index = df_future.index.values\n",
    "\n",
    "    # Del total del dataset voy seleccionando la bio_1 (temperatura media anual) y la bio_12 (precipitacion) de cada uno de los modelos\n",
    "    for m in models:\n",
    "        futuro_model = df_future[['DECLONGITUDE','DECLATITUDE',m, m+'_B12', 'srad_12', 'srad_annual', 't_bulk_dens', 't_sand', 't_soilwater_cap', 't_teb']]\n",
    "        futuro_model = futuro_model.rename(columns={m: 'CURRENT_BIO1', m+'B12': 'CURRENT_BIO12'})\n",
    "\n",
    "        futuro_test_pred_scaled = scaler.transform(futuro_model)\n",
    "\n",
    "        # Todas las predicciones las voy guardando en un diccionario en el que la clave es el nombre del modelo_escenario\n",
    "        predictions_future[m] = regressor.predict(futuro_test_pred_scaled)\n",
    "\n",
    "    return future_index, predictions_future\n"
   ]
  },
  {
   "cell_type": "code",
   "execution_count": 9,
   "metadata": {
    "id": "O-Imy7AWBxkf"
   },
   "outputs": [],
   "source": [
    "# Función para predecir el valor del DSR en las especies de lenteja silvestres en el presente.\n",
    "\n",
    "def silvestres_predict_present(regressor, scaler, df_present):\n",
    "        \n",
    "    # Voy guardando los índices para, después de entrenar todos los modelos, quedarme con el valor medio\n",
    "    silvestres_present_index = df_present.index.values\n",
    "    \n",
    "    lentejas_silvestres_scaled = scaler.transform(df_present)\n",
    "    predictions_silvestres_presente = regressor.predict(lentejas_silvestres_scaled)\n",
    "\n",
    "    return silvestres_present_index, predictions_silvestres_presente"
   ]
  },
  {
   "cell_type": "markdown",
   "metadata": {},
   "source": [
    "## MODELOS Y ESCENARIO A EVALUAR"
   ]
  },
  {
   "cell_type": "code",
   "execution_count": 10,
   "metadata": {},
   "outputs": [],
   "source": [
    "models = ['BCC_126', 'BCC_370', 'BCC_585', 'CNRM_126', 'CNRM_370','CNRM_585', 'IPSL_126', 'IPSL_370', 'IPSL_585']"
   ]
  },
  {
   "cell_type": "markdown",
   "metadata": {
    "id": "yY8mwkJjPBzR"
   },
   "source": [
    "## **LENTEJAS EVALUADAS POR SU RESISTENCIA A LA ROYA**"
   ]
  },
  {
   "cell_type": "markdown",
   "metadata": {
    "id": "jMTKTFKNXRSg"
   },
   "source": [
    "## Load Data Lentejas Roya: Temperatura y Precipitación"
   ]
  },
  {
   "cell_type": "code",
   "execution_count": 11,
   "metadata": {},
   "outputs": [
    {
     "data": {
      "text/html": [
       "<div>\n",
       "<style scoped>\n",
       "    .dataframe tbody tr th:only-of-type {\n",
       "        vertical-align: middle;\n",
       "    }\n",
       "\n",
       "    .dataframe tbody tr th {\n",
       "        vertical-align: top;\n",
       "    }\n",
       "\n",
       "    .dataframe thead th {\n",
       "        text-align: right;\n",
       "    }\n",
       "</style>\n",
       "<table border=\"1\" class=\"dataframe\">\n",
       "  <thead>\n",
       "    <tr style=\"text-align: right;\">\n",
       "      <th></th>\n",
       "      <th>DECLATITUDE</th>\n",
       "      <th>DECLONGITUDE</th>\n",
       "      <th>BBC_126</th>\n",
       "      <th>BBC_370</th>\n",
       "      <th>BBC_585</th>\n",
       "      <th>CNRM_126</th>\n",
       "      <th>CNRM_370</th>\n",
       "      <th>CNRM_585</th>\n",
       "      <th>IPSL_126</th>\n",
       "      <th>IPSL_370</th>\n",
       "      <th>...</th>\n",
       "      <th>BCC_370_B12</th>\n",
       "      <th>BCC_585_B12</th>\n",
       "      <th>IPSL_126_B12</th>\n",
       "      <th>IPSL_370_B12</th>\n",
       "      <th>IPSL_585_B12</th>\n",
       "      <th>CNRM_126_B12</th>\n",
       "      <th>CNRM_370_B12</th>\n",
       "      <th>CNRM_585_B12</th>\n",
       "      <th>CURRENT_BIO1</th>\n",
       "      <th>CURRENT_BIO12</th>\n",
       "    </tr>\n",
       "  </thead>\n",
       "  <tbody>\n",
       "    <tr>\n",
       "      <th>0</th>\n",
       "      <td>37.491944</td>\n",
       "      <td>-2.773611</td>\n",
       "      <td>152.875004</td>\n",
       "      <td>155.166664</td>\n",
       "      <td>157.624998</td>\n",
       "      <td>154.458332</td>\n",
       "      <td>153.374996</td>\n",
       "      <td>154.958334</td>\n",
       "      <td>155.333328</td>\n",
       "      <td>155.749998</td>\n",
       "      <td>...</td>\n",
       "      <td>402.0</td>\n",
       "      <td>389.0</td>\n",
       "      <td>375.0</td>\n",
       "      <td>377.0</td>\n",
       "      <td>366.0</td>\n",
       "      <td>393.0</td>\n",
       "      <td>386.0</td>\n",
       "      <td>380.0</td>\n",
       "      <td>142.839996</td>\n",
       "      <td>443.359985</td>\n",
       "    </tr>\n",
       "  </tbody>\n",
       "</table>\n",
       "<p>1 rows × 22 columns</p>\n",
       "</div>"
      ],
      "text/plain": [
       "   DECLATITUDE  DECLONGITUDE     BBC_126     BBC_370     BBC_585    CNRM_126  \\\n",
       "0    37.491944     -2.773611  152.875004  155.166664  157.624998  154.458332   \n",
       "\n",
       "     CNRM_370    CNRM_585    IPSL_126    IPSL_370  ...  BCC_370_B12  \\\n",
       "0  153.374996  154.958334  155.333328  155.749998  ...        402.0   \n",
       "\n",
       "   BCC_585_B12  IPSL_126_B12  IPSL_370_B12  IPSL_585_B12  CNRM_126_B12  \\\n",
       "0        389.0         375.0         377.0         366.0         393.0   \n",
       "\n",
       "   CNRM_370_B12  CNRM_585_B12  CURRENT_BIO1  CURRENT_BIO12  \n",
       "0         386.0         380.0    142.839996     443.359985  \n",
       "\n",
       "[1 rows x 22 columns]"
      ]
     },
     "execution_count": 11,
     "metadata": {},
     "output_type": "execute_result"
    }
   ],
   "source": [
    "roya_raw = pd.read_csv(pathdata+\"DatosPrecip/ROYA_Completa_fut_pres.txt\",decimal=',',sep= '\\t')\n",
    "\n",
    "# Me quedo solo con las columnas de latitud, longitud, predicciones de bio_1 y bio_12 para el presente y el futuro\n",
    "cols_to_drop = list(roya_raw.columns[0:5]) + list(roya_raw.columns[[7, 8, 9, 10]])\n",
    "roya_raw = roya_raw.drop(cols_to_drop, axis = 1)\n",
    "\n",
    "# Renombro y transformo a float las columnas para mantener el mismo formato en todos los datasets\n",
    "roya_raw = roya_raw.rename(columns={'Longitude': 'DECLONGITUDE', 'Latitude': 'DECLATITUDE'})\n",
    "roya_raw = roya_raw.applymap(lambda x: float(x))\n",
    "\n",
    "roya_raw[['BBC_126', 'BBC_370', 'BBC_585', 'CNRM_126', 'CNRM_370','CNRM_585', 'IPSL_126', 'IPSL_370', 'IPSL_585']] = roya_raw[['BBC_126', 'BBC_370', 'BBC_585', 'CNRM_126', 'CNRM_370','CNRM_585', 'IPSL_126', 'IPSL_370', 'IPSL_585']].applymap(lambda x: x*10)\n",
    "roya_raw.drop_duplicates(inplace = True)\n",
    "\n",
    "roya_raw.head(1)"
   ]
  },
  {
   "cell_type": "code",
   "execution_count": 12,
   "metadata": {},
   "outputs": [
    {
     "name": "stdout",
     "output_type": "stream",
     "text": [
      "(247, 22)\n"
     ]
    }
   ],
   "source": [
    "print(roya_raw.shape)"
   ]
  },
  {
   "cell_type": "markdown",
   "metadata": {
    "id": "SvTFCGaiXY45"
   },
   "source": [
    "## Load Data Lentejas Roya: radiación, condiciones del suelo y DSR"
   ]
  },
  {
   "cell_type": "code",
   "execution_count": 13,
   "metadata": {
    "colab": {
     "base_uri": "https://localhost:8080/",
     "height": 81
    },
    "executionInfo": {
     "elapsed": 225,
     "status": "ok",
     "timestamp": 1643733940559,
     "user": {
      "displayName": "Icíar Civantos Gómez",
      "photoUrl": "https://lh3.googleusercontent.com/a/default-user=s64",
      "userId": "06033810409542157400"
     },
     "user_tz": -60
    },
    "id": "hrj63EmdCQ8d",
    "outputId": "285ba2c7-5119-4141-97a6-4c9fddbb3ced"
   },
   "outputs": [
    {
     "data": {
      "text/html": [
       "<div>\n",
       "<style scoped>\n",
       "    .dataframe tbody tr th:only-of-type {\n",
       "        vertical-align: middle;\n",
       "    }\n",
       "\n",
       "    .dataframe tbody tr th {\n",
       "        vertical-align: top;\n",
       "    }\n",
       "\n",
       "    .dataframe thead th {\n",
       "        text-align: right;\n",
       "    }\n",
       "</style>\n",
       "<table border=\"1\" class=\"dataframe\">\n",
       "  <thead>\n",
       "    <tr style=\"text-align: right;\">\n",
       "      <th></th>\n",
       "      <th>srad_12</th>\n",
       "      <th>srad_annual</th>\n",
       "      <th>t_bulk_dens</th>\n",
       "      <th>t_sand</th>\n",
       "      <th>t_soilwater_cap</th>\n",
       "      <th>t_teb</th>\n",
       "      <th>DECLONGITUDE</th>\n",
       "      <th>DECLATITUDE</th>\n",
       "      <th>ROYA_CAMPO_AVERAGE_DSR</th>\n",
       "    </tr>\n",
       "  </thead>\n",
       "  <tbody>\n",
       "    <tr>\n",
       "      <th>0</th>\n",
       "      <td>5194</td>\n",
       "      <td>14868.75</td>\n",
       "      <td>1451.699951</td>\n",
       "      <td>37.0</td>\n",
       "      <td>23.700001</td>\n",
       "      <td>28.799999</td>\n",
       "      <td>5.133333</td>\n",
       "      <td>43.916667</td>\n",
       "      <td>0.0</td>\n",
       "    </tr>\n",
       "  </tbody>\n",
       "</table>\n",
       "</div>"
      ],
      "text/plain": [
       "   srad_12  srad_annual  t_bulk_dens  t_sand  t_soilwater_cap      t_teb  \\\n",
       "0     5194     14868.75  1451.699951    37.0        23.700001  28.799999   \n",
       "\n",
       "   DECLONGITUDE  DECLATITUDE  ROYA_CAMPO_AVERAGE_DSR  \n",
       "0      5.133333    43.916667                     0.0  "
      ]
     },
     "execution_count": 13,
     "metadata": {},
     "output_type": "execute_result"
    }
   ],
   "source": [
    "# Cargamos el dataset con todas las variables de radiación, condiciones del suelo, DSR y coordenadas para las lentejas\n",
    "# evaluadas por su resistencia la roya en el presente.\n",
    "\n",
    "roya = pd.read_csv(pathdata+\"DatosPresente/fichtraining_ROYA_CAMPO_nondup.csv\",decimal=',',sep=';',)\n",
    "roya = roya[['srad_12', 'srad_annual', 't_bulk_dens', 't_sand', 't_soilwater_cap', 't_teb', 'DECLONGITUDE','DECLATITUDE','ROYA_CAMPO_AVERAGE_DSR']]\n",
    "\n",
    "roya.head(1)"
   ]
  },
  {
   "cell_type": "code",
   "execution_count": 14,
   "metadata": {},
   "outputs": [
    {
     "name": "stdout",
     "output_type": "stream",
     "text": [
      "(255, 9)\n"
     ]
    }
   ],
   "source": [
    "print(roya.shape)"
   ]
  },
  {
   "cell_type": "markdown",
   "metadata": {},
   "source": [
    "## Dataset Lentejas Roya Presente"
   ]
  },
  {
   "cell_type": "code",
   "execution_count": 15,
   "metadata": {},
   "outputs": [
    {
     "data": {
      "text/html": [
       "<div>\n",
       "<style scoped>\n",
       "    .dataframe tbody tr th:only-of-type {\n",
       "        vertical-align: middle;\n",
       "    }\n",
       "\n",
       "    .dataframe tbody tr th {\n",
       "        vertical-align: top;\n",
       "    }\n",
       "\n",
       "    .dataframe thead th {\n",
       "        text-align: right;\n",
       "    }\n",
       "</style>\n",
       "<table border=\"1\" class=\"dataframe\">\n",
       "  <thead>\n",
       "    <tr style=\"text-align: right;\">\n",
       "      <th></th>\n",
       "      <th>DECLONGITUDE</th>\n",
       "      <th>DECLATITUDE</th>\n",
       "      <th>CURRENT_BIO1</th>\n",
       "      <th>CURRENT_BIO12</th>\n",
       "      <th>srad_12</th>\n",
       "      <th>srad_annual</th>\n",
       "      <th>t_bulk_dens</th>\n",
       "      <th>t_sand</th>\n",
       "      <th>t_soilwater_cap</th>\n",
       "      <th>t_teb</th>\n",
       "      <th>ROYA_CAMPO_AVERAGE_DSR</th>\n",
       "    </tr>\n",
       "  </thead>\n",
       "  <tbody>\n",
       "    <tr>\n",
       "      <th>0</th>\n",
       "      <td>-2.773611</td>\n",
       "      <td>37.491944</td>\n",
       "      <td>142.839996</td>\n",
       "      <td>443.359985</td>\n",
       "      <td>7587</td>\n",
       "      <td>17020.333984</td>\n",
       "      <td>1501.800049</td>\n",
       "      <td>34.000000</td>\n",
       "      <td>21.549999</td>\n",
       "      <td>19.799999</td>\n",
       "      <td>58.293233</td>\n",
       "    </tr>\n",
       "    <tr>\n",
       "      <th>1</th>\n",
       "      <td>-5.270000</td>\n",
       "      <td>37.786944</td>\n",
       "      <td>178.600006</td>\n",
       "      <td>605.280029</td>\n",
       "      <td>7271</td>\n",
       "      <td>16987.083984</td>\n",
       "      <td>1526.949951</td>\n",
       "      <td>36.880001</td>\n",
       "      <td>22.775000</td>\n",
       "      <td>23.476000</td>\n",
       "      <td>61.787905</td>\n",
       "    </tr>\n",
       "    <tr>\n",
       "      <th>2</th>\n",
       "      <td>-17.758611</td>\n",
       "      <td>28.797222</td>\n",
       "      <td>191.125000</td>\n",
       "      <td>370.312500</td>\n",
       "      <td>10670</td>\n",
       "      <td>18398.333984</td>\n",
       "      <td>1358.599976</td>\n",
       "      <td>47.000000</td>\n",
       "      <td>26.575001</td>\n",
       "      <td>10.000000</td>\n",
       "      <td>70.940348</td>\n",
       "    </tr>\n",
       "    <tr>\n",
       "      <th>3</th>\n",
       "      <td>-3.956667</td>\n",
       "      <td>37.768889</td>\n",
       "      <td>165.479996</td>\n",
       "      <td>563.799988</td>\n",
       "      <td>7406</td>\n",
       "      <td>16711.083984</td>\n",
       "      <td>1518.650024</td>\n",
       "      <td>33.959999</td>\n",
       "      <td>23.549999</td>\n",
       "      <td>26.976000</td>\n",
       "      <td>77.256578</td>\n",
       "    </tr>\n",
       "    <tr>\n",
       "      <th>4</th>\n",
       "      <td>-4.855556</td>\n",
       "      <td>42.221667</td>\n",
       "      <td>116.400002</td>\n",
       "      <td>489.720001</td>\n",
       "      <td>4885</td>\n",
       "      <td>14776.583008</td>\n",
       "      <td>1515.974976</td>\n",
       "      <td>19.000000</td>\n",
       "      <td>21.000000</td>\n",
       "      <td>46.599998</td>\n",
       "      <td>72.408651</td>\n",
       "    </tr>\n",
       "  </tbody>\n",
       "</table>\n",
       "</div>"
      ],
      "text/plain": [
       "   DECLONGITUDE  DECLATITUDE  CURRENT_BIO1  CURRENT_BIO12  srad_12  \\\n",
       "0     -2.773611    37.491944    142.839996     443.359985     7587   \n",
       "1     -5.270000    37.786944    178.600006     605.280029     7271   \n",
       "2    -17.758611    28.797222    191.125000     370.312500    10670   \n",
       "3     -3.956667    37.768889    165.479996     563.799988     7406   \n",
       "4     -4.855556    42.221667    116.400002     489.720001     4885   \n",
       "\n",
       "    srad_annual  t_bulk_dens     t_sand  t_soilwater_cap      t_teb  \\\n",
       "0  17020.333984  1501.800049  34.000000        21.549999  19.799999   \n",
       "1  16987.083984  1526.949951  36.880001        22.775000  23.476000   \n",
       "2  18398.333984  1358.599976  47.000000        26.575001  10.000000   \n",
       "3  16711.083984  1518.650024  33.959999        23.549999  26.976000   \n",
       "4  14776.583008  1515.974976  19.000000        21.000000  46.599998   \n",
       "\n",
       "   ROYA_CAMPO_AVERAGE_DSR  \n",
       "0               58.293233  \n",
       "1               61.787905  \n",
       "2               70.940348  \n",
       "3               77.256578  \n",
       "4               72.408651  "
      ]
     },
     "execution_count": 15,
     "metadata": {},
     "output_type": "execute_result"
    }
   ],
   "source": [
    "# Unimos las condiciones de radiación y el suelo, con el valor de temperatura y precipitación para el presente.\n",
    "\n",
    "roya_presente = pd.merge(roya_raw[['DECLONGITUDE','DECLATITUDE','CURRENT_BIO1', 'CURRENT_BIO12']],roya, how='inner', on = ['DECLONGITUDE','DECLATITUDE'])\n",
    "roya_presente.drop_duplicates(subset = ['DECLONGITUDE','DECLATITUDE'], inplace = True)\n",
    "roya_presente.head()"
   ]
  },
  {
   "cell_type": "code",
   "execution_count": 16,
   "metadata": {},
   "outputs": [
    {
     "name": "stdout",
     "output_type": "stream",
     "text": [
      "(247, 11)\n"
     ]
    }
   ],
   "source": [
    "print(roya_presente.shape)"
   ]
  },
  {
   "cell_type": "markdown",
   "metadata": {},
   "source": [
    "## Dataset Lentejas Roya Futuro"
   ]
  },
  {
   "cell_type": "code",
   "execution_count": 17,
   "metadata": {},
   "outputs": [
    {
     "data": {
      "text/html": [
       "<div>\n",
       "<style scoped>\n",
       "    .dataframe tbody tr th:only-of-type {\n",
       "        vertical-align: middle;\n",
       "    }\n",
       "\n",
       "    .dataframe tbody tr th {\n",
       "        vertical-align: top;\n",
       "    }\n",
       "\n",
       "    .dataframe thead th {\n",
       "        text-align: right;\n",
       "    }\n",
       "</style>\n",
       "<table border=\"1\" class=\"dataframe\">\n",
       "  <thead>\n",
       "    <tr style=\"text-align: right;\">\n",
       "      <th></th>\n",
       "      <th>DECLATITUDE</th>\n",
       "      <th>DECLONGITUDE</th>\n",
       "      <th>BCC_126</th>\n",
       "      <th>BCC_370</th>\n",
       "      <th>BCC_585</th>\n",
       "      <th>CNRM_126</th>\n",
       "      <th>CNRM_370</th>\n",
       "      <th>CNRM_585</th>\n",
       "      <th>IPSL_126</th>\n",
       "      <th>IPSL_370</th>\n",
       "      <th>...</th>\n",
       "      <th>CNRM_126_B12</th>\n",
       "      <th>CNRM_370_B12</th>\n",
       "      <th>CNRM_585_B12</th>\n",
       "      <th>srad_12</th>\n",
       "      <th>srad_annual</th>\n",
       "      <th>t_bulk_dens</th>\n",
       "      <th>t_sand</th>\n",
       "      <th>t_soilwater_cap</th>\n",
       "      <th>t_teb</th>\n",
       "      <th>ROYA_CAMPO_AVERAGE_DSR</th>\n",
       "    </tr>\n",
       "  </thead>\n",
       "  <tbody>\n",
       "    <tr>\n",
       "      <th>0</th>\n",
       "      <td>37.491944</td>\n",
       "      <td>-2.773611</td>\n",
       "      <td>152.875004</td>\n",
       "      <td>155.166664</td>\n",
       "      <td>157.624998</td>\n",
       "      <td>154.458332</td>\n",
       "      <td>153.374996</td>\n",
       "      <td>154.958334</td>\n",
       "      <td>155.333328</td>\n",
       "      <td>155.749998</td>\n",
       "      <td>...</td>\n",
       "      <td>393.0</td>\n",
       "      <td>386.0</td>\n",
       "      <td>380.0</td>\n",
       "      <td>7587</td>\n",
       "      <td>17020.333984</td>\n",
       "      <td>1501.800049</td>\n",
       "      <td>34.000000</td>\n",
       "      <td>21.549999</td>\n",
       "      <td>19.799999</td>\n",
       "      <td>58.293233</td>\n",
       "    </tr>\n",
       "    <tr>\n",
       "      <th>1</th>\n",
       "      <td>37.786944</td>\n",
       "      <td>-5.270000</td>\n",
       "      <td>187.000008</td>\n",
       "      <td>189.083328</td>\n",
       "      <td>192.333336</td>\n",
       "      <td>188.500004</td>\n",
       "      <td>187.625008</td>\n",
       "      <td>188.999996</td>\n",
       "      <td>188.833332</td>\n",
       "      <td>189.166660</td>\n",
       "      <td>...</td>\n",
       "      <td>527.0</td>\n",
       "      <td>523.0</td>\n",
       "      <td>515.0</td>\n",
       "      <td>7271</td>\n",
       "      <td>16987.083984</td>\n",
       "      <td>1526.949951</td>\n",
       "      <td>36.880001</td>\n",
       "      <td>22.775000</td>\n",
       "      <td>23.476000</td>\n",
       "      <td>61.787905</td>\n",
       "    </tr>\n",
       "    <tr>\n",
       "      <th>2</th>\n",
       "      <td>28.797222</td>\n",
       "      <td>-17.758611</td>\n",
       "      <td>195.000000</td>\n",
       "      <td>195.958328</td>\n",
       "      <td>197.875004</td>\n",
       "      <td>198.333340</td>\n",
       "      <td>198.624992</td>\n",
       "      <td>198.958340</td>\n",
       "      <td>197.333336</td>\n",
       "      <td>197.875004</td>\n",
       "      <td>...</td>\n",
       "      <td>328.0</td>\n",
       "      <td>320.0</td>\n",
       "      <td>315.0</td>\n",
       "      <td>10670</td>\n",
       "      <td>18398.333984</td>\n",
       "      <td>1358.599976</td>\n",
       "      <td>47.000000</td>\n",
       "      <td>26.575001</td>\n",
       "      <td>10.000000</td>\n",
       "      <td>70.940348</td>\n",
       "    </tr>\n",
       "    <tr>\n",
       "      <th>3</th>\n",
       "      <td>37.768889</td>\n",
       "      <td>-3.956667</td>\n",
       "      <td>175.750008</td>\n",
       "      <td>178.125000</td>\n",
       "      <td>180.916672</td>\n",
       "      <td>177.208328</td>\n",
       "      <td>176.291676</td>\n",
       "      <td>177.916660</td>\n",
       "      <td>178.083344</td>\n",
       "      <td>178.416672</td>\n",
       "      <td>...</td>\n",
       "      <td>471.0</td>\n",
       "      <td>460.0</td>\n",
       "      <td>459.0</td>\n",
       "      <td>7406</td>\n",
       "      <td>16711.083984</td>\n",
       "      <td>1518.650024</td>\n",
       "      <td>33.959999</td>\n",
       "      <td>23.549999</td>\n",
       "      <td>26.976000</td>\n",
       "      <td>77.256578</td>\n",
       "    </tr>\n",
       "    <tr>\n",
       "      <th>4</th>\n",
       "      <td>42.221667</td>\n",
       "      <td>-4.855556</td>\n",
       "      <td>128.208332</td>\n",
       "      <td>131.041670</td>\n",
       "      <td>134.041672</td>\n",
       "      <td>130.500002</td>\n",
       "      <td>129.291668</td>\n",
       "      <td>130.333338</td>\n",
       "      <td>131.916666</td>\n",
       "      <td>132.958336</td>\n",
       "      <td>...</td>\n",
       "      <td>468.0</td>\n",
       "      <td>455.0</td>\n",
       "      <td>460.0</td>\n",
       "      <td>4885</td>\n",
       "      <td>14776.583008</td>\n",
       "      <td>1515.974976</td>\n",
       "      <td>19.000000</td>\n",
       "      <td>21.000000</td>\n",
       "      <td>46.599998</td>\n",
       "      <td>72.408651</td>\n",
       "    </tr>\n",
       "  </tbody>\n",
       "</table>\n",
       "<p>5 rows × 27 columns</p>\n",
       "</div>"
      ],
      "text/plain": [
       "   DECLATITUDE  DECLONGITUDE     BCC_126     BCC_370     BCC_585    CNRM_126  \\\n",
       "0    37.491944     -2.773611  152.875004  155.166664  157.624998  154.458332   \n",
       "1    37.786944     -5.270000  187.000008  189.083328  192.333336  188.500004   \n",
       "2    28.797222    -17.758611  195.000000  195.958328  197.875004  198.333340   \n",
       "3    37.768889     -3.956667  175.750008  178.125000  180.916672  177.208328   \n",
       "4    42.221667     -4.855556  128.208332  131.041670  134.041672  130.500002   \n",
       "\n",
       "     CNRM_370    CNRM_585    IPSL_126    IPSL_370  ...  CNRM_126_B12  \\\n",
       "0  153.374996  154.958334  155.333328  155.749998  ...         393.0   \n",
       "1  187.625008  188.999996  188.833332  189.166660  ...         527.0   \n",
       "2  198.624992  198.958340  197.333336  197.875004  ...         328.0   \n",
       "3  176.291676  177.916660  178.083344  178.416672  ...         471.0   \n",
       "4  129.291668  130.333338  131.916666  132.958336  ...         468.0   \n",
       "\n",
       "   CNRM_370_B12  CNRM_585_B12  srad_12   srad_annual  t_bulk_dens     t_sand  \\\n",
       "0         386.0         380.0     7587  17020.333984  1501.800049  34.000000   \n",
       "1         523.0         515.0     7271  16987.083984  1526.949951  36.880001   \n",
       "2         320.0         315.0    10670  18398.333984  1358.599976  47.000000   \n",
       "3         460.0         459.0     7406  16711.083984  1518.650024  33.959999   \n",
       "4         455.0         460.0     4885  14776.583008  1515.974976  19.000000   \n",
       "\n",
       "   t_soilwater_cap      t_teb  ROYA_CAMPO_AVERAGE_DSR  \n",
       "0        21.549999  19.799999               58.293233  \n",
       "1        22.775000  23.476000               61.787905  \n",
       "2        26.575001  10.000000               70.940348  \n",
       "3        23.549999  26.976000               77.256578  \n",
       "4        21.000000  46.599998               72.408651  \n",
       "\n",
       "[5 rows x 27 columns]"
      ]
     },
     "execution_count": 17,
     "metadata": {},
     "output_type": "execute_result"
    }
   ],
   "source": [
    "# Unimos las condiciones de radiación y el suelo, con el valor de temperatura y precipitación para el presente.\n",
    "\n",
    "roya_futuro = pd.merge(roya_raw[roya_raw.columns[0:20]],roya, how='inner', on = ['DECLONGITUDE','DECLATITUDE'])\n",
    "roya_futuro = roya_futuro.rename(columns={'BBC_126': 'BCC_126', 'BBC_370': 'BCC_370', 'BBC_585': 'BCC_585'})\n",
    "roya_futuro.drop_duplicates(subset = ['DECLONGITUDE','DECLATITUDE'], inplace = True)\n",
    "roya_futuro.head()"
   ]
  },
  {
   "cell_type": "code",
   "execution_count": 18,
   "metadata": {},
   "outputs": [
    {
     "name": "stdout",
     "output_type": "stream",
     "text": [
      "(247, 27)\n"
     ]
    }
   ],
   "source": [
    "print(roya_futuro.shape)"
   ]
  },
  {
   "cell_type": "markdown",
   "metadata": {},
   "source": [
    "# LENTEJAS SILVESTRES"
   ]
  },
  {
   "cell_type": "markdown",
   "metadata": {},
   "source": [
    "## Dataset Lentejas Silvestres Presente"
   ]
  },
  {
   "cell_type": "code",
   "execution_count": 19,
   "metadata": {},
   "outputs": [
    {
     "data": {
      "text/html": [
       "<div>\n",
       "<style scoped>\n",
       "    .dataframe tbody tr th:only-of-type {\n",
       "        vertical-align: middle;\n",
       "    }\n",
       "\n",
       "    .dataframe tbody tr th {\n",
       "        vertical-align: top;\n",
       "    }\n",
       "\n",
       "    .dataframe thead th {\n",
       "        text-align: right;\n",
       "    }\n",
       "</style>\n",
       "<table border=\"1\" class=\"dataframe\">\n",
       "  <thead>\n",
       "    <tr style=\"text-align: right;\">\n",
       "      <th></th>\n",
       "      <th>DECLONGITUDE</th>\n",
       "      <th>DECLATITUDE</th>\n",
       "      <th>CURRENT_BIO1</th>\n",
       "      <th>CURRENT_BIO12</th>\n",
       "      <th>srad_12</th>\n",
       "      <th>srad_annual</th>\n",
       "      <th>t_bulk_dens</th>\n",
       "      <th>t_sand</th>\n",
       "      <th>t_soilwater_cap</th>\n",
       "      <th>t_teb</th>\n",
       "    </tr>\n",
       "  </thead>\n",
       "  <tbody>\n",
       "    <tr>\n",
       "      <th>0</th>\n",
       "      <td>22.502781</td>\n",
       "      <td>38.523891</td>\n",
       "      <td>99.448338</td>\n",
       "      <td>800.0</td>\n",
       "      <td>0.5364</td>\n",
       "      <td>14913.33301</td>\n",
       "      <td>1422.625000</td>\n",
       "      <td>28.0</td>\n",
       "      <td>23.950001</td>\n",
       "      <td>37.599998</td>\n",
       "    </tr>\n",
       "    <tr>\n",
       "      <th>1</th>\n",
       "      <td>33.700000</td>\n",
       "      <td>44.650000</td>\n",
       "      <td>107.978334</td>\n",
       "      <td>496.0</td>\n",
       "      <td>0.5352</td>\n",
       "      <td>13129.16699</td>\n",
       "      <td>1484.375000</td>\n",
       "      <td>21.0</td>\n",
       "      <td>23.825001</td>\n",
       "      <td>22.900000</td>\n",
       "    </tr>\n",
       "    <tr>\n",
       "      <th>2</th>\n",
       "      <td>33.716667</td>\n",
       "      <td>44.483333</td>\n",
       "      <td>94.020004</td>\n",
       "      <td>571.0</td>\n",
       "      <td>0.5124</td>\n",
       "      <td>13137.33301</td>\n",
       "      <td>1451.250000</td>\n",
       "      <td>23.0</td>\n",
       "      <td>24.150000</td>\n",
       "      <td>22.100000</td>\n",
       "    </tr>\n",
       "    <tr>\n",
       "      <th>3</th>\n",
       "      <td>34.582500</td>\n",
       "      <td>41.724720</td>\n",
       "      <td>80.598335</td>\n",
       "      <td>676.0</td>\n",
       "      <td>0.4556</td>\n",
       "      <td>14525.75000</td>\n",
       "      <td>1402.900024</td>\n",
       "      <td>38.0</td>\n",
       "      <td>23.650000</td>\n",
       "      <td>27.100000</td>\n",
       "    </tr>\n",
       "    <tr>\n",
       "      <th>4</th>\n",
       "      <td>37.200000</td>\n",
       "      <td>37.100000</td>\n",
       "      <td>140.310001</td>\n",
       "      <td>580.0</td>\n",
       "      <td>0.5284</td>\n",
       "      <td>17900.00000</td>\n",
       "      <td>1502.800049</td>\n",
       "      <td>26.0</td>\n",
       "      <td>24.900000</td>\n",
       "      <td>13.400000</td>\n",
       "    </tr>\n",
       "  </tbody>\n",
       "</table>\n",
       "</div>"
      ],
      "text/plain": [
       "   DECLONGITUDE  DECLATITUDE  CURRENT_BIO1  CURRENT_BIO12  srad_12  \\\n",
       "0     22.502781    38.523891     99.448338          800.0   0.5364   \n",
       "1     33.700000    44.650000    107.978334          496.0   0.5352   \n",
       "2     33.716667    44.483333     94.020004          571.0   0.5124   \n",
       "3     34.582500    41.724720     80.598335          676.0   0.4556   \n",
       "4     37.200000    37.100000    140.310001          580.0   0.5284   \n",
       "\n",
       "   srad_annual  t_bulk_dens  t_sand  t_soilwater_cap      t_teb  \n",
       "0  14913.33301  1422.625000    28.0        23.950001  37.599998  \n",
       "1  13129.16699  1484.375000    21.0        23.825001  22.900000  \n",
       "2  13137.33301  1451.250000    23.0        24.150000  22.100000  \n",
       "3  14525.75000  1402.900024    38.0        23.650000  27.100000  \n",
       "4  17900.00000  1502.800049    26.0        24.900000  13.400000  "
      ]
     },
     "execution_count": 19,
     "metadata": {},
     "output_type": "execute_result"
    }
   ],
   "source": [
    "lentejas_silvestres = pd.read_excel(pathdata+\"DatosPresente/SupplementaryTable3_RubioTeso_etal_Martonne_bio12.xlsx\")\n",
    "\n",
    "# Renombro y transformo las columnas (la temperatura se debe multiplicar por 10 para estar en el mismo orden) para \n",
    "# mantener el mismo formato en todos los datasets\n",
    "lentejas_silvestres = lentejas_silvestres.rename(columns={'Longitude_decimal': 'DECLONGITUDE', 'Latitude_decimal': 'DECLATITUDE', 'bio_12' : 'CURRENT_BIO12'})\n",
    "lentejas_silvestres['CURRENT_BIO1'] = lentejas_silvestres.bio_1.apply(lambda x: x*10)\n",
    "lentejas_silvestres.drop('bio_1', axis = 1, inplace = True)\n",
    "\n",
    "lentejas_silvestres = lentejas_silvestres[['DECLONGITUDE','DECLATITUDE','CURRENT_BIO1','CURRENT_BIO12','srad_12', 'srad_annual', 't_bulk_dens', 't_sand', 't_soilwater_cap','t_teb']]\n",
    "lentejas_silvestres.drop_duplicates(subset = ['DECLONGITUDE','DECLATITUDE'], inplace = True)\n",
    "lentejas_silvestres.dropna(inplace = True)\n",
    "\n",
    "lentejas_silvestres.head()"
   ]
  },
  {
   "cell_type": "code",
   "execution_count": 20,
   "metadata": {},
   "outputs": [
    {
     "data": {
      "text/plain": [
       "(613, 10)"
      ]
     },
     "execution_count": 20,
     "metadata": {},
     "output_type": "execute_result"
    }
   ],
   "source": [
    "lentejas_silvestres.shape"
   ]
  },
  {
   "cell_type": "markdown",
   "metadata": {},
   "source": [
    "## Dataset Lentejas Silvestres Futuro"
   ]
  },
  {
   "cell_type": "code",
   "execution_count": 21,
   "metadata": {},
   "outputs": [
    {
     "data": {
      "text/html": [
       "<div>\n",
       "<style scoped>\n",
       "    .dataframe tbody tr th:only-of-type {\n",
       "        vertical-align: middle;\n",
       "    }\n",
       "\n",
       "    .dataframe tbody tr th {\n",
       "        vertical-align: top;\n",
       "    }\n",
       "\n",
       "    .dataframe thead th {\n",
       "        text-align: right;\n",
       "    }\n",
       "</style>\n",
       "<table border=\"1\" class=\"dataframe\">\n",
       "  <thead>\n",
       "    <tr style=\"text-align: right;\">\n",
       "      <th></th>\n",
       "      <th>BCC_126</th>\n",
       "      <th>BCC_370</th>\n",
       "      <th>BCC_585</th>\n",
       "      <th>CNRM_126</th>\n",
       "      <th>CNRM_370</th>\n",
       "      <th>CNRM_585</th>\n",
       "      <th>IPSL_126</th>\n",
       "      <th>IPSL_370</th>\n",
       "      <th>IPSL_585</th>\n",
       "      <th>BCC_126_B12</th>\n",
       "      <th>...</th>\n",
       "      <th>DECLATITUDE</th>\n",
       "      <th>DECLONGITUDE</th>\n",
       "      <th>CURRENT_BIO1</th>\n",
       "      <th>CURRENT_BIO12</th>\n",
       "      <th>srad_12</th>\n",
       "      <th>srad_annual</th>\n",
       "      <th>t_bulk_dens</th>\n",
       "      <th>t_sand</th>\n",
       "      <th>t_soilwater_cap</th>\n",
       "      <th>t_teb</th>\n",
       "    </tr>\n",
       "  </thead>\n",
       "  <tbody>\n",
       "    <tr>\n",
       "      <th>0</th>\n",
       "      <td>119.000006</td>\n",
       "      <td>117.958336</td>\n",
       "      <td>119.875002</td>\n",
       "      <td>115.958338</td>\n",
       "      <td>114.624996</td>\n",
       "      <td>118.333330</td>\n",
       "      <td>115.958328</td>\n",
       "      <td>116.833334</td>\n",
       "      <td>113.458338</td>\n",
       "      <td>584.0</td>\n",
       "      <td>...</td>\n",
       "      <td>44.404167</td>\n",
       "      <td>33.825000</td>\n",
       "      <td>108.059521</td>\n",
       "      <td>562.0</td>\n",
       "      <td>0.554286</td>\n",
       "      <td>12971.75000</td>\n",
       "      <td>1420.675049</td>\n",
       "      <td>0.0</td>\n",
       "      <td>24.950001</td>\n",
       "      <td>0.0</td>\n",
       "    </tr>\n",
       "    <tr>\n",
       "      <th>1</th>\n",
       "      <td>179.874992</td>\n",
       "      <td>181.124992</td>\n",
       "      <td>182.500000</td>\n",
       "      <td>181.333332</td>\n",
       "      <td>179.791660</td>\n",
       "      <td>182.666664</td>\n",
       "      <td>181.333332</td>\n",
       "      <td>182.124996</td>\n",
       "      <td>180.708332</td>\n",
       "      <td>657.0</td>\n",
       "      <td>...</td>\n",
       "      <td>40.063611</td>\n",
       "      <td>18.466389</td>\n",
       "      <td>167.154770</td>\n",
       "      <td>658.0</td>\n",
       "      <td>0.920000</td>\n",
       "      <td>15401.50000</td>\n",
       "      <td>1487.474976</td>\n",
       "      <td>27.0</td>\n",
       "      <td>22.875000</td>\n",
       "      <td>13.4</td>\n",
       "    </tr>\n",
       "    <tr>\n",
       "      <th>2</th>\n",
       "      <td>147.125006</td>\n",
       "      <td>148.083334</td>\n",
       "      <td>150.249996</td>\n",
       "      <td>149.375000</td>\n",
       "      <td>147.458334</td>\n",
       "      <td>150.375004</td>\n",
       "      <td>148.291664</td>\n",
       "      <td>148.958330</td>\n",
       "      <td>147.791662</td>\n",
       "      <td>703.0</td>\n",
       "      <td>...</td>\n",
       "      <td>38.083300</td>\n",
       "      <td>28.200000</td>\n",
       "      <td>143.915005</td>\n",
       "      <td>688.0</td>\n",
       "      <td>0.636400</td>\n",
       "      <td>17663.41602</td>\n",
       "      <td>1498.675049</td>\n",
       "      <td>80.0</td>\n",
       "      <td>22.325001</td>\n",
       "      <td>10.4</td>\n",
       "    </tr>\n",
       "    <tr>\n",
       "      <th>3</th>\n",
       "      <td>161.875000</td>\n",
       "      <td>163.708324</td>\n",
       "      <td>165.541668</td>\n",
       "      <td>163.541660</td>\n",
       "      <td>162.124996</td>\n",
       "      <td>164.624996</td>\n",
       "      <td>163.541660</td>\n",
       "      <td>164.291668</td>\n",
       "      <td>162.666664</td>\n",
       "      <td>584.0</td>\n",
       "      <td>...</td>\n",
       "      <td>40.600000</td>\n",
       "      <td>17.150000</td>\n",
       "      <td>149.216671</td>\n",
       "      <td>584.0</td>\n",
       "      <td>0.838800</td>\n",
       "      <td>15037.66699</td>\n",
       "      <td>1488.724976</td>\n",
       "      <td>42.0</td>\n",
       "      <td>24.775000</td>\n",
       "      <td>14.0</td>\n",
       "    </tr>\n",
       "    <tr>\n",
       "      <th>4</th>\n",
       "      <td>126.250000</td>\n",
       "      <td>128.750000</td>\n",
       "      <td>131.875000</td>\n",
       "      <td>127.791672</td>\n",
       "      <td>126.000004</td>\n",
       "      <td>128.874998</td>\n",
       "      <td>127.458334</td>\n",
       "      <td>129.250002</td>\n",
       "      <td>126.416664</td>\n",
       "      <td>1082.0</td>\n",
       "      <td>...</td>\n",
       "      <td>45.500000</td>\n",
       "      <td>15.570600</td>\n",
       "      <td>110.120001</td>\n",
       "      <td>1041.0</td>\n",
       "      <td>0.548800</td>\n",
       "      <td>12406.50000</td>\n",
       "      <td>1445.849976</td>\n",
       "      <td>79.0</td>\n",
       "      <td>23.600000</td>\n",
       "      <td>11.0</td>\n",
       "    </tr>\n",
       "  </tbody>\n",
       "</table>\n",
       "<p>5 rows × 28 columns</p>\n",
       "</div>"
      ],
      "text/plain": [
       "      BCC_126     BCC_370     BCC_585    CNRM_126    CNRM_370    CNRM_585  \\\n",
       "0  119.000006  117.958336  119.875002  115.958338  114.624996  118.333330   \n",
       "1  179.874992  181.124992  182.500000  181.333332  179.791660  182.666664   \n",
       "2  147.125006  148.083334  150.249996  149.375000  147.458334  150.375004   \n",
       "3  161.875000  163.708324  165.541668  163.541660  162.124996  164.624996   \n",
       "4  126.250000  128.750000  131.875000  127.791672  126.000004  128.874998   \n",
       "\n",
       "     IPSL_126    IPSL_370    IPSL_585  BCC_126_B12  ...  DECLATITUDE  \\\n",
       "0  115.958328  116.833334  113.458338        584.0  ...    44.404167   \n",
       "1  181.333332  182.124996  180.708332        657.0  ...    40.063611   \n",
       "2  148.291664  148.958330  147.791662        703.0  ...    38.083300   \n",
       "3  163.541660  164.291668  162.666664        584.0  ...    40.600000   \n",
       "4  127.458334  129.250002  126.416664       1082.0  ...    45.500000   \n",
       "\n",
       "   DECLONGITUDE  CURRENT_BIO1  CURRENT_BIO12   srad_12  srad_annual  \\\n",
       "0     33.825000    108.059521          562.0  0.554286  12971.75000   \n",
       "1     18.466389    167.154770          658.0  0.920000  15401.50000   \n",
       "2     28.200000    143.915005          688.0  0.636400  17663.41602   \n",
       "3     17.150000    149.216671          584.0  0.838800  15037.66699   \n",
       "4     15.570600    110.120001         1041.0  0.548800  12406.50000   \n",
       "\n",
       "   t_bulk_dens  t_sand  t_soilwater_cap  t_teb  \n",
       "0  1420.675049     0.0        24.950001    0.0  \n",
       "1  1487.474976    27.0        22.875000   13.4  \n",
       "2  1498.675049    80.0        22.325001   10.4  \n",
       "3  1488.724976    42.0        24.775000   14.0  \n",
       "4  1445.849976    79.0        23.600000   11.0  \n",
       "\n",
       "[5 rows x 28 columns]"
      ]
     },
     "execution_count": 21,
     "metadata": {},
     "output_type": "execute_result"
    }
   ],
   "source": [
    "silv_futuro = pd.read_csv(pathdata+\"DatosPrecip/Len_silvestres_futuro_B1_B12.txt\",decimal=',',sep= '\\t')\n",
    "\n",
    "# Me quedo sólo con las columnas relativas a las predicciones de bio_1 y bio_12 de los escenarios futuros\n",
    "silv_futuro = silv_futuro[['bbc_126', 'bbc_370', 'bbc_585',\n",
    "       'CNRM_126', 'CNRM_370', 'CNRM_585', 'IPSL_126', 'IPSL_370', 'IPSL_585',\n",
    "       'BBC_126_B12', 'BBC_370_B12', 'BBC_585_B12', 'IPSL_126_B12',\n",
    "       'IPSL_370_B12', 'IPSL_585_B12', 'CNRM_126_B12', 'CNRM_370_B12',\n",
    "       'CNRM_585_B12',\"DECLATITUD\", \"DECLONGITU\"]]\n",
    "\n",
    "# Renombro y transformo a float columnas para mantener el mismo formato en todos los datasets\n",
    "silv_futuro = silv_futuro.rename(columns={'DECLONGITU': 'DECLONGITUDE', 'DECLATITUD': 'DECLATITUDE','bbc_126': 'BCC_126', 'bbc_370': 'BCC_370', 'bbc_585': 'BCC_585','BBC_126_B12':'BCC_126_B12', 'BBC_370_B12':'BCC_370_B12', 'BBC_585_B12':'BCC_585_B12'})\n",
    "silv_futuro = silv_futuro.applymap(lambda x: float(x))\n",
    "\n",
    "# La temperatura se debe multiplicar por 10 para estar en el mismo orden en todos los datasets. Descarto posibles duplicados\n",
    "# en cuanto a las coordenadas y valores nulos\n",
    "silv_futuro[models] = silv_futuro[models].applymap(lambda x: x * 10)\n",
    "silv_futuro.drop_duplicates(subset = ['DECLONGITUDE','DECLATITUDE'], inplace = True)\n",
    "silv_futuro.dropna(inplace = True)\n",
    "\n",
    "# Para poder disponer de las condiciones de radiación, suelo... Extraigo esos valores del dataset de lentejas silvestres\n",
    "# en el presente mediante el merge\n",
    "silvest_futuro = pd.merge(silv_futuro,lentejas_silvestres, how='inner', on = ['DECLONGITUDE','DECLATITUDE'])\n",
    "silvest_futuro.head()"
   ]
  },
  {
   "cell_type": "code",
   "execution_count": 22,
   "metadata": {},
   "outputs": [
    {
     "data": {
      "text/plain": [
       "(603, 28)"
      ]
     },
     "execution_count": 22,
     "metadata": {},
     "output_type": "execute_result"
    }
   ],
   "source": [
    "silvest_futuro.shape"
   ]
  },
  {
   "cell_type": "markdown",
   "metadata": {
    "id": "SOmfsXZDDMvi"
   },
   "source": [
    "## MODEL TRAIN"
   ]
  },
  {
   "cell_type": "code",
   "execution_count": null,
   "metadata": {
    "colab": {
     "base_uri": "https://localhost:8080/"
    },
    "executionInfo": {
     "elapsed": 40113,
     "status": "ok",
     "timestamp": 1643734078694,
     "user": {
      "displayName": "Icíar Civantos Gómez",
      "photoUrl": "https://lh3.googleusercontent.com/a/default-user=s64",
      "userId": "06033810409542157400"
     },
     "user_tz": -60
    },
    "id": "OQtRf-YjDfnl",
    "outputId": "1c702bbe-464d-4215-c449-81f6a3c38624",
    "scrolled": false
   },
   "outputs": [],
   "source": [
    "warnings.filterwarnings(\"ignore\")\n",
    "\n",
    "index_roya_present = np.array([])\n",
    "pred_values_roya_present = np.array([])\n",
    "\n",
    "index_roya_future = np.array([])\n",
    "results_roya_future_models = pd.Series([])\n",
    "\n",
    "index_silvestes_present = np.array([])\n",
    "silvestres_values_present = np.array([])\n",
    "\n",
    "index_silvestes_future = np.array([])\n",
    "results_silvestre_future_models = pd.Series([])\n",
    "\n",
    "importances_ridge = {}\n",
    "for col in list(roya_presente):\n",
    "    if col!= 'ROYA_CAMPO_AVERAGE_DSR':\n",
    "        importances_ridge[col] = []\n",
    "\n",
    "error_values_ridge = []        \n",
    "\n",
    "nexper = 500\n",
    "for i in range(0, nexper):\n",
    "\n",
    "    # Para realizar la predicción, descartamos la variable objetivo (ROYA_CAMPO_AVERAGE_DSR)\n",
    "    variables_to_ignore = ['ROYA_CAMPO_AVERAGE_DSR']\n",
    "    selected_features = [element for element in list(roya_presente) if element not in variables_to_ignore]\n",
    "    \n",
    "    df_model = roya_presente[selected_features]\n",
    "    \n",
    "    std_scaler = StandardScaler()\n",
    "    \n",
    "    std_scaler_model = std_scaler.fit(df_model)\n",
    "    df_model = std_scaler_model.transform(df_model)\n",
    "    \n",
    "    \n",
    "    \"Division Train Test\"\n",
    "    \n",
    "    X = pd.DataFrame(data = df_model, columns = selected_features)\n",
    "    y = roya_presente.ROYA_CAMPO_AVERAGE_DSR\n",
    "\n",
    "    X_train, X_test, y_train, y_test = train_test_split(X, y, train_size= 0.7)\n",
    "\n",
    "    #Vamos a iterar el modelo 500 veces para quedarnos con el valor del DSR medio en cada predicción. Vamos concatenando en un array los índices que se han seleccionado para la matriz de test\n",
    "    index_roya_present = np.concatenate((index_roya_present, roya_presente.iloc[X_test.index.values].index.values), axis=None)\n",
    "\n",
    "    # Hacemos el entrenamiento del modelo con las lentejas evaluadas por su resistencia a la roya en el presente\n",
    "    \"Ridge\"\n",
    "    clf = RidgeCV(alphas=np.linspace(0.001, 1, 1000)).fit(X, y)\n",
    "    clf.fit(X_train, y_train)\n",
    "    predictions_roya_presente = clf.predict(X_test)\n",
    "    pred_values_roya_present = np.concatenate((pred_values_roya_present, predictions_roya_presente), axis=None)\n",
    "    \n",
    "    # Me quedo con la importancia de cada una de las variables para todas las iteraciones del modelo\n",
    "    for k in range(0, len(selected_features)):\n",
    "        importances_ridge[selected_features[k]].append(clf.coef_[k])\n",
    "    \n",
    "    \n",
    "    rmse_ridge = np.sqrt(mean_squared_error(y_test, predictions_roya_presente))\n",
    "    error_values_ridge.append(rmse_ridge)\n",
    "    \n",
    "##############################################################################################################################\n",
    "############################################ PREDICT ROYA FUTURE #############################################################\n",
    "##############################################################################################################################\n",
    "    results_roya_future_models_concat = pd.Series([])\n",
    "\n",
    "    # Llamamos a la función para predecir el DSR de las lentejas en el futuro\n",
    "    future_index, results_roya_future = predict_future(clf, std_scaler_model, roya_futuro, models)\n",
    "    \n",
    "    # Voy almacenando en una lista todos los índices y las predicciones que me va devolviendo la función\n",
    "    index_roya_future = np.concatenate((index_roya_future, future_index), axis=None)\n",
    "\n",
    "    # En este caso, lo que me devuelve la función es un diccionario. Necesito que para cada clave me genere una columna\n",
    "    # diferente en un dataframe. De esta forma tengo un dataframe en el que almaceno, para cada columna, las predicciones\n",
    "    # de cada uno de los modelos\n",
    "    for m in models:\n",
    "        results_roya_future_models_concat = pd.concat([results_roya_future_models_concat, pd.Series(results_roya_future[m])], axis = 1)\n",
    "\n",
    "    # Renombro las columnas con el nombre de los modelos y borro la primera columna que se había generado automáticamente\n",
    "    # con valores nulos\n",
    "    results_roya_future_models_concat.columns = ['to_drop'] + models\n",
    "    results_roya_future_models_concat.drop('to_drop', axis = 1, inplace = True)\n",
    "\n",
    "    # Ese dataframe con las predicciones de cada modelo lo voy concatenando en cada iteración para tener un dataframe\n",
    "    # con todas las predicciones de todos los modelos para todas las iteraciones\n",
    "    results_roya_future_models = pd.concat([results_roya_future_models, results_roya_future_models_concat])\n",
    "    \n",
    "    \n",
    "##############################################################################################################################\n",
    "############################################ PREDICT SILVESTRES PRESENT ######################################################\n",
    "##############################################################################################################################\n",
    "\n",
    "    # Llamamos a la función para predecir el DSR de las lentejas silvestres en el presente\n",
    "    silvestres_present_index, results_silvestres_present = silvestres_predict_present(clf, std_scaler_model, lentejas_silvestres)\n",
    "    \n",
    "    # Voy almacenando en una lista todos los índices y las predicciones que me va devolviendo la función\n",
    "    index_silvestes_present = np.concatenate((index_silvestes_present, silvestres_present_index), axis=None)\n",
    "    silvestres_values_present = np.concatenate((silvestres_values_present, results_silvestres_present), axis=None)\n",
    "    \n",
    "##############################################################################################################################\n",
    "############################################ PREDICT SILVESTRES FUTURE #######################################################\n",
    "##############################################################################################################################\n",
    "    \n",
    "    results_silvestre_future_models_concat = pd.Series([])\n",
    "    \n",
    "    # Llamamos a la función para predecir el DSR de las lentejas en el futuro. El procedimiento es el mismo\n",
    "    # que para el caso de las lentejas evaluadas por su resistencia a la roya\n",
    "    silvestre_future_index, results_silvestres_futuro = predict_future(clf, std_scaler_model, silvest_futuro, models)\n",
    "    index_silvestes_future = np.concatenate((index_silvestes_future, silvestre_future_index), axis=None)\n",
    "\n",
    "    for m in models:\n",
    "        results_silvestre_future_models_concat = pd.concat([results_silvestre_future_models_concat, pd.Series(results_silvestres_futuro[m])], axis = 1)\n",
    "    \n",
    "    results_silvestre_future_models_concat.columns = ['to_drop'] + models\n",
    "    results_silvestre_future_models_concat.drop('to_drop', axis = 1, inplace = True)\n",
    "\n",
    "    results_silvestre_future_models = pd.concat([results_silvestre_future_models, results_silvestre_future_models_concat])"
   ]
  },
  {
   "cell_type": "markdown",
   "metadata": {},
   "source": [
    "## RMSE RIDGE"
   ]
  },
  {
   "cell_type": "code",
   "execution_count": null,
   "metadata": {},
   "outputs": [],
   "source": [
    "arr = [error_values_ridge]\n",
    "box = plt.boxplot(arr,labels=['Ridge'])\n",
    "plt.show()\n",
    "\n",
    "print(\"Ridge RMSE mean\",np.mean(error_values_ridge))"
   ]
  },
  {
   "cell_type": "markdown",
   "metadata": {},
   "source": [
    "## Feature Importance"
   ]
  },
  {
   "cell_type": "code",
   "execution_count": null,
   "metadata": {},
   "outputs": [],
   "source": [
    "importances_ridge_avg = {}\n",
    "\n",
    "for k,v in importances_ridge.items():\n",
    "    v_abs = [np.abs(val) for val in v]\n",
    "    importances_ridge_avg[str(k)] = np.mean(v_abs)\n",
    "\n",
    "{k: v for k, v in sorted(importances_ridge_avg.items(), key=lambda item: item[1])}"
   ]
  },
  {
   "cell_type": "code",
   "execution_count": null,
   "metadata": {},
   "outputs": [],
   "source": [
    "df = pd.DataFrame(data=importances_ridge)\n",
    "df = (df.T)\n",
    "df.to_excel(pathresults+\"/feature_importances.xlsx\", index=False)"
   ]
  },
  {
   "cell_type": "markdown",
   "metadata": {
    "id": "iemYwLwHA_1H"
   },
   "source": [
    "## Resultados Data Lenteja Roya Presente"
   ]
  },
  {
   "cell_type": "code",
   "execution_count": null,
   "metadata": {},
   "outputs": [],
   "source": [
    "# Generamos un DF con los resultados para cada una de las iteraciones\n",
    "results_roya_present = pd.concat([pd.Series(index_roya_present), pd.Series(pred_values_roya_present)], axis = 1)\n",
    "results_roya_present.columns = ['test_index', 'DSR_prediction']\n",
    "results_roya_present.head()\n",
    "\n",
    "# Con el objetivo de conocer a qué especies corresponden, asociamos el índice con las coordenadas correspondientes\n",
    "results_roya_present_loc = pd.merge(results_roya_present, roya_presente[['DECLATITUDE','DECLONGITUDE']].reset_index(), how = 'left', left_on=['test_index'],right_on=['index'])\n",
    "results_roya_present_loc.to_excel(pathresults+\"/Roya_Presente_all_iter.xlsx\", index=False)"
   ]
  },
  {
   "cell_type": "code",
   "execution_count": null,
   "metadata": {},
   "outputs": [],
   "source": [
    "# Calculamos la mediana de cada una de las predicciones para conocer el DSR promedio\n",
    "avg_results_roya_present = results_roya_present.groupby('test_index').median()\n",
    "avg_results_roya_present.head()\n",
    "\n",
    "# Con el objetivo de conocer a qué especies corresponden, asociamos el índice con las coordenadas correspondientes\n",
    "results_roya_presente_loc = avg_results_roya_present.join(roya_presente[['DECLATITUDE','DECLONGITUDE','ROYA_CAMPO_AVERAGE_DSR']])\n",
    "results_roya_presente_loc.to_excel(pathresults+\"/Roya_Presente_avg.xlsx\", index=False)\n",
    "results_roya_presente_loc.head()"
   ]
  },
  {
   "cell_type": "code",
   "execution_count": null,
   "metadata": {
    "colab": {
     "base_uri": "https://localhost:8080/",
     "height": 542
    },
    "executionInfo": {
     "elapsed": 519,
     "status": "ok",
     "timestamp": 1643734079202,
     "user": {
      "displayName": "Icíar Civantos Gómez",
      "photoUrl": "https://lh3.googleusercontent.com/a/default-user=s64",
      "userId": "06033810409542157400"
     },
     "user_tz": -60
    },
    "id": "PUfayMqtEGIv",
    "outputId": "6ae09478-45f9-4557-88f4-90335050bd33",
    "scrolled": true
   },
   "outputs": [],
   "source": [
    "fig = px.scatter_geo(results_roya_presente_loc, lat=\"DECLATITUDE\", lon=\"DECLONGITUDE\", color=\"DSR_prediction\")\n",
    "fig.show()"
   ]
  },
  {
   "cell_type": "markdown",
   "metadata": {
    "id": "oQi4iQE8YIlJ"
   },
   "source": [
    "## Resultados Data Lentejas Roya Futuro"
   ]
  },
  {
   "cell_type": "code",
   "execution_count": null,
   "metadata": {},
   "outputs": [],
   "source": [
    "# Generamos un DF con los resultados para cada una de las iteraciones\n",
    "results_roya_future_models.drop(0, axis = 1, inplace = True)\n",
    "results_roya_future_models['test_index'] = index_roya_future\n",
    "results_roya_future_models.head()\n",
    "\n",
    "# Con el objetivo de conocer a qué especies corresponden, asociamos el índice con las coordenadas correspondientes\n",
    "results_roya_future_loc = pd.merge(results_roya_future_models, roya_presente[['DECLATITUDE','DECLONGITUDE']].reset_index(), how = 'left', left_on=['test_index'],right_on=['index'])\n",
    "results_roya_future_loc.to_excel(pathresults+\"/Roya_Future_all_iter.xlsx\", index=False)\n",
    "results_roya_future_loc.head()"
   ]
  },
  {
   "cell_type": "code",
   "execution_count": null,
   "metadata": {},
   "outputs": [],
   "source": [
    "avg_results_roya_future = results_roya_future_models.groupby('test_index').median()\n",
    "avg_results_roya_future.head()\n",
    "\n",
    "results_roya_future_loc = avg_results_roya_future.join(roya_presente[['DECLATITUDE','DECLONGITUDE','ROYA_CAMPO_AVERAGE_DSR']])\n",
    "results_roya_future_loc.to_excel(pathresults+\"/Roya_Future_avg.xlsx\", index=False)\n",
    "results_roya_future_loc.head()"
   ]
  },
  {
   "cell_type": "code",
   "execution_count": null,
   "metadata": {
    "colab": {
     "base_uri": "https://localhost:8080/",
     "height": 1000
    },
    "executionInfo": {
     "elapsed": 684,
     "status": "ok",
     "timestamp": 1643734079880,
     "user": {
      "displayName": "Icíar Civantos Gómez",
      "photoUrl": "https://lh3.googleusercontent.com/a/default-user=s64",
      "userId": "06033810409542157400"
     },
     "user_tz": -60
    },
    "id": "JkKRDDYAYPoW",
    "outputId": "37287399-9034-4608-9e20-26f714fe9251"
   },
   "outputs": [],
   "source": [
    "for m in models:\n",
    "\n",
    "    print(\"-------------------------------------------------------------------\")\n",
    "    print(\"-------------------------------------------------------------------\")\n",
    "    print(\"-------------------------------------------------------------------\")\n",
    "    print(\"----------------------------\"+str(m)+\"---------------------------\")\n",
    "    print(\"-------------------------------------------------------------------\")\n",
    "    print(\"-------------------------------------------------------------------\")\n",
    "    print(\"-------------------------------------------------------------------\")\n",
    "\n",
    "    \n",
    "    fig = px.scatter_geo(results_roya_future_loc, lat=\"DECLATITUDE\", lon=\"DECLONGITUDE\", color= results_roya_future_loc[m] - results_roya_future_loc['ROYA_CAMPO_AVERAGE_DSR'])\n",
    "    fig.show()\n"
   ]
  },
  {
   "cell_type": "markdown",
   "metadata": {
    "id": "QUhGWcCsD6jf"
   },
   "source": [
    "## Resultados Lentejas Silvestres Presente"
   ]
  },
  {
   "cell_type": "code",
   "execution_count": null,
   "metadata": {},
   "outputs": [],
   "source": [
    "results_present_silvestres = pd.concat([pd.Series(index_silvestes_present), pd.Series(silvestres_values_present)], axis = 1)\n",
    "results_present_silvestres.columns = ['test_index', 'DSR_prediction']\n",
    "\n",
    "results_present_silvestres_loc = pd.merge(results_present_silvestres, lentejas_silvestres[['DECLATITUDE','DECLONGITUDE']].reset_index(), how = 'left', left_on=['test_index'],right_on=['index'])\n",
    "results_present_silvestres_loc.to_excel(pathresults+\"/Silvestres_Presente_alliter.xlsx\", index=False)\n",
    "\n"
   ]
  },
  {
   "cell_type": "code",
   "execution_count": null,
   "metadata": {},
   "outputs": [],
   "source": [
    "avg_present_silvestres = results_present_silvestres.groupby('test_index').median()\n",
    "avg_present_silvestres.head()\n",
    "\n",
    "results_silv_present_loc = avg_present_silvestres.join(lentejas_silvestres[['DECLATITUDE','DECLONGITUDE']])\n",
    "results_silv_present_loc.to_excel(pathresults+\"/Silvestres_Presente_avg.xlsx\", index=False)\n",
    "results_silv_present_loc.head()"
   ]
  },
  {
   "cell_type": "code",
   "execution_count": null,
   "metadata": {
    "colab": {
     "base_uri": "https://localhost:8080/",
     "height": 542
    },
    "executionInfo": {
     "elapsed": 11,
     "status": "ok",
     "timestamp": 1643734079880,
     "user": {
      "displayName": "Icíar Civantos Gómez",
      "photoUrl": "https://lh3.googleusercontent.com/a/default-user=s64",
      "userId": "06033810409542157400"
     },
     "user_tz": -60
    },
    "id": "qsVJpcHFD9iH",
    "outputId": "8824f39f-9edc-4dd5-d49d-e1a90d058838",
    "scrolled": true
   },
   "outputs": [],
   "source": [
    "fig = px.scatter_geo(results_silv_present_loc, lat=\"DECLATITUDE\", lon=\"DECLONGITUDE\", color=\"DSR_prediction\")\n",
    "fig.show()"
   ]
  },
  {
   "cell_type": "markdown",
   "metadata": {
    "id": "w_N-EcfxJHu3"
   },
   "source": [
    "## Resultados Lentejas Silvestres Futuro"
   ]
  },
  {
   "cell_type": "code",
   "execution_count": null,
   "metadata": {},
   "outputs": [],
   "source": [
    "results_silvestre_future_models.drop(0, axis = 1, inplace = True)\n",
    "results_silvestre_future_models['test_index'] = index_silvestes_future\n",
    "results_silvestre_future_models.head()\n",
    "\n",
    "results_silvestre_future_models_loc = pd.merge(results_silvestre_future_models, silvest_futuro[['DECLATITUDE','DECLONGITUDE']].reset_index(), how = 'left', left_on=['test_index'],right_on=['index'])\n",
    "results_silvestre_future_models_loc.to_excel(pathresults+\"/Silvestres_Future_alliter.xlsx\", index=False)"
   ]
  },
  {
   "cell_type": "code",
   "execution_count": null,
   "metadata": {},
   "outputs": [],
   "source": [
    "avg_future_results_silvestre = results_silvestre_future_models.groupby('test_index').median()\n",
    "avg_future_results_silvestre.head()\n",
    "\n",
    "results_silv_future_loc = avg_future_results_silvestre.join(results_silv_present_loc)\n",
    "results_silv_future_loc.to_excel(pathresults+\"/Silvestres_Future_avg.xlsx\", index=False)\n",
    "results_silv_future_loc.head()"
   ]
  },
  {
   "cell_type": "code",
   "execution_count": null,
   "metadata": {},
   "outputs": [],
   "source": [
    "for m in models:\n",
    "\n",
    "    print(\"-------------------------------------------------------------------\")\n",
    "    print(\"-------------------------------------------------------------------\")\n",
    "    print(\"-------------------------------------------------------------------\")\n",
    "    print(\"----------------------------\"+str(m)+\"---------------------------\")\n",
    "    print(\"-------------------------------------------------------------------\")\n",
    "    print(\"-------------------------------------------------------------------\")\n",
    "    print(\"-------------------------------------------------------------------\")\n",
    "    \n",
    "    results_silv_future_loc.to_excel(pathresults+\"/Silvestres_Futuro_\"+m+\".xlsx\", index=False)\n",
    "    fig = px.scatter_geo(results_silv_future_loc, lat=\"DECLATITUDE\", lon=\"DECLONGITUDE\", color= results_silv_future_loc[m])\n",
    "    fig.show()\n"
   ]
  },
  {
   "cell_type": "code",
   "execution_count": null,
   "metadata": {
    "colab": {
     "base_uri": "https://localhost:8080/",
     "height": 1000
    },
    "executionInfo": {
     "elapsed": 785,
     "status": "ok",
     "timestamp": 1643734080656,
     "user": {
      "displayName": "Icíar Civantos Gómez",
      "photoUrl": "https://lh3.googleusercontent.com/a/default-user=s64",
      "userId": "06033810409542157400"
     },
     "user_tz": -60
    },
    "id": "a_ntVMUWLS6p",
    "outputId": "44afbfae-197f-47a4-e3ca-125588768868"
   },
   "outputs": [],
   "source": [
    "for m in models:\n",
    "\n",
    "    print(\"-------------------------------------------------------------------\")\n",
    "    print(\"-------------------------------------------------------------------\")\n",
    "    print(\"-------------------------------------------------------------------\")\n",
    "    print(\"----------------------------\"+str(m)+\"---------------------------\")\n",
    "    print(\"-------------------------------------------------------------------\")\n",
    "    print(\"-------------------------------------------------------------------\")\n",
    "    print(\"-------------------------------------------------------------------\")\n",
    "    \n",
    "    results_silv_future_loc.to_excel(pathresults+\"/Silvestres_Futuro_\"+m+\".xlsx\", index=False)\n",
    "    fig = px.scatter_geo(results_silv_future_loc, lat=\"DECLATITUDE\", lon=\"DECLONGITUDE\", color= results_silv_future_loc[m] - results_silv_future_loc['DSR_prediction'])\n",
    "    fig.show()\n"
   ]
  },
  {
   "cell_type": "code",
   "execution_count": null,
   "metadata": {},
   "outputs": [],
   "source": []
  },
  {
   "cell_type": "code",
   "execution_count": null,
   "metadata": {},
   "outputs": [],
   "source": []
  },
  {
   "cell_type": "code",
   "execution_count": null,
   "metadata": {},
   "outputs": [],
   "source": []
  }
 ],
 "metadata": {
  "colab": {
   "collapsed_sections": [],
   "name": "future_lens_resistance_all_models_V4.ipynb",
   "provenance": [
    {
     "file_id": "1lsg6ARnGBPb9uI0_N7vNB28FY-CaX-OM",
     "timestamp": 1622199618351
    }
   ]
  },
  "kernelspec": {
   "display_name": "Python 3 (ipykernel)",
   "language": "python",
   "name": "python3"
  },
  "language_info": {
   "codemirror_mode": {
    "name": "ipython",
    "version": 3
   },
   "file_extension": ".py",
   "mimetype": "text/x-python",
   "name": "python",
   "nbconvert_exporter": "python",
   "pygments_lexer": "ipython3",
   "version": "3.9.7"
  }
 },
 "nbformat": 4,
 "nbformat_minor": 1
}
